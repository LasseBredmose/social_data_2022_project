{
 "cells": [
  {
   "cell_type": "code",
   "metadata": {
    "tags": [],
    "cell_id": "817d530a-18df-4d21-a046-51868233cd5a",
    "deepnote_to_be_reexecuted": false,
    "source_hash": "efaa6156",
    "execution_start": 1648641963869,
    "execution_millis": 3,
    "deepnote_cell_type": "code",
    "deepnote_cell_height": 99
   },
   "source": "import requests\nimport pandas as pd",
   "execution_count": 23,
   "outputs": []
  },
  {
   "cell_type": "code",
   "source": "df_trafik = pd.read_csv('data/trafiktaelling.csv')\n\ndf_trafik",
   "metadata": {
    "cell_id": "a1f25b6113fe47cc812b3d639003c0eb",
    "tags": [],
    "deepnote_to_be_reexecuted": false,
    "source_hash": "9eb12cb2",
    "execution_start": 1648641990721,
    "execution_millis": 220,
    "deepnote_cell_type": "code",
    "deepnote_cell_height": 117
   },
   "outputs": [
    {
     "output_type": "execute_result",
     "execution_count": 26,
     "data": {
      "application/vnd.deepnote.dataframe.v3+json": {
       "column_count": 36,
       "row_count": 1077,
       "columns": [
        {
         "name": "FID",
         "dtype": "object",
         "stats": {
          "unique_count": 1077,
          "nan_count": 0,
          "categories": [
           {
            "name": "trafiktaelling.1",
            "count": 1
           },
           {
            "name": "trafiktaelling.2",
            "count": 1
           },
           {
            "name": "1075 others",
            "count": 1075
           }
          ]
         }
        },
        {
         "name": "t_nr",
         "dtype": "int64",
         "stats": {
          "unique_count": 1067,
          "nan_count": 0,
          "min": "1",
          "max": "10199",
          "histogram": [
           {
            "bin_start": 1,
            "bin_end": 1020.8,
            "count": 484
           },
           {
            "bin_start": 1020.8,
            "bin_end": 2040.6,
            "count": 0
           },
           {
            "bin_start": 2040.6,
            "bin_end": 3060.3999999999996,
            "count": 1
           },
           {
            "bin_start": 3060.3999999999996,
            "bin_end": 4080.2,
            "count": 2
           },
           {
            "bin_start": 4080.2,
            "bin_end": 5100,
            "count": 0
           },
           {
            "bin_start": 5100,
            "bin_end": 6119.799999999999,
            "count": 0
           },
           {
            "bin_start": 6119.799999999999,
            "bin_end": 7139.599999999999,
            "count": 58
           },
           {
            "bin_start": 7139.599999999999,
            "bin_end": 8159.4,
            "count": 92
           },
           {
            "bin_start": 8159.4,
            "bin_end": 9179.199999999999,
            "count": 33
           },
           {
            "bin_start": 9179.199999999999,
            "bin_end": 10199,
            "count": 407
           }
          ]
         }
        },
        {
         "name": "vejnavn",
         "dtype": "object",
         "stats": {
          "unique_count": 710,
          "nan_count": 0,
          "categories": [
           {
            "name": "Tagensvej",
            "count": 16
           },
           {
            "name": "Østerbrogade",
            "count": 12
           },
           {
            "name": "708 others",
            "count": 1049
           }
          ]
         }
        },
        {
         "name": "beskrivelse",
         "dtype": "object",
         "stats": {
          "unique_count": 560,
          "nan_count": 154,
          "categories": [
           {
            "name": "FOD",
            "count": 46
           },
           {
            "name": "559 others",
            "count": 877
           },
           {
            "name": "Missing",
            "count": 154
           }
          ]
         }
        },
        {
         "name": "husnummer",
         "dtype": "object",
         "stats": {
          "unique_count": 277,
          "nan_count": 317,
          "categories": [
           {
            "name": "-",
            "count": 36
           },
           {
            "name": "276 others",
            "count": 724
           },
           {
            "name": "Missing",
            "count": 317
           }
          ]
         }
        },
        {
         "name": "type",
         "dtype": "float64",
         "stats": {
          "unique_count": 7,
          "nan_count": 1,
          "min": "1.0",
          "max": "9999.0",
          "histogram": [
           {
            "bin_start": 1,
            "bin_end": 1000.8,
            "count": 1075
           },
           {
            "bin_start": 1000.8,
            "bin_end": 2000.6,
            "count": 0
           },
           {
            "bin_start": 2000.6,
            "bin_end": 3000.3999999999996,
            "count": 0
           },
           {
            "bin_start": 3000.3999999999996,
            "bin_end": 4000.2,
            "count": 0
           },
           {
            "bin_start": 4000.2,
            "bin_end": 5000,
            "count": 0
           },
           {
            "bin_start": 5000,
            "bin_end": 5999.799999999999,
            "count": 0
           },
           {
            "bin_start": 5999.799999999999,
            "bin_end": 6999.599999999999,
            "count": 0
           },
           {
            "bin_start": 6999.599999999999,
            "bin_end": 7999.4,
            "count": 0
           },
           {
            "bin_start": 7999.4,
            "bin_end": 8999.199999999999,
            "count": 0
           },
           {
            "bin_start": 8999.199999999999,
            "bin_end": 9999,
            "count": 1
           }
          ]
         }
        },
        {
         "name": "taelling_type",
         "dtype": "object",
         "stats": {
          "unique_count": 6,
          "nan_count": 0,
          "categories": [
           {
            "name": "Øvrige tællinger",
            "count": 569
           },
           {
            "name": "Andre faste tællinger",
            "count": 230
           },
           {
            "name": "4 others",
            "count": 278
           }
          ]
         }
        },
        {
         "name": "ktj_7_19",
         "dtype": "float64",
         "stats": {
          "unique_count": 465,
          "nan_count": 539,
          "min": "0.0",
          "max": "69382.0",
          "histogram": [
           {
            "bin_start": 0,
            "bin_end": 6938.2,
            "count": 331
           },
           {
            "bin_start": 6938.2,
            "bin_end": 13876.4,
            "count": 114
           },
           {
            "bin_start": 13876.4,
            "bin_end": 20814.6,
            "count": 56
           },
           {
            "bin_start": 20814.6,
            "bin_end": 27752.8,
            "count": 12
           },
           {
            "bin_start": 27752.8,
            "bin_end": 34691,
            "count": 8
           },
           {
            "bin_start": 34691,
            "bin_end": 41629.2,
            "count": 7
           },
           {
            "bin_start": 41629.2,
            "bin_end": 48567.4,
            "count": 7
           },
           {
            "bin_start": 48567.4,
            "bin_end": 55505.6,
            "count": 1
           },
           {
            "bin_start": 55505.6,
            "bin_end": 62443.799999999996,
            "count": 1
           },
           {
            "bin_start": 62443.799999999996,
            "bin_end": 69382,
            "count": 1
           }
          ]
         }
        },
        {
         "name": "tung_pct",
         "dtype": "object",
         "stats": {
          "unique_count": 122,
          "nan_count": 581,
          "categories": [
           {
            "name": "3,8",
            "count": 16
           },
           {
            "name": "121 others",
            "count": 480
           },
           {
            "name": "Missing",
            "count": 581
           }
          ]
         }
        },
        {
         "name": "aadt_koretojer",
         "dtype": "float64",
         "stats": {
          "unique_count": 211,
          "nan_count": 539,
          "min": "0.0",
          "max": "81200.0",
          "histogram": [
           {
            "bin_start": 0,
            "bin_end": 8120,
            "count": 331
           },
           {
            "bin_start": 8120,
            "bin_end": 16240,
            "count": 114
           },
           {
            "bin_start": 16240,
            "bin_end": 24360,
            "count": 56
           },
           {
            "bin_start": 24360,
            "bin_end": 32480,
            "count": 12
           },
           {
            "bin_start": 32480,
            "bin_end": 40600,
            "count": 8
           },
           {
            "bin_start": 40600,
            "bin_end": 48720,
            "count": 7
           },
           {
            "bin_start": 48720,
            "bin_end": 56840,
            "count": 7
           },
           {
            "bin_start": 56840,
            "bin_end": 64960,
            "count": 1
           },
           {
            "bin_start": 64960,
            "bin_end": 73080,
            "count": 1
           },
           {
            "bin_start": 73080,
            "bin_end": 81200,
            "count": 1
           }
          ]
         }
        },
        {
         "name": "hvdt_koretojer",
         "dtype": "float64",
         "stats": {
          "unique_count": 222,
          "nan_count": 539,
          "min": "0.0",
          "max": "90900.0",
          "histogram": [
           {
            "bin_start": 0,
            "bin_end": 9090,
            "count": 331
           },
           {
            "bin_start": 9090,
            "bin_end": 18180,
            "count": 113
           },
           {
            "bin_start": 18180,
            "bin_end": 27270,
            "count": 57
           },
           {
            "bin_start": 27270,
            "bin_end": 36360,
            "count": 12
           },
           {
            "bin_start": 36360,
            "bin_end": 45450,
            "count": 8
           },
           {
            "bin_start": 45450,
            "bin_end": 54540,
            "count": 7
           },
           {
            "bin_start": 54540,
            "bin_end": 63630,
            "count": 7
           },
           {
            "bin_start": 63630,
            "bin_end": 72720,
            "count": 1
           },
           {
            "bin_start": 72720,
            "bin_end": 81810,
            "count": 1
           },
           {
            "bin_start": 81810,
            "bin_end": 90900,
            "count": 1
           }
          ]
         }
        },
        {
         "name": "cykler_7_19",
         "dtype": "float64",
         "stats": {
          "unique_count": 504,
          "nan_count": 472,
          "min": "0.0",
          "max": "37752.0",
          "histogram": [
           {
            "bin_start": 0,
            "bin_end": 3775.2,
            "count": 373
           },
           {
            "bin_start": 3775.2,
            "bin_end": 7550.4,
            "count": 144
           },
           {
            "bin_start": 7550.4,
            "bin_end": 11325.599999999999,
            "count": 56
           },
           {
            "bin_start": 11325.599999999999,
            "bin_end": 15100.8,
            "count": 14
           },
           {
            "bin_start": 15100.8,
            "bin_end": 18876,
            "count": 8
           },
           {
            "bin_start": 18876,
            "bin_end": 22651.199999999997,
            "count": 6
           },
           {
            "bin_start": 22651.199999999997,
            "bin_end": 26426.399999999998,
            "count": 3
           },
           {
            "bin_start": 26426.399999999998,
            "bin_end": 30201.6,
            "count": 0
           },
           {
            "bin_start": 30201.6,
            "bin_end": 33976.799999999996,
            "count": 0
           },
           {
            "bin_start": 33976.799999999996,
            "bin_end": 37752,
            "count": 1
           }
          ]
         }
        },
        {
         "name": "ladcykler_pct",
         "dtype": "object",
         "stats": {
          "unique_count": 60,
          "nan_count": 744,
          "categories": [
           {
            "name": "2,5",
            "count": 18
           },
           {
            "name": "59 others",
            "count": 315
           },
           {
            "name": "Missing",
            "count": 744
           }
          ]
         }
        },
        {
         "name": "aadt_cykler",
         "dtype": "float64",
         "stats": {
          "unique_count": 140,
          "nan_count": 472,
          "min": "0.0",
          "max": "38900.0",
          "histogram": [
           {
            "bin_start": 0,
            "bin_end": 3890,
            "count": 373
           },
           {
            "bin_start": 3890,
            "bin_end": 7780,
            "count": 143
           },
           {
            "bin_start": 7780,
            "bin_end": 11670,
            "count": 56
           },
           {
            "bin_start": 11670,
            "bin_end": 15560,
            "count": 15
           },
           {
            "bin_start": 15560,
            "bin_end": 19450,
            "count": 8
           },
           {
            "bin_start": 19450,
            "bin_end": 23340,
            "count": 6
           },
           {
            "bin_start": 23340,
            "bin_end": 27230,
            "count": 3
           },
           {
            "bin_start": 27230,
            "bin_end": 31120,
            "count": 0
           },
           {
            "bin_start": 31120,
            "bin_end": 35010,
            "count": 0
           },
           {
            "bin_start": 35010,
            "bin_end": 38900,
            "count": 1
           }
          ]
         }
        },
        {
         "name": "hvdt_cykler",
         "dtype": "float64",
         "stats": {
          "unique_count": 151,
          "nan_count": 472,
          "min": "0.0",
          "max": "46100.0",
          "histogram": [
           {
            "bin_start": 0,
            "bin_end": 4610,
            "count": 375
           },
           {
            "bin_start": 4610,
            "bin_end": 9220,
            "count": 142
           },
           {
            "bin_start": 9220,
            "bin_end": 13830,
            "count": 56
           },
           {
            "bin_start": 13830,
            "bin_end": 18440,
            "count": 14
           },
           {
            "bin_start": 18440,
            "bin_end": 23050,
            "count": 8
           },
           {
            "bin_start": 23050,
            "bin_end": 27660,
            "count": 6
           },
           {
            "bin_start": 27660,
            "bin_end": 32270,
            "count": 3
           },
           {
            "bin_start": 32270,
            "bin_end": 36880,
            "count": 0
           },
           {
            "bin_start": 36880,
            "bin_end": 41490,
            "count": 0
           },
           {
            "bin_start": 41490,
            "bin_end": 46100,
            "count": 1
           }
          ]
         }
        },
        {
         "name": "fod_7_19",
         "dtype": "float64",
         "stats": {
          "unique_count": 312,
          "nan_count": 745,
          "min": "41.0",
          "max": "35606.0",
          "histogram": [
           {
            "bin_start": 41,
            "bin_end": 3597.5,
            "count": 228
           },
           {
            "bin_start": 3597.5,
            "bin_end": 7154,
            "count": 68
           },
           {
            "bin_start": 7154,
            "bin_end": 10710.5,
            "count": 23
           },
           {
            "bin_start": 10710.5,
            "bin_end": 14267,
            "count": 4
           },
           {
            "bin_start": 14267,
            "bin_end": 17823.5,
            "count": 1
           },
           {
            "bin_start": 17823.5,
            "bin_end": 21380,
            "count": 2
           },
           {
            "bin_start": 21380,
            "bin_end": 24936.5,
            "count": 2
           },
           {
            "bin_start": 24936.5,
            "bin_end": 28493,
            "count": 2
           },
           {
            "bin_start": 28493,
            "bin_end": 32049.5,
            "count": 1
           },
           {
            "bin_start": 32049.5,
            "bin_end": 35606,
            "count": 1
           }
          ]
         }
        },
        {
         "name": "aadt_fod_7_19",
         "dtype": "float64",
         "stats": {
          "unique_count": 100,
          "nan_count": 745,
          "min": "0.0",
          "max": "41700.0",
          "histogram": [
           {
            "bin_start": 0,
            "bin_end": 4170,
            "count": 227
           },
           {
            "bin_start": 4170,
            "bin_end": 8340,
            "count": 69
           },
           {
            "bin_start": 8340,
            "bin_end": 12510,
            "count": 23
           },
           {
            "bin_start": 12510,
            "bin_end": 16680,
            "count": 4
           },
           {
            "bin_start": 16680,
            "bin_end": 20850,
            "count": 1
           },
           {
            "bin_start": 20850,
            "bin_end": 25020,
            "count": 2
           },
           {
            "bin_start": 25020,
            "bin_end": 29190,
            "count": 2
           },
           {
            "bin_start": 29190,
            "bin_end": 33360,
            "count": 2
           },
           {
            "bin_start": 33360,
            "bin_end": 37530,
            "count": 1
           },
           {
            "bin_start": 37530,
            "bin_end": 41700,
            "count": 1
           }
          ]
         }
        },
        {
         "name": "hvdt_fod_7_19",
         "dtype": "float64",
         "stats": {
          "unique_count": 99,
          "nan_count": 745,
          "min": "0.0",
          "max": "43100.0",
          "histogram": [
           {
            "bin_start": 0,
            "bin_end": 4310,
            "count": 228
           },
           {
            "bin_start": 4310,
            "bin_end": 8620,
            "count": 68
           },
           {
            "bin_start": 8620,
            "bin_end": 12930,
            "count": 23
           },
           {
            "bin_start": 12930,
            "bin_end": 17240,
            "count": 4
           },
           {
            "bin_start": 17240,
            "bin_end": 21550,
            "count": 1
           },
           {
            "bin_start": 21550,
            "bin_end": 25860,
            "count": 2
           },
           {
            "bin_start": 25860,
            "bin_end": 30170,
            "count": 2
           },
           {
            "bin_start": 30170,
            "bin_end": 34480,
            "count": 2
           },
           {
            "bin_start": 34480,
            "bin_end": 38790,
            "count": 1
           },
           {
            "bin_start": 38790,
            "bin_end": 43100,
            "count": 1
           }
          ]
         }
        },
        {
         "name": "fod_7_21",
         "dtype": "float64",
         "stats": {
          "unique_count": 0,
          "nan_count": 1077,
          "min": null,
          "max": null,
          "histogram": [
           {
            "bin_start": 0,
            "bin_end": 0.1,
            "count": 0
           },
           {
            "bin_start": 0.1,
            "bin_end": 0.2,
            "count": 0
           },
           {
            "bin_start": 0.2,
            "bin_end": 0.30000000000000004,
            "count": 0
           },
           {
            "bin_start": 0.30000000000000004,
            "bin_end": 0.4,
            "count": 0
           },
           {
            "bin_start": 0.4,
            "bin_end": 0.5,
            "count": 0
           },
           {
            "bin_start": 0.5,
            "bin_end": 0.6000000000000001,
            "count": 0
           },
           {
            "bin_start": 0.6000000000000001,
            "bin_end": 0.7000000000000001,
            "count": 0
           },
           {
            "bin_start": 0.7000000000000001,
            "bin_end": 0.8,
            "count": 0
           },
           {
            "bin_start": 0.8,
            "bin_end": 0.9,
            "count": 0
           },
           {
            "bin_start": 0.9,
            "bin_end": 1,
            "count": 0
           }
          ]
         }
        },
        {
         "name": "aadt_fod_7_21",
         "dtype": "float64",
         "stats": {
          "unique_count": 0,
          "nan_count": 1077,
          "min": null,
          "max": null,
          "histogram": [
           {
            "bin_start": 0,
            "bin_end": 0.1,
            "count": 0
           },
           {
            "bin_start": 0.1,
            "bin_end": 0.2,
            "count": 0
           },
           {
            "bin_start": 0.2,
            "bin_end": 0.30000000000000004,
            "count": 0
           },
           {
            "bin_start": 0.30000000000000004,
            "bin_end": 0.4,
            "count": 0
           },
           {
            "bin_start": 0.4,
            "bin_end": 0.5,
            "count": 0
           },
           {
            "bin_start": 0.5,
            "bin_end": 0.6000000000000001,
            "count": 0
           },
           {
            "bin_start": 0.6000000000000001,
            "bin_end": 0.7000000000000001,
            "count": 0
           },
           {
            "bin_start": 0.7000000000000001,
            "bin_end": 0.8,
            "count": 0
           },
           {
            "bin_start": 0.8,
            "bin_end": 0.9,
            "count": 0
           },
           {
            "bin_start": 0.9,
            "bin_end": 1,
            "count": 0
           }
          ]
         }
        },
        {
         "name": "hvdt_fod_7_21",
         "dtype": "float64",
         "stats": {
          "unique_count": 0,
          "nan_count": 1077,
          "min": null,
          "max": null,
          "histogram": [
           {
            "bin_start": 0,
            "bin_end": 0.1,
            "count": 0
           },
           {
            "bin_start": 0.1,
            "bin_end": 0.2,
            "count": 0
           },
           {
            "bin_start": 0.2,
            "bin_end": 0.30000000000000004,
            "count": 0
           },
           {
            "bin_start": 0.30000000000000004,
            "bin_end": 0.4,
            "count": 0
           },
           {
            "bin_start": 0.4,
            "bin_end": 0.5,
            "count": 0
           },
           {
            "bin_start": 0.5,
            "bin_end": 0.6000000000000001,
            "count": 0
           },
           {
            "bin_start": 0.6000000000000001,
            "bin_end": 0.7000000000000001,
            "count": 0
           },
           {
            "bin_start": 0.7000000000000001,
            "bin_end": 0.8,
            "count": 0
           },
           {
            "bin_start": 0.8,
            "bin_end": 0.9,
            "count": 0
           },
           {
            "bin_start": 0.9,
            "bin_end": 1,
            "count": 0
           }
          ]
         }
        },
        {
         "name": "fod_7_24",
         "dtype": "float64",
         "stats": {
          "unique_count": 1,
          "nan_count": 1076,
          "min": "18898.0",
          "max": "18898.0",
          "histogram": [
           {
            "bin_start": 18897.5,
            "bin_end": 18897.6,
            "count": 0
           },
           {
            "bin_start": 18897.6,
            "bin_end": 18897.7,
            "count": 0
           },
           {
            "bin_start": 18897.7,
            "bin_end": 18897.8,
            "count": 0
           },
           {
            "bin_start": 18897.8,
            "bin_end": 18897.9,
            "count": 0
           },
           {
            "bin_start": 18897.9,
            "bin_end": 18898,
            "count": 0
           },
           {
            "bin_start": 18898,
            "bin_end": 18898.1,
            "count": 1
           },
           {
            "bin_start": 18898.1,
            "bin_end": 18898.2,
            "count": 0
           },
           {
            "bin_start": 18898.2,
            "bin_end": 18898.3,
            "count": 0
           },
           {
            "bin_start": 18898.3,
            "bin_end": 18898.4,
            "count": 0
           },
           {
            "bin_start": 18898.4,
            "bin_end": 18898.5,
            "count": 0
           }
          ]
         }
        },
        {
         "name": "aadt_fod_7_24",
         "dtype": "float64",
         "stats": {
          "unique_count": 1,
          "nan_count": 1076,
          "min": "18900.0",
          "max": "18900.0",
          "histogram": [
           {
            "bin_start": 18899.5,
            "bin_end": 18899.6,
            "count": 0
           },
           {
            "bin_start": 18899.6,
            "bin_end": 18899.7,
            "count": 0
           },
           {
            "bin_start": 18899.7,
            "bin_end": 18899.8,
            "count": 0
           },
           {
            "bin_start": 18899.8,
            "bin_end": 18899.9,
            "count": 0
           },
           {
            "bin_start": 18899.9,
            "bin_end": 18900,
            "count": 0
           },
           {
            "bin_start": 18900,
            "bin_end": 18900.1,
            "count": 1
           },
           {
            "bin_start": 18900.1,
            "bin_end": 18900.2,
            "count": 0
           },
           {
            "bin_start": 18900.2,
            "bin_end": 18900.3,
            "count": 0
           },
           {
            "bin_start": 18900.3,
            "bin_end": 18900.4,
            "count": 0
           },
           {
            "bin_start": 18900.4,
            "bin_end": 18900.5,
            "count": 0
           }
          ]
         }
        },
        {
         "name": "hvdt_fod_7_24",
         "dtype": "float64",
         "stats": {
          "unique_count": 1,
          "nan_count": 1076,
          "min": "19700.0",
          "max": "19700.0",
          "histogram": [
           {
            "bin_start": 19699.5,
            "bin_end": 19699.6,
            "count": 0
           },
           {
            "bin_start": 19699.6,
            "bin_end": 19699.7,
            "count": 0
           },
           {
            "bin_start": 19699.7,
            "bin_end": 19699.8,
            "count": 0
           },
           {
            "bin_start": 19699.8,
            "bin_end": 19699.9,
            "count": 0
           },
           {
            "bin_start": 19699.9,
            "bin_end": 19700,
            "count": 0
           },
           {
            "bin_start": 19700,
            "bin_end": 19700.1,
            "count": 1
           },
           {
            "bin_start": 19700.1,
            "bin_end": 19700.2,
            "count": 0
           },
           {
            "bin_start": 19700.2,
            "bin_end": 19700.3,
            "count": 0
           },
           {
            "bin_start": 19700.3,
            "bin_end": 19700.4,
            "count": 0
           },
           {
            "bin_start": 19700.4,
            "bin_end": 19700.5,
            "count": 0
           }
          ]
         }
        },
        {
         "name": "aadt_fod_label",
         "dtype": "float64",
         "stats": {
          "unique_count": 100,
          "nan_count": 745,
          "min": "0.0",
          "max": "41700.0",
          "histogram": [
           {
            "bin_start": 0,
            "bin_end": 4170,
            "count": 227
           },
           {
            "bin_start": 4170,
            "bin_end": 8340,
            "count": 69
           },
           {
            "bin_start": 8340,
            "bin_end": 12510,
            "count": 23
           },
           {
            "bin_start": 12510,
            "bin_end": 16680,
            "count": 4
           },
           {
            "bin_start": 16680,
            "bin_end": 20850,
            "count": 1
           },
           {
            "bin_start": 20850,
            "bin_end": 25020,
            "count": 2
           },
           {
            "bin_start": 25020,
            "bin_end": 29190,
            "count": 2
           },
           {
            "bin_start": 29190,
            "bin_end": 33360,
            "count": 2
           },
           {
            "bin_start": 33360,
            "bin_end": 37530,
            "count": 1
           },
           {
            "bin_start": 37530,
            "bin_end": 41700,
            "count": 1
           }
          ]
         }
        },
        {
         "name": "taelle_dato",
         "dtype": "int64",
         "stats": {
          "unique_count": 406,
          "nan_count": 0,
          "min": "20090101",
          "max": "20201001",
          "histogram": [
           {
            "bin_start": 20090101,
            "bin_end": 20101191,
            "count": 86
           },
           {
            "bin_start": 20101191,
            "bin_end": 20112281,
            "count": 66
           },
           {
            "bin_start": 20112281,
            "bin_end": 20123371,
            "count": 60
           },
           {
            "bin_start": 20123371,
            "bin_end": 20134461,
            "count": 68
           },
           {
            "bin_start": 20134461,
            "bin_end": 20145551,
            "count": 120
           },
           {
            "bin_start": 20145551,
            "bin_end": 20156641,
            "count": 182
           },
           {
            "bin_start": 20156641,
            "bin_end": 20167731,
            "count": 163
           },
           {
            "bin_start": 20167731,
            "bin_end": 20178821,
            "count": 75
           },
           {
            "bin_start": 20178821,
            "bin_end": 20189911,
            "count": 89
           },
           {
            "bin_start": 20189911,
            "bin_end": 20201001,
            "count": 168
           }
          ]
         }
        },
        {
         "name": "aar",
         "dtype": "int64",
         "stats": {
          "unique_count": 12,
          "nan_count": 0,
          "min": "2009",
          "max": "2020",
          "histogram": [
           {
            "bin_start": 2009,
            "bin_end": 2010.1,
            "count": 89
           },
           {
            "bin_start": 2010.1,
            "bin_end": 2011.2,
            "count": 63
           },
           {
            "bin_start": 2011.2,
            "bin_end": 2012.3,
            "count": 59
           },
           {
            "bin_start": 2012.3,
            "bin_end": 2013.4,
            "count": 68
           },
           {
            "bin_start": 2013.4,
            "bin_end": 2014.5,
            "count": 120
           },
           {
            "bin_start": 2014.5,
            "bin_end": 2015.6,
            "count": 181
           },
           {
            "bin_start": 2015.6,
            "bin_end": 2016.7,
            "count": 165
           },
           {
            "bin_start": 2016.7,
            "bin_end": 2017.8,
            "count": 75
           },
           {
            "bin_start": 2017.8,
            "bin_end": 2018.9,
            "count": 89
           },
           {
            "bin_start": 2018.9,
            "bin_end": 2020,
            "count": 168
           }
          ]
         }
        },
        {
         "name": "link",
         "dtype": "object",
         "stats": {
          "unique_count": 1053,
          "nan_count": 1,
          "categories": [
           {
            "name": "http://kk.sites.itera.dk/apps/kk_trafik/pdf/aEVxU6ro99.pdf",
            "count": 19
           },
           {
            "name": "1052 others",
            "count": 1057
           },
           {
            "name": "Missing",
            "count": 1
           }
          ]
         }
        },
        {
         "name": "tung_pct_real",
         "dtype": "float64",
         "stats": {
          "unique_count": 116,
          "nan_count": 581,
          "min": "0.0",
          "max": "57.90000153",
          "histogram": [
           {
            "bin_start": 0,
            "bin_end": 5.790000152999999,
            "count": 381
           },
           {
            "bin_start": 5.790000152999999,
            "bin_end": 11.580000305999999,
            "count": 92
           },
           {
            "bin_start": 11.580000305999999,
            "bin_end": 17.370000458999996,
            "count": 18
           },
           {
            "bin_start": 17.370000458999996,
            "bin_end": 23.160000611999997,
            "count": 2
           },
           {
            "bin_start": 23.160000611999997,
            "bin_end": 28.950000765,
            "count": 0
           },
           {
            "bin_start": 28.950000765,
            "bin_end": 34.74000091799999,
            "count": 1
           },
           {
            "bin_start": 34.74000091799999,
            "bin_end": 40.530001070999994,
            "count": 1
           },
           {
            "bin_start": 40.530001070999994,
            "bin_end": 46.320001223999995,
            "count": 0
           },
           {
            "bin_start": 46.320001223999995,
            "bin_end": 52.110001376999996,
            "count": 0
           },
           {
            "bin_start": 52.110001376999996,
            "bin_end": 57.90000153,
            "count": 1
           }
          ]
         }
        },
        {
         "name": "ladcykler_pct_real",
         "dtype": "float64",
         "stats": {
          "unique_count": 57,
          "nan_count": 744,
          "min": "0.0",
          "max": "8.5",
          "histogram": [
           {
            "bin_start": 0,
            "bin_end": 0.85,
            "count": 11
           },
           {
            "bin_start": 0.85,
            "bin_end": 1.7,
            "count": 64
           },
           {
            "bin_start": 1.7,
            "bin_end": 2.55,
            "count": 106
           },
           {
            "bin_start": 2.55,
            "bin_end": 3.4,
            "count": 89
           },
           {
            "bin_start": 3.4,
            "bin_end": 4.25,
            "count": 34
           },
           {
            "bin_start": 4.25,
            "bin_end": 5.1,
            "count": 14
           },
           {
            "bin_start": 5.1,
            "bin_end": 5.95,
            "count": 8
           },
           {
            "bin_start": 5.95,
            "bin_end": 6.8,
            "count": 3
           },
           {
            "bin_start": 6.8,
            "bin_end": 7.6499999999999995,
            "count": 2
           },
           {
            "bin_start": 7.6499999999999995,
            "bin_end": 8.5,
            "count": 2
           }
          ]
         }
        },
        {
         "name": "lastbiler_7_19",
         "dtype": "float64",
         "stats": {
          "unique_count": 221,
          "nan_count": 734,
          "min": "0.0",
          "max": "3454.0",
          "histogram": [
           {
            "bin_start": 0,
            "bin_end": 345.4,
            "count": 277
           },
           {
            "bin_start": 345.4,
            "bin_end": 690.8,
            "count": 39
           },
           {
            "bin_start": 690.8,
            "bin_end": 1036.1999999999998,
            "count": 15
           },
           {
            "bin_start": 1036.1999999999998,
            "bin_end": 1381.6,
            "count": 6
           },
           {
            "bin_start": 1381.6,
            "bin_end": 1727,
            "count": 1
           },
           {
            "bin_start": 1727,
            "bin_end": 2072.3999999999996,
            "count": 4
           },
           {
            "bin_start": 2072.3999999999996,
            "bin_end": 2417.7999999999997,
            "count": 0
           },
           {
            "bin_start": 2417.7999999999997,
            "bin_end": 2763.2,
            "count": 0
           },
           {
            "bin_start": 2763.2,
            "bin_end": 3108.6,
            "count": 0
           },
           {
            "bin_start": 3108.6,
            "bin_end": 3454,
            "count": 1
           }
          ]
         }
        },
        {
         "name": "lastbiler_pct",
         "dtype": "object",
         "stats": {
          "unique_count": 46,
          "nan_count": 970,
          "categories": [
           {
            "name": "1,3",
            "count": 8
           },
           {
            "name": "45 others",
            "count": 99
           },
           {
            "name": "Missing",
            "count": 970
           }
          ]
         }
        },
        {
         "name": "elloebehjul_7_19",
         "dtype": "float64",
         "stats": {
          "unique_count": 42,
          "nan_count": 1030,
          "min": "22.0",
          "max": "438.0",
          "histogram": [
           {
            "bin_start": 22,
            "bin_end": 63.6,
            "count": 11
           },
           {
            "bin_start": 63.6,
            "bin_end": 105.2,
            "count": 10
           },
           {
            "bin_start": 105.2,
            "bin_end": 146.8,
            "count": 8
           },
           {
            "bin_start": 146.8,
            "bin_end": 188.4,
            "count": 3
           },
           {
            "bin_start": 188.4,
            "bin_end": 230,
            "count": 8
           },
           {
            "bin_start": 230,
            "bin_end": 271.6,
            "count": 3
           },
           {
            "bin_start": 271.6,
            "bin_end": 313.2,
            "count": 3
           },
           {
            "bin_start": 313.2,
            "bin_end": 354.8,
            "count": 0
           },
           {
            "bin_start": 354.8,
            "bin_end": 396.40000000000003,
            "count": 0
           },
           {
            "bin_start": 396.40000000000003,
            "bin_end": 438,
            "count": 1
           }
          ]
         }
        },
        {
         "name": "elloebehjul_pct",
         "dtype": "object",
         "stats": {
          "unique_count": 20,
          "nan_count": 1031,
          "categories": [
           {
            "name": "1,4",
            "count": 5
           },
           {
            "name": "19 others",
            "count": 41
           },
           {
            "name": "Missing",
            "count": 1031
           }
          ]
         }
        },
        {
         "name": "andre_busser_7_19",
         "dtype": "float64",
         "stats": {
          "unique_count": 61,
          "nan_count": 986,
          "min": "1.0",
          "max": "480.0",
          "histogram": [
           {
            "bin_start": 1,
            "bin_end": 48.9,
            "count": 60
           },
           {
            "bin_start": 48.9,
            "bin_end": 96.8,
            "count": 13
           },
           {
            "bin_start": 96.8,
            "bin_end": 144.7,
            "count": 9
           },
           {
            "bin_start": 144.7,
            "bin_end": 192.6,
            "count": 3
           },
           {
            "bin_start": 192.6,
            "bin_end": 240.5,
            "count": 1
           },
           {
            "bin_start": 240.5,
            "bin_end": 288.4,
            "count": 0
           },
           {
            "bin_start": 288.4,
            "bin_end": 336.3,
            "count": 2
           },
           {
            "bin_start": 336.3,
            "bin_end": 384.2,
            "count": 2
           },
           {
            "bin_start": 384.2,
            "bin_end": 432.09999999999997,
            "count": 0
           },
           {
            "bin_start": 432.09999999999997,
            "bin_end": 480,
            "count": 1
           }
          ]
         }
        },
        {
         "name": "wkb_geometry",
         "dtype": "object",
         "stats": {
          "unique_count": 1068,
          "nan_count": 1,
          "categories": [
           {
            "name": "POINT (12.583662808767516 55.72009422647465)",
            "count": 3
           },
           {
            "name": "1067 others",
            "count": 1073
           },
           {
            "name": "Missing",
            "count": 1
           }
          ]
         }
        },
        {
         "name": "_deepnote_index_column",
         "dtype": "int64"
        }
       ],
       "rows": [
        {
         "FID": "trafiktaelling.1",
         "t_nr": 1,
         "vejnavn": "H.C. Andersens Boulevard",
         "beskrivelse": "sydøst for Jarmers Plads",
         "husnummer": "4 eller 5A",
         "type": 3,
         "taelling_type": "Andre faste tællinger",
         "ktj_7_19": 42650,
         "tung_pct": "3,8",
         "aadt_koretojer": 49900,
         "hvdt_koretojer": 55900,
         "cykler_7_19": 21601,
         "ladcykler_pct": "1,2",
         "aadt_cykler": 22200,
         "hvdt_cykler": 26400,
         "fod_7_19": "nan",
         "aadt_fod_7_19": "nan",
         "hvdt_fod_7_19": "nan",
         "fod_7_21": "nan",
         "aadt_fod_7_21": "nan",
         "hvdt_fod_7_21": "nan",
         "fod_7_24": "nan",
         "aadt_fod_7_24": "nan",
         "hvdt_fod_7_24": "nan",
         "aadt_fod_label": "nan",
         "taelle_dato": 20160921,
         "aar": 2016,
         "link": "http://kk.sites.itera.dk/apps/kk_trafik/pdf/UJpxEGxaCg.pdf",
         "tung_pct_real": 3.79999995,
         "ladcykler_pct_real": 1.20000005,
         "lastbiler_7_19": 1016,
         "lastbiler_pct": "nan",
         "elloebehjul_7_19": "nan",
         "elloebehjul_pct": "nan",
         "andre_busser_7_19": "nan",
         "wkb_geometry": "POINT (12.565491397230991 55.67796084860272)",
         "_deepnote_index_column": 0
        },
        {
         "FID": "trafiktaelling.2",
         "t_nr": 3,
         "vejnavn": "Bredgade",
         "beskrivelse": "nord for Kongens Nytorv",
         "husnummer": "3 eller 4",
         "type": 3,
         "taelling_type": "Andre faste tællinger",
         "ktj_7_19": 8984,
         "tung_pct": "1,8",
         "aadt_koretojer": 10500,
         "hvdt_koretojer": 11800,
         "cykler_7_19": 5262,
         "ladcykler_pct": "3,3",
         "aadt_cykler": 5400,
         "hvdt_cykler": 6400,
         "fod_7_19": "nan",
         "aadt_fod_7_19": "nan",
         "hvdt_fod_7_19": "nan",
         "fod_7_21": "nan",
         "aadt_fod_7_21": "nan",
         "hvdt_fod_7_21": "nan",
         "fod_7_24": "nan",
         "aadt_fod_7_24": "nan",
         "hvdt_fod_7_24": "nan",
         "aadt_fod_label": "nan",
         "taelle_dato": 20201001,
         "aar": 2020,
         "link": "https://kk.sites.itera.dk/apps/kk_trafik/pdf/MaJpTOaVhR.pdf",
         "tung_pct_real": 1.79999995,
         "ladcykler_pct_real": 3.29999995,
         "lastbiler_7_19": 18,
         "lastbiler_pct": "0,2",
         "elloebehjul_7_19": "nan",
         "elloebehjul_pct": "nan",
         "andre_busser_7_19": "nan",
         "wkb_geometry": "POINT (12.587600106423727 55.68116360238515)",
         "_deepnote_index_column": 1
        },
        {
         "FID": "trafiktaelling.3",
         "t_nr": 4,
         "vejnavn": "Christian d. IV's Bro",
         "beskrivelse": "syd for Niels Juels Gade",
         "husnummer": "ingen",
         "type": 3,
         "taelling_type": "Andre faste tællinger",
         "ktj_7_19": 11701,
         "tung_pct": "0,2",
         "aadt_koretojer": 13700,
         "hvdt_koretojer": 15300,
         "cykler_7_19": 7042,
         "ladcykler_pct": "2,8",
         "aadt_cykler": 7300,
         "hvdt_cykler": 8600,
         "fod_7_19": "nan",
         "aadt_fod_7_19": "nan",
         "hvdt_fod_7_19": "nan",
         "fod_7_21": "nan",
         "aadt_fod_7_21": "nan",
         "hvdt_fod_7_21": "nan",
         "fod_7_24": "nan",
         "aadt_fod_7_24": "nan",
         "hvdt_fod_7_24": "nan",
         "aadt_fod_label": "nan",
         "taelle_dato": 20200908,
         "aar": 2020,
         "link": "https://kk.sites.itera.dk/apps/kk_trafik/pdf/nACgzfu6V0.pdf",
         "tung_pct_real": 0.2,
         "ladcykler_pct_real": 2.79999995,
         "lastbiler_7_19": "nan",
         "lastbiler_pct": "nan",
         "elloebehjul_7_19": "nan",
         "elloebehjul_pct": "nan",
         "andre_busser_7_19": "nan",
         "wkb_geometry": "POINT (12.587161874224892 55.67576459605928)",
         "_deepnote_index_column": 2
        },
        {
         "FID": "trafiktaelling.4",
         "t_nr": 5,
         "vejnavn": "Dronning Louises Bro",
         "beskrivelse": "øst for Nørrebrogade",
         "husnummer": "nan",
         "type": 2,
         "taelling_type": "Søsnittet",
         "ktj_7_19": "nan",
         "tung_pct": "nan",
         "aadt_koretojer": "nan",
         "hvdt_koretojer": "nan",
         "cykler_7_19": 37752,
         "ladcykler_pct": "3,7",
         "aadt_cykler": 38900,
         "hvdt_cykler": 46100,
         "fod_7_19": "nan",
         "aadt_fod_7_19": "nan",
         "hvdt_fod_7_19": "nan",
         "fod_7_21": "nan",
         "aadt_fod_7_21": "nan",
         "hvdt_fod_7_21": "nan",
         "fod_7_24": "nan",
         "aadt_fod_7_24": "nan",
         "hvdt_fod_7_24": "nan",
         "aadt_fod_label": "nan",
         "taelle_dato": 20200923,
         "aar": 2020,
         "link": "https://kk.sites.itera.dk/apps/kk_trafik/pdf/sa0k8nWpoS.pdf",
         "tung_pct_real": "nan",
         "ladcykler_pct_real": 3.70000005,
         "lastbiler_7_19": "nan",
         "lastbiler_pct": "nan",
         "elloebehjul_7_19": 438,
         "elloebehjul_pct": "1,4",
         "andre_busser_7_19": "nan",
         "wkb_geometry": "POINT (12.563784830098982 55.68673054140091)",
         "_deepnote_index_column": 3
        },
        {
         "FID": "trafiktaelling.5",
         "t_nr": 6,
         "vejnavn": "Kampmannsgade",
         "beskrivelse": "ud for søerne",
         "husnummer": "nan",
         "type": 2,
         "taelling_type": "Søsnittet",
         "ktj_7_19": 3938,
         "tung_pct": "2,2",
         "aadt_koretojer": 4600,
         "hvdt_koretojer": 5200,
         "cykler_7_19": 7731,
         "ladcykler_pct": "2,8",
         "aadt_cykler": 8000,
         "hvdt_cykler": 9400,
         "fod_7_19": "nan",
         "aadt_fod_7_19": "nan",
         "hvdt_fod_7_19": "nan",
         "fod_7_21": "nan",
         "aadt_fod_7_21": "nan",
         "hvdt_fod_7_21": "nan",
         "fod_7_24": "nan",
         "aadt_fod_7_24": "nan",
         "hvdt_fod_7_24": "nan",
         "aadt_fod_label": "nan",
         "taelle_dato": 20200802,
         "aar": 2020,
         "link": "https://kk.sites.itera.dk/apps/kk_trafik/pdf/bZHOEqF2IE.pdf",
         "tung_pct_real": 2.20000005,
         "ladcykler_pct_real": 2.79999995,
         "lastbiler_7_19": 29,
         "lastbiler_pct": "34,1",
         "elloebehjul_7_19": "nan",
         "elloebehjul_pct": "nan",
         "andre_busser_7_19": 6,
         "wkb_geometry": "POINT (12.557917540101617 55.67797681383055)",
         "_deepnote_index_column": 4
        },
        {
         "FID": "trafiktaelling.6",
         "t_nr": 7,
         "vejnavn": "Ellebjergvej",
         "beskrivelse": "øst for Poppelstykket",
         "husnummer": "138",
         "type": 3,
         "taelling_type": "Andre faste tællinger",
         "ktj_7_19": 27944,
         "tung_pct": "2,6",
         "aadt_koretojer": 32700,
         "hvdt_koretojer": 36600,
         "cykler_7_19": 4003,
         "ladcykler_pct": "4,9",
         "aadt_cykler": 4100,
         "hvdt_cykler": 4900,
         "fod_7_19": "nan",
         "aadt_fod_7_19": "nan",
         "hvdt_fod_7_19": "nan",
         "fod_7_21": "nan",
         "aadt_fod_7_21": "nan",
         "hvdt_fod_7_21": "nan",
         "fod_7_24": "nan",
         "aadt_fod_7_24": "nan",
         "hvdt_fod_7_24": "nan",
         "aadt_fod_label": "nan",
         "taelle_dato": 20200826,
         "aar": 2020,
         "link": "https://kk.sites.itera.dk/apps/kk_trafik/pdf/1roAZSzqVU.pdf",
         "tung_pct_real": 2.5999999,
         "ladcykler_pct_real": 4.9000001,
         "lastbiler_7_19": 614,
         "lastbiler_pct": "85,75",
         "elloebehjul_7_19": "nan",
         "elloebehjul_pct": "nan",
         "andre_busser_7_19": 50,
         "wkb_geometry": "POINT (12.510990440718215 55.65050283197625)",
         "_deepnote_index_column": 5
        },
        {
         "FID": "trafiktaelling.7",
         "t_nr": 8,
         "vejnavn": "Englandsvej",
         "beskrivelse": "nord for Følfodvej",
         "husnummer": "229 eller 230",
         "type": 1,
         "taelling_type": "Kommunegrænsen",
         "ktj_7_19": 9311,
         "tung_pct": "1,9",
         "aadt_koretojer": 10900,
         "hvdt_koretojer": 12200,
         "cykler_7_19": 2271,
         "ladcykler_pct": "5,0",
         "aadt_cykler": 2300,
         "hvdt_cykler": 2800,
         "fod_7_19": "nan",
         "aadt_fod_7_19": "nan",
         "hvdt_fod_7_19": "nan",
         "fod_7_21": "nan",
         "aadt_fod_7_21": "nan",
         "hvdt_fod_7_21": "nan",
         "fod_7_24": "nan",
         "aadt_fod_7_24": "nan",
         "hvdt_fod_7_24": "nan",
         "aadt_fod_label": "nan",
         "taelle_dato": 20200624,
         "aar": 2020,
         "link": "https://kk.sites.itera.dk/apps/kk_trafik/pdf/Rt3pA0AISM.pdf",
         "tung_pct_real": 1.89999998,
         "ladcykler_pct_real": 5,
         "lastbiler_7_19": 131,
         "lastbiler_pct": "74,43",
         "elloebehjul_7_19": "nan",
         "elloebehjul_pct": "nan",
         "andre_busser_7_19": 8,
         "wkb_geometry": "POINT (12.599845636263538 55.63848509063259)",
         "_deepnote_index_column": 6
        },
        {
         "FID": "trafiktaelling.8",
         "t_nr": 9,
         "vejnavn": "Farvergade",
         "beskrivelse": "nordøst for Rådhuspladsen",
         "husnummer": "6 eller 17",
         "type": 3,
         "taelling_type": "Andre faste tællinger",
         "ktj_7_19": 531,
         "tung_pct": "2,1",
         "aadt_koretojer": 600,
         "hvdt_koretojer": 700,
         "cykler_7_19": 2724,
         "ladcykler_pct": "nan",
         "aadt_cykler": 2800,
         "hvdt_cykler": 3300,
         "fod_7_19": "nan",
         "aadt_fod_7_19": "nan",
         "hvdt_fod_7_19": "nan",
         "fod_7_21": "nan",
         "aadt_fod_7_21": "nan",
         "hvdt_fod_7_21": "nan",
         "fod_7_24": "nan",
         "aadt_fod_7_24": "nan",
         "hvdt_fod_7_24": "nan",
         "aadt_fod_label": "nan",
         "taelle_dato": 20151001,
         "aar": 2015,
         "link": "http://kk.sites.itera.dk/apps/kk_trafik/pdf/tY91YGf9p1.pdf",
         "tung_pct_real": 2.0999999,
         "ladcykler_pct_real": "nan",
         "lastbiler_7_19": 11,
         "lastbiler_pct": "nan",
         "elloebehjul_7_19": "nan",
         "elloebehjul_pct": "nan",
         "andre_busser_7_19": "nan",
         "wkb_geometry": "POINT (12.572503733886563 55.6759724596037)",
         "_deepnote_index_column": 7
        },
        {
         "FID": "trafiktaelling.9",
         "t_nr": 11,
         "vejnavn": "Frederiksborggade",
         "beskrivelse": "øst for Nørre Voldgade",
         "husnummer": "10",
         "type": 3,
         "taelling_type": "Andre faste tællinger",
         "ktj_7_19": 64,
         "tung_pct": "nan",
         "aadt_koretojer": 100,
         "hvdt_koretojer": 100,
         "cykler_7_19": 1260,
         "ladcykler_pct": "nan",
         "aadt_cykler": 1300,
         "hvdt_cykler": 1500,
         "fod_7_19": 35606,
         "aadt_fod_7_19": 41700,
         "hvdt_fod_7_19": 43100,
         "fod_7_21": "nan",
         "aadt_fod_7_21": "nan",
         "hvdt_fod_7_21": "nan",
         "fod_7_24": "nan",
         "aadt_fod_7_24": "nan",
         "hvdt_fod_7_24": "nan",
         "aadt_fod_label": 41700,
         "taelle_dato": 20180619,
         "aar": 2018,
         "link": "https://kk.sites.itera.dk/apps/kk_trafik/pdf/gsufDE4hgG.pdf",
         "tung_pct_real": "nan",
         "ladcykler_pct_real": "nan",
         "lastbiler_7_19": 0,
         "lastbiler_pct": "nan",
         "elloebehjul_7_19": "nan",
         "elloebehjul_pct": "nan",
         "andre_busser_7_19": "nan",
         "wkb_geometry": "POINT (12.572683528145083 55.683211342280345)",
         "_deepnote_index_column": 8
        },
        {
         "FID": "trafiktaelling.10",
         "t_nr": 12,
         "vejnavn": "Frederiksborggade",
         "beskrivelse": "sydøst for Søtorvet",
         "husnummer": "50",
         "type": 3,
         "taelling_type": "Andre faste tællinger",
         "ktj_7_19": 3637,
         "tung_pct": "14,0",
         "aadt_koretojer": 4300,
         "hvdt_koretojer": 4800,
         "cykler_7_19": 17219,
         "ladcykler_pct": "3,1",
         "aadt_cykler": 17700,
         "hvdt_cykler": 21000,
         "fod_7_19": "nan",
         "aadt_fod_7_19": "nan",
         "hvdt_fod_7_19": "nan",
         "fod_7_21": "nan",
         "aadt_fod_7_21": "nan",
         "hvdt_fod_7_21": "nan",
         "fod_7_24": "nan",
         "aadt_fod_7_24": "nan",
         "hvdt_fod_7_24": "nan",
         "aadt_fod_label": "nan",
         "taelle_dato": 20190912,
         "aar": 2019,
         "link": "https://kk.sites.itera.dk/apps/kk_trafik/pdf/xpVL5eDw4D.pdf",
         "tung_pct_real": 14,
         "ladcykler_pct_real": 3.0999999,
         "lastbiler_7_19": 510,
         "lastbiler_pct": "1,9",
         "elloebehjul_7_19": 302,
         "elloebehjul_pct": "1,8",
         "andre_busser_7_19": 13,
         "wkb_geometry": "POINT (12.566369474794929 55.685708418286154)",
         "_deepnote_index_column": 9
        }
       ]
      },
      "text/plain": "                      FID   t_nr  \\\n0        trafiktaelling.1      1   \n1        trafiktaelling.2      3   \n2        trafiktaelling.3      4   \n3        trafiktaelling.4      5   \n4        trafiktaelling.5      6   \n...                   ...    ...   \n1072  trafiktaelling.1073  10195   \n1073  trafiktaelling.1074  10196   \n1074  trafiktaelling.1075  10197   \n1075  trafiktaelling.1076  10198   \n1076  trafiktaelling.1077  10199   \n\n                                                vejnavn  \\\n0                              H.C. Andersens Boulevard   \n1                                              Bredgade   \n2                                 Christian d. IV's Bro   \n3                                  Dronning Louises Bro   \n4                                         Kampmannsgade   \n...                                                 ...   \n1072  Sydhavnsgade-Borgmester Christiansens Gade-Fre...   \n1073               Vejlands Allé-Artillerivej-Selinevej   \n1074                      Vejlands Allé-Center Boulvard   \n1075          Vejlands Allé-Motorvejen_vestlig fletning   \n1076           Vejlands Allé-Motorvejen-østlig fletning   \n\n                   beskrivelse   husnummer   type          taelling_type  \\\n0     sydøst for Jarmers Plads  4 eller 5A    3.0  Andre faste tællinger   \n1      nord for Kongens Nytorv   3 eller 4    3.0  Andre faste tællinger   \n2     syd for Niels Juels Gade       ingen    3.0  Andre faste tællinger   \n3         øst for Nørrebrogade         NaN    2.0              Søsnittet   \n4                ud for søerne         NaN    2.0              Søsnittet   \n...                        ...         ...    ...                    ...   \n1072              Krydstælling         NaN  101.0         Krydstællinger   \n1073              Krydstælling         NaN  101.0         Krydstællinger   \n1074              Krydstælling         NaN  101.0         Krydstællinger   \n1075              Krydstælling         NaN  101.0         Krydstællinger   \n1076              Krydstælling         NaN  101.0         Krydstællinger   \n\n      ktj_7_19 tung_pct  aadt_koretojer  ...   aar  \\\n0      42650.0      3,8         49900.0  ...  2016   \n1       8984.0      1,8         10500.0  ...  2020   \n2      11701.0      0,2         13700.0  ...  2020   \n3          NaN      NaN             NaN  ...  2020   \n4       3938.0      2,2          4600.0  ...  2020   \n...        ...      ...             ...  ...   ...   \n1072       NaN      NaN             NaN  ...  2019   \n1073       NaN      NaN             NaN  ...  2019   \n1074       NaN      NaN             NaN  ...  2018   \n1075       NaN      NaN             NaN  ...  2019   \n1076       NaN      NaN             NaN  ...  2019   \n\n                                                   link tung_pct_real  \\\n0     http://kk.sites.itera.dk/apps/kk_trafik/pdf/UJ...           3.8   \n1     https://kk.sites.itera.dk/apps/kk_trafik/pdf/M...           1.8   \n2     https://kk.sites.itera.dk/apps/kk_trafik/pdf/n...           0.2   \n3     https://kk.sites.itera.dk/apps/kk_trafik/pdf/s...           NaN   \n4     https://kk.sites.itera.dk/apps/kk_trafik/pdf/b...           2.2   \n...                                                 ...           ...   \n1072  https://kk.sites.itera.dk/apps/kk_trafik/pdf/D...           NaN   \n1073  https://kk.sites.itera.dk/apps/kk_trafik/pdf/5...           NaN   \n1074  https://kk.sites.itera.dk/apps/kk_trafik/pdf/m...           NaN   \n1075  https://kk.sites.itera.dk/apps/kk_trafik/pdf/E...           NaN   \n1076  https://kk.sites.itera.dk/apps/kk_trafik/pdf/r...           NaN   \n\n      ladcykler_pct_real  lastbiler_7_19  lastbiler_pct  elloebehjul_7_19  \\\n0                    1.2          1016.0            NaN               NaN   \n1                    3.3            18.0            0,2               NaN   \n2                    2.8             NaN            NaN               NaN   \n3                    3.7             NaN            NaN             438.0   \n4                    2.8            29.0           34,1               NaN   \n...                  ...             ...            ...               ...   \n1072                 NaN             NaN            NaN               NaN   \n1073                 NaN             NaN            NaN               NaN   \n1074                 NaN             NaN            NaN               NaN   \n1075                 NaN             NaN            NaN               NaN   \n1076                 NaN             NaN            NaN               NaN   \n\n      elloebehjul_pct  andre_busser_7_19  \\\n0                 NaN                NaN   \n1                 NaN                NaN   \n2                 NaN                NaN   \n3                 1,4                NaN   \n4                 NaN                6.0   \n...               ...                ...   \n1072              NaN                NaN   \n1073              NaN                NaN   \n1074              NaN                NaN   \n1075              NaN                NaN   \n1076              NaN                NaN   \n\n                                       wkb_geometry  \n0      POINT (12.565491397230991 55.67796084860272)  \n1      POINT (12.587600106423727 55.68116360238515)  \n2      POINT (12.587161874224892 55.67576459605928)  \n3      POINT (12.563784830098982 55.68673054140091)  \n4      POINT (12.557917540101617 55.67797681383055)  \n...                                             ...  \n1072   POINT (12.542233637720141 55.64665981581368)  \n1073  POINT (12.563594727350983 55.641493677099774)  \n1074  POINT (12.575944159210048 55.640978432494656)  \n1075  POINT (12.553338532609525 55.641023522185684)  \n1076  POINT (12.559626691260197 55.641045182915505)  \n\n[1077 rows x 36 columns]",
      "text/html": "<div>\n<style scoped>\n    .dataframe tbody tr th:only-of-type {\n        vertical-align: middle;\n    }\n\n    .dataframe tbody tr th {\n        vertical-align: top;\n    }\n\n    .dataframe thead th {\n        text-align: right;\n    }\n</style>\n<table border=\"1\" class=\"dataframe\">\n  <thead>\n    <tr style=\"text-align: right;\">\n      <th></th>\n      <th>FID</th>\n      <th>t_nr</th>\n      <th>vejnavn</th>\n      <th>beskrivelse</th>\n      <th>husnummer</th>\n      <th>type</th>\n      <th>taelling_type</th>\n      <th>ktj_7_19</th>\n      <th>tung_pct</th>\n      <th>aadt_koretojer</th>\n      <th>...</th>\n      <th>aar</th>\n      <th>link</th>\n      <th>tung_pct_real</th>\n      <th>ladcykler_pct_real</th>\n      <th>lastbiler_7_19</th>\n      <th>lastbiler_pct</th>\n      <th>elloebehjul_7_19</th>\n      <th>elloebehjul_pct</th>\n      <th>andre_busser_7_19</th>\n      <th>wkb_geometry</th>\n    </tr>\n  </thead>\n  <tbody>\n    <tr>\n      <th>0</th>\n      <td>trafiktaelling.1</td>\n      <td>1</td>\n      <td>H.C. Andersens Boulevard</td>\n      <td>sydøst for Jarmers Plads</td>\n      <td>4 eller 5A</td>\n      <td>3.0</td>\n      <td>Andre faste tællinger</td>\n      <td>42650.0</td>\n      <td>3,8</td>\n      <td>49900.0</td>\n      <td>...</td>\n      <td>2016</td>\n      <td>http://kk.sites.itera.dk/apps/kk_trafik/pdf/UJ...</td>\n      <td>3.8</td>\n      <td>1.2</td>\n      <td>1016.0</td>\n      <td>NaN</td>\n      <td>NaN</td>\n      <td>NaN</td>\n      <td>NaN</td>\n      <td>POINT (12.565491397230991 55.67796084860272)</td>\n    </tr>\n    <tr>\n      <th>1</th>\n      <td>trafiktaelling.2</td>\n      <td>3</td>\n      <td>Bredgade</td>\n      <td>nord for Kongens Nytorv</td>\n      <td>3 eller 4</td>\n      <td>3.0</td>\n      <td>Andre faste tællinger</td>\n      <td>8984.0</td>\n      <td>1,8</td>\n      <td>10500.0</td>\n      <td>...</td>\n      <td>2020</td>\n      <td>https://kk.sites.itera.dk/apps/kk_trafik/pdf/M...</td>\n      <td>1.8</td>\n      <td>3.3</td>\n      <td>18.0</td>\n      <td>0,2</td>\n      <td>NaN</td>\n      <td>NaN</td>\n      <td>NaN</td>\n      <td>POINT (12.587600106423727 55.68116360238515)</td>\n    </tr>\n    <tr>\n      <th>2</th>\n      <td>trafiktaelling.3</td>\n      <td>4</td>\n      <td>Christian d. IV's Bro</td>\n      <td>syd for Niels Juels Gade</td>\n      <td>ingen</td>\n      <td>3.0</td>\n      <td>Andre faste tællinger</td>\n      <td>11701.0</td>\n      <td>0,2</td>\n      <td>13700.0</td>\n      <td>...</td>\n      <td>2020</td>\n      <td>https://kk.sites.itera.dk/apps/kk_trafik/pdf/n...</td>\n      <td>0.2</td>\n      <td>2.8</td>\n      <td>NaN</td>\n      <td>NaN</td>\n      <td>NaN</td>\n      <td>NaN</td>\n      <td>NaN</td>\n      <td>POINT (12.587161874224892 55.67576459605928)</td>\n    </tr>\n    <tr>\n      <th>3</th>\n      <td>trafiktaelling.4</td>\n      <td>5</td>\n      <td>Dronning Louises Bro</td>\n      <td>øst for Nørrebrogade</td>\n      <td>NaN</td>\n      <td>2.0</td>\n      <td>Søsnittet</td>\n      <td>NaN</td>\n      <td>NaN</td>\n      <td>NaN</td>\n      <td>...</td>\n      <td>2020</td>\n      <td>https://kk.sites.itera.dk/apps/kk_trafik/pdf/s...</td>\n      <td>NaN</td>\n      <td>3.7</td>\n      <td>NaN</td>\n      <td>NaN</td>\n      <td>438.0</td>\n      <td>1,4</td>\n      <td>NaN</td>\n      <td>POINT (12.563784830098982 55.68673054140091)</td>\n    </tr>\n    <tr>\n      <th>4</th>\n      <td>trafiktaelling.5</td>\n      <td>6</td>\n      <td>Kampmannsgade</td>\n      <td>ud for søerne</td>\n      <td>NaN</td>\n      <td>2.0</td>\n      <td>Søsnittet</td>\n      <td>3938.0</td>\n      <td>2,2</td>\n      <td>4600.0</td>\n      <td>...</td>\n      <td>2020</td>\n      <td>https://kk.sites.itera.dk/apps/kk_trafik/pdf/b...</td>\n      <td>2.2</td>\n      <td>2.8</td>\n      <td>29.0</td>\n      <td>34,1</td>\n      <td>NaN</td>\n      <td>NaN</td>\n      <td>6.0</td>\n      <td>POINT (12.557917540101617 55.67797681383055)</td>\n    </tr>\n    <tr>\n      <th>...</th>\n      <td>...</td>\n      <td>...</td>\n      <td>...</td>\n      <td>...</td>\n      <td>...</td>\n      <td>...</td>\n      <td>...</td>\n      <td>...</td>\n      <td>...</td>\n      <td>...</td>\n      <td>...</td>\n      <td>...</td>\n      <td>...</td>\n      <td>...</td>\n      <td>...</td>\n      <td>...</td>\n      <td>...</td>\n      <td>...</td>\n      <td>...</td>\n      <td>...</td>\n      <td>...</td>\n    </tr>\n    <tr>\n      <th>1072</th>\n      <td>trafiktaelling.1073</td>\n      <td>10195</td>\n      <td>Sydhavnsgade-Borgmester Christiansens Gade-Fre...</td>\n      <td>Krydstælling</td>\n      <td>NaN</td>\n      <td>101.0</td>\n      <td>Krydstællinger</td>\n      <td>NaN</td>\n      <td>NaN</td>\n      <td>NaN</td>\n      <td>...</td>\n      <td>2019</td>\n      <td>https://kk.sites.itera.dk/apps/kk_trafik/pdf/D...</td>\n      <td>NaN</td>\n      <td>NaN</td>\n      <td>NaN</td>\n      <td>NaN</td>\n      <td>NaN</td>\n      <td>NaN</td>\n      <td>NaN</td>\n      <td>POINT (12.542233637720141 55.64665981581368)</td>\n    </tr>\n    <tr>\n      <th>1073</th>\n      <td>trafiktaelling.1074</td>\n      <td>10196</td>\n      <td>Vejlands Allé-Artillerivej-Selinevej</td>\n      <td>Krydstælling</td>\n      <td>NaN</td>\n      <td>101.0</td>\n      <td>Krydstællinger</td>\n      <td>NaN</td>\n      <td>NaN</td>\n      <td>NaN</td>\n      <td>...</td>\n      <td>2019</td>\n      <td>https://kk.sites.itera.dk/apps/kk_trafik/pdf/5...</td>\n      <td>NaN</td>\n      <td>NaN</td>\n      <td>NaN</td>\n      <td>NaN</td>\n      <td>NaN</td>\n      <td>NaN</td>\n      <td>NaN</td>\n      <td>POINT (12.563594727350983 55.641493677099774)</td>\n    </tr>\n    <tr>\n      <th>1074</th>\n      <td>trafiktaelling.1075</td>\n      <td>10197</td>\n      <td>Vejlands Allé-Center Boulvard</td>\n      <td>Krydstælling</td>\n      <td>NaN</td>\n      <td>101.0</td>\n      <td>Krydstællinger</td>\n      <td>NaN</td>\n      <td>NaN</td>\n      <td>NaN</td>\n      <td>...</td>\n      <td>2018</td>\n      <td>https://kk.sites.itera.dk/apps/kk_trafik/pdf/m...</td>\n      <td>NaN</td>\n      <td>NaN</td>\n      <td>NaN</td>\n      <td>NaN</td>\n      <td>NaN</td>\n      <td>NaN</td>\n      <td>NaN</td>\n      <td>POINT (12.575944159210048 55.640978432494656)</td>\n    </tr>\n    <tr>\n      <th>1075</th>\n      <td>trafiktaelling.1076</td>\n      <td>10198</td>\n      <td>Vejlands Allé-Motorvejen_vestlig fletning</td>\n      <td>Krydstælling</td>\n      <td>NaN</td>\n      <td>101.0</td>\n      <td>Krydstællinger</td>\n      <td>NaN</td>\n      <td>NaN</td>\n      <td>NaN</td>\n      <td>...</td>\n      <td>2019</td>\n      <td>https://kk.sites.itera.dk/apps/kk_trafik/pdf/E...</td>\n      <td>NaN</td>\n      <td>NaN</td>\n      <td>NaN</td>\n      <td>NaN</td>\n      <td>NaN</td>\n      <td>NaN</td>\n      <td>NaN</td>\n      <td>POINT (12.553338532609525 55.641023522185684)</td>\n    </tr>\n    <tr>\n      <th>1076</th>\n      <td>trafiktaelling.1077</td>\n      <td>10199</td>\n      <td>Vejlands Allé-Motorvejen-østlig fletning</td>\n      <td>Krydstælling</td>\n      <td>NaN</td>\n      <td>101.0</td>\n      <td>Krydstællinger</td>\n      <td>NaN</td>\n      <td>NaN</td>\n      <td>NaN</td>\n      <td>...</td>\n      <td>2019</td>\n      <td>https://kk.sites.itera.dk/apps/kk_trafik/pdf/r...</td>\n      <td>NaN</td>\n      <td>NaN</td>\n      <td>NaN</td>\n      <td>NaN</td>\n      <td>NaN</td>\n      <td>NaN</td>\n      <td>NaN</td>\n      <td>POINT (12.559626691260197 55.641045182915505)</td>\n    </tr>\n  </tbody>\n</table>\n<p>1077 rows × 36 columns</p>\n</div>"
     },
     "metadata": {}
    }
   ],
   "execution_count": 26
  },
  {
   "cell_type": "code",
   "source": "#%% STEP 1: REQUEST DATA FROM DMI's API\nimport requests\nimport pandas as pd\nimport datetime as dt\n\napi_key = '4017479a-aed9-4909-aaac-0cb6169d7743' # Insert you own api-key from DMI between the ''. To obtain your api-key, visit url: https://confluence.govcloud.dk/display/FDAPI/Danish+Meteorological+Institute+-+Open+Data Then choose to get an API-key for the metObsAPI 2.0.\n\nurl = 'https://dmigw.govcloud.dk/v2/metObs/collections/observation/items' # DMI API v2 url\n\n\n# Insert local start time and UTC time shift:\n#                        yyyy-mm-ddThh:mm:ss+hh:mm UTC time shift] (2 h = DK summer time, 1 h = DK winter or normal time)\nfrom_time =             '2021-11-29T00:00:00+02:00' \n\n# Insert local end time and UTC time shift:\n#                        yyyy-mm-ddThh:mm:ss+hh:mm UTC time shift] (2 h = DK summer time, 1 h = DK winter or normal time)\nto_time =               '2021-11-30T23:59:59+02:00'\n\n# DMI's API retuns data in UTC time - not nice when you want to compare with your Danish local time. We'll need to correct for this later on. Here we just enter the season dependent time shift:\nUTC_to_local_time_shift = 2 # unit = hours. Enter local time shift relative to UTC time: I.e., enter '2' h = DK summer time, or enter '1' h = DK winter or normal time\n\nfromtotime = from_time + '/' + to_time # concatenates from and to times \n\n# Specify parameter:\nparm = 'pressure_at_sea' # see parameterId-list at url: https://confluence.govcloud.dk/pages/viewpage.action?pageId=26476616\n\n# Specify station no.:\nstat = '06184' # see stationId-list at url: https://confluence.govcloud.dk/pages/viewpage.action?pageId=41717704#Stations(metObs)-StationsavailableforthemetObsservice\n\n# Specifies query:\nparams = {'api-key' : api_key,\n          'datetime' : fromtotime,\n          'stationId' : stat,\n          'parameterId' : parm,  \n          'limit' : '300000', # check later, that the DataFrame \"data\" contains less records than set limit!\n          }\n\nr = requests.get(url, params=params) # when run, this returns a \"response object\" of the reqest module\n\njson = r.json() # extracts JSON data from \"response object\". JSON is a human-readable format for data exchange.\n\nfrom pandas.io.json import json_normalize # The json object has a nested structure (e.g., dictionaries being contained in dictionaries)... \ndf = json_normalize(json['features']) # converts the JSON object to a Pandas DataFrame. Using json_normalize() we select from the json object only the dictionary named 'features' and use these as columns headers in the final DataFrame\n",
   "metadata": {
    "cell_id": "7cebefa863e246338157dd7c2bf76a4d",
    "tags": [],
    "deepnote_to_be_reexecuted": false,
    "source_hash": "fe0c0e1e",
    "execution_start": 1648639659171,
    "execution_millis": 478,
    "deepnote_cell_type": "code",
    "deepnote_cell_height": 906
   },
   "outputs": [
    {
     "name": "stderr",
     "text": "/shared-libs/python3.7/py-core/lib/python3.7/site-packages/ipykernel_launcher.py:43: FutureWarning: pandas.io.json.json_normalize is deprecated, use pandas.json_normalize instead\n",
     "output_type": "stream"
    }
   ],
   "execution_count": 9
  },
  {
   "cell_type": "code",
   "source": "df",
   "metadata": {
    "cell_id": "21860c211c274b02be13ad1680ed07a3",
    "tags": [],
    "deepnote_to_be_reexecuted": false,
    "source_hash": "f804c160",
    "execution_start": 1648639659810,
    "execution_millis": 0,
    "deepnote_cell_type": "code",
    "deepnote_cell_height": 188
   },
   "outputs": [
    {
     "output_type": "execute_result",
     "execution_count": 10,
     "data": {
      "application/vnd.deepnote.dataframe.v3+json": {
       "column_count": 0,
       "row_count": 0,
       "columns": [
        {
         "name": "_deepnote_index_column",
         "dtype": "object"
        }
       ],
       "rows": []
      },
      "text/plain": "Empty DataFrame\nColumns: []\nIndex: []",
      "text/html": "<div>\n<style scoped>\n    .dataframe tbody tr th:only-of-type {\n        vertical-align: middle;\n    }\n\n    .dataframe tbody tr th {\n        vertical-align: top;\n    }\n\n    .dataframe thead th {\n        text-align: right;\n    }\n</style>\n<table border=\"1\" class=\"dataframe\">\n  <thead>\n    <tr style=\"text-align: right;\">\n      <th></th>\n    </tr>\n  </thead>\n  <tbody>\n  </tbody>\n</table>\n</div>"
     },
     "metadata": {}
    }
   ],
   "execution_count": 10
  },
  {
   "cell_type": "code",
   "source": "# (lon, lat) 12.447848326393638, 55.606375666851676\n# 55.73107930538074, 12.692825590170797\n\nurl = 'https://dmigw.govcloud.dk/v2/metObs/collections/observation/items' \n\nheader={'X-Gravitee-Api-Key': api_key} #hidden \n\n# Parameters: https://confluence.govcloud.dk/pages/viewpage.action?pageId=26476616\nparam_list = ['temp_mean_past1h', 'wind_dir_past1h','wind_speed_past1h','precip_past1h', 'weather']\n\n#Construct weather dataframe\ndf_weather = pd.DataFrame()\n\nfor param in param_list:\n\n    # Specify query parameters\n    params = {'datetime' : '2005-01-01T00:00:00Z/2014-12-31T23:59:00Z',\n            'parameterId' : param,\n            'limit' : '300000',\n            # Use bbox from above\n            'bbox' : '12.447848326393638,55.606375666851676,12.692825590170797,55.73107930538074'\n            }\n\n\n    r = requests.get(url,headers=header,params=params) # submit GET request based on url and headers\n    json_t = r.json()['features']\n    df_weather_t = pd.json_normalize(json_t)\n    df_weather = pd.concat([df_weather, df_weather_t])",
   "metadata": {
    "cell_id": "81e8076f6c4a4574a267d17e4771411a",
    "tags": [],
    "deepnote_to_be_reexecuted": false,
    "source_hash": "2c7f2b04",
    "execution_start": 1648639708404,
    "execution_millis": 141634,
    "deepnote_cell_type": "code",
    "deepnote_cell_height": 878
   },
   "outputs": [
    {
     "name": "stdout",
     "text": "<Response [200]> https://dmigw.govcloud.dk/v2/metObs/collections/observation/items?datetime=2005-01-01T00%3A00%3A00Z%2F2014-12-31T23%3A59%3A00Z&parameterId=temp_mean_past1h&limit=300000&bbox=12.447848326393638%2C55.606375666851676%2C12.692825590170797%2C55.73107930538074\n<Response [200]> https://dmigw.govcloud.dk/v2/metObs/collections/observation/items?datetime=2005-01-01T00%3A00%3A00Z%2F2014-12-31T23%3A59%3A00Z&parameterId=wind_dir_past1h&limit=300000&bbox=12.447848326393638%2C55.606375666851676%2C12.692825590170797%2C55.73107930538074\n<Response [200]> https://dmigw.govcloud.dk/v2/metObs/collections/observation/items?datetime=2005-01-01T00%3A00%3A00Z%2F2014-12-31T23%3A59%3A00Z&parameterId=wind_speed_past1h&limit=300000&bbox=12.447848326393638%2C55.606375666851676%2C12.692825590170797%2C55.73107930538074\n<Response [200]> https://dmigw.govcloud.dk/v2/metObs/collections/observation/items?datetime=2005-01-01T00%3A00%3A00Z%2F2014-12-31T23%3A59%3A00Z&parameterId=precip_past1h&limit=300000&bbox=12.447848326393638%2C55.606375666851676%2C12.692825590170797%2C55.73107930538074\n<Response [200]> https://dmigw.govcloud.dk/v2/metObs/collections/observation/items?datetime=2005-01-01T00%3A00%3A00Z%2F2014-12-31T23%3A59%3A00Z&parameterId=weather&limit=300000&bbox=12.447848326393638%2C55.606375666851676%2C12.692825590170797%2C55.73107930538074\n",
     "output_type": "stream"
    }
   ],
   "execution_count": 11
  },
  {
   "cell_type": "code",
   "source": "df_weather['properties.parameterId'].unique()",
   "metadata": {
    "cell_id": "10153bef4f30423988c2cd23a08fc149",
    "tags": [],
    "deepnote_to_be_reexecuted": false,
    "source_hash": "4e118d23",
    "execution_start": 1648640207699,
    "execution_millis": 42,
    "deepnote_cell_type": "code",
    "deepnote_cell_height": 137,
    "deepnote_output_heights": [
     40
    ]
   },
   "outputs": [
    {
     "output_type": "execute_result",
     "execution_count": 17,
     "data": {
      "text/plain": "array(['temp_mean_past1h', 'wind_dir_past1h', 'wind_speed_past1h',\n       'precip_past1h', 'weather'], dtype=object)"
     },
     "metadata": {}
    }
   ],
   "execution_count": 17
  },
  {
   "cell_type": "code",
   "source": "df_weather",
   "metadata": {
    "cell_id": "ef297224aea645648b6252a30ff75102",
    "tags": [],
    "deepnote_to_be_reexecuted": false,
    "source_hash": "40b61e83",
    "execution_start": 1648640245220,
    "execution_millis": 358,
    "deepnote_cell_type": "code",
    "deepnote_cell_height": 598
   },
   "outputs": [
    {
     "output_type": "execute_result",
     "execution_count": 18,
     "data": {
      "application/vnd.deepnote.dataframe.v3+json": {
       "column_count": 9,
       "row_count": 491359,
       "columns": [
        {
         "name": "id",
         "dtype": "object"
        },
        {
         "name": "type",
         "dtype": "object"
        },
        {
         "name": "geometry.coordinates",
         "dtype": "object"
        },
        {
         "name": "geometry.type",
         "dtype": "object"
        },
        {
         "name": "properties.created",
         "dtype": "object"
        },
        {
         "name": "properties.observed",
         "dtype": "object"
        },
        {
         "name": "properties.parameterId",
         "dtype": "object"
        },
        {
         "name": "properties.stationId",
         "dtype": "object"
        },
        {
         "name": "properties.value",
         "dtype": "float64"
        },
        {
         "name": "_deepnote_index_column",
         "dtype": "int64"
        }
       ],
       "rows": [
        {
         "id": "4debab73-a20f-e3e3-b2bf-0d3571f1c03a",
         "type": "Feature",
         "geometry.coordinates": "[12.6455, 55.614]",
         "geometry.type": "Point",
         "properties.created": "2022-02-23T04:21:36.478108Z",
         "properties.observed": "2014-12-31T23:00:00Z",
         "properties.parameterId": "temp_mean_past1h",
         "properties.stationId": "06180",
         "properties.value": 5,
         "_deepnote_index_column": 0
        },
        {
         "id": "2311654c-ce3f-bcb5-eefc-d2c6024e742b",
         "type": "Feature",
         "geometry.coordinates": "[12.6455, 55.614]",
         "geometry.type": "Point",
         "properties.created": "2022-02-23T04:21:36.334375Z",
         "properties.observed": "2014-12-31T22:00:00Z",
         "properties.parameterId": "temp_mean_past1h",
         "properties.stationId": "06180",
         "properties.value": 5.2,
         "_deepnote_index_column": 1
        },
        {
         "id": "847bb3a8-5880-d74f-5356-c46e59223e24",
         "type": "Feature",
         "geometry.coordinates": "[12.6455, 55.614]",
         "geometry.type": "Point",
         "properties.created": "2022-02-23T04:21:36.148388Z",
         "properties.observed": "2014-12-31T21:00:00Z",
         "properties.parameterId": "temp_mean_past1h",
         "properties.stationId": "06180",
         "properties.value": 5.5,
         "_deepnote_index_column": 2
        },
        {
         "id": "da1c8a09-3fdb-1431-e210-f3c5eaf4c9cd",
         "type": "Feature",
         "geometry.coordinates": "[12.6455, 55.614]",
         "geometry.type": "Point",
         "properties.created": "2022-02-23T04:21:35.978337Z",
         "properties.observed": "2014-12-31T20:00:00Z",
         "properties.parameterId": "temp_mean_past1h",
         "properties.stationId": "06180",
         "properties.value": 5.8,
         "_deepnote_index_column": 3
        },
        {
         "id": "7e60a495-cefc-ccbb-8cfd-2239ed6714ed",
         "type": "Feature",
         "geometry.coordinates": "[12.6455, 55.614]",
         "geometry.type": "Point",
         "properties.created": "2022-02-23T04:21:35.831114Z",
         "properties.observed": "2014-12-31T19:00:00Z",
         "properties.parameterId": "temp_mean_past1h",
         "properties.stationId": "06180",
         "properties.value": 5.8,
         "_deepnote_index_column": 4
        },
        {
         "id": "a2299318-55ed-ee66-d72f-b1a5cd8c1da2",
         "type": "Feature",
         "geometry.coordinates": "[12.6455, 55.614]",
         "geometry.type": "Point",
         "properties.created": "2022-02-23T04:21:35.757793Z",
         "properties.observed": "2014-12-31T18:00:00Z",
         "properties.parameterId": "temp_mean_past1h",
         "properties.stationId": "06180",
         "properties.value": 5.1,
         "_deepnote_index_column": 5
        },
        {
         "id": "d5accfa7-caba-55a4-7ba9-175202b15ebd",
         "type": "Feature",
         "geometry.coordinates": "[12.6455, 55.614]",
         "geometry.type": "Point",
         "properties.created": "2022-02-23T04:21:35.513850Z",
         "properties.observed": "2014-12-31T17:00:00Z",
         "properties.parameterId": "temp_mean_past1h",
         "properties.stationId": "06180",
         "properties.value": 5,
         "_deepnote_index_column": 6
        },
        {
         "id": "1331193e-0d3f-701c-5791-3e699e138611",
         "type": "Feature",
         "geometry.coordinates": "[12.6455, 55.614]",
         "geometry.type": "Point",
         "properties.created": "2022-02-23T04:21:35.431646Z",
         "properties.observed": "2014-12-31T16:00:00Z",
         "properties.parameterId": "temp_mean_past1h",
         "properties.stationId": "06180",
         "properties.value": 6.1,
         "_deepnote_index_column": 7
        },
        {
         "id": "e89fe281-411f-f684-fac3-8fc7e3ea27e0",
         "type": "Feature",
         "geometry.coordinates": "[12.6455, 55.614]",
         "geometry.type": "Point",
         "properties.created": "2022-02-23T04:21:35.262097Z",
         "properties.observed": "2014-12-31T15:00:00Z",
         "properties.parameterId": "temp_mean_past1h",
         "properties.stationId": "06180",
         "properties.value": 7,
         "_deepnote_index_column": 8
        },
        {
         "id": "adaecc80-8f37-f42d-42ce-847857cd5f23",
         "type": "Feature",
         "geometry.coordinates": "[12.6455, 55.614]",
         "geometry.type": "Point",
         "properties.created": "2022-02-23T04:21:35.058839Z",
         "properties.observed": "2014-12-31T14:00:00Z",
         "properties.parameterId": "temp_mean_past1h",
         "properties.stationId": "06180",
         "properties.value": 7.5,
         "_deepnote_index_column": 9
        }
       ]
      },
      "text/plain": "                                         id     type geometry.coordinates  \\\n0      4debab73-a20f-e3e3-b2bf-0d3571f1c03a  Feature    [12.6455, 55.614]   \n1      2311654c-ce3f-bcb5-eefc-d2c6024e742b  Feature    [12.6455, 55.614]   \n2      847bb3a8-5880-d74f-5356-c46e59223e24  Feature    [12.6455, 55.614]   \n3      da1c8a09-3fdb-1431-e210-f3c5eaf4c9cd  Feature    [12.6455, 55.614]   \n4      7e60a495-cefc-ccbb-8cfd-2239ed6714ed  Feature    [12.6455, 55.614]   \n...                                     ...      ...                  ...   \n16301  37696507-a1ca-2796-c695-4b42f936a51c  Feature    [12.6455, 55.614]   \n16302  c0f91da4-99ef-7eea-4853-26f9c0f99766  Feature    [12.6455, 55.614]   \n16303  c71b653c-84d9-dfc0-34b1-005c4a5c3b9c  Feature    [12.6455, 55.614]   \n16304  166379dd-2aa4-8914-20d2-9aafdea39d36  Feature    [12.6455, 55.614]   \n16305  3ee32575-bfa3-76d8-322a-4a213d70f666  Feature    [12.6455, 55.614]   \n\n      geometry.type           properties.created   properties.observed  \\\n0             Point  2022-02-23T04:21:36.478108Z  2014-12-31T23:00:00Z   \n1             Point  2022-02-23T04:21:36.334375Z  2014-12-31T22:00:00Z   \n2             Point  2022-02-23T04:21:36.148388Z  2014-12-31T21:00:00Z   \n3             Point  2022-02-23T04:21:35.978337Z  2014-12-31T20:00:00Z   \n4             Point  2022-02-23T04:21:35.831114Z  2014-12-31T19:00:00Z   \n...             ...                          ...                   ...   \n16301         Point  2022-02-23T09:33:02.397711Z  2005-01-01T12:00:00Z   \n16302         Point  2022-02-23T09:33:02.394710Z  2005-01-01T09:00:00Z   \n16303         Point  2022-02-23T09:33:02.391423Z  2005-01-01T06:00:00Z   \n16304         Point  2022-02-23T09:33:02.388680Z  2005-01-01T03:00:00Z   \n16305         Point  2022-02-23T09:33:02.384607Z  2005-01-01T00:00:00Z   \n\n      properties.parameterId properties.stationId  properties.value  \n0           temp_mean_past1h                06180               5.0  \n1           temp_mean_past1h                06180               5.2  \n2           temp_mean_past1h                06180               5.5  \n3           temp_mean_past1h                06180               5.8  \n4           temp_mean_past1h                06180               5.8  \n...                      ...                  ...               ...  \n16301                weather                06180              10.0  \n16302                weather                06180              10.0  \n16303                weather                06180               2.0  \n16304                weather                06180              46.0  \n16305                weather                06180              46.0  \n\n[491359 rows x 9 columns]",
      "text/html": "<div>\n<style scoped>\n    .dataframe tbody tr th:only-of-type {\n        vertical-align: middle;\n    }\n\n    .dataframe tbody tr th {\n        vertical-align: top;\n    }\n\n    .dataframe thead th {\n        text-align: right;\n    }\n</style>\n<table border=\"1\" class=\"dataframe\">\n  <thead>\n    <tr style=\"text-align: right;\">\n      <th></th>\n      <th>id</th>\n      <th>type</th>\n      <th>geometry.coordinates</th>\n      <th>geometry.type</th>\n      <th>properties.created</th>\n      <th>properties.observed</th>\n      <th>properties.parameterId</th>\n      <th>properties.stationId</th>\n      <th>properties.value</th>\n    </tr>\n  </thead>\n  <tbody>\n    <tr>\n      <th>0</th>\n      <td>4debab73-a20f-e3e3-b2bf-0d3571f1c03a</td>\n      <td>Feature</td>\n      <td>[12.6455, 55.614]</td>\n      <td>Point</td>\n      <td>2022-02-23T04:21:36.478108Z</td>\n      <td>2014-12-31T23:00:00Z</td>\n      <td>temp_mean_past1h</td>\n      <td>06180</td>\n      <td>5.0</td>\n    </tr>\n    <tr>\n      <th>1</th>\n      <td>2311654c-ce3f-bcb5-eefc-d2c6024e742b</td>\n      <td>Feature</td>\n      <td>[12.6455, 55.614]</td>\n      <td>Point</td>\n      <td>2022-02-23T04:21:36.334375Z</td>\n      <td>2014-12-31T22:00:00Z</td>\n      <td>temp_mean_past1h</td>\n      <td>06180</td>\n      <td>5.2</td>\n    </tr>\n    <tr>\n      <th>2</th>\n      <td>847bb3a8-5880-d74f-5356-c46e59223e24</td>\n      <td>Feature</td>\n      <td>[12.6455, 55.614]</td>\n      <td>Point</td>\n      <td>2022-02-23T04:21:36.148388Z</td>\n      <td>2014-12-31T21:00:00Z</td>\n      <td>temp_mean_past1h</td>\n      <td>06180</td>\n      <td>5.5</td>\n    </tr>\n    <tr>\n      <th>3</th>\n      <td>da1c8a09-3fdb-1431-e210-f3c5eaf4c9cd</td>\n      <td>Feature</td>\n      <td>[12.6455, 55.614]</td>\n      <td>Point</td>\n      <td>2022-02-23T04:21:35.978337Z</td>\n      <td>2014-12-31T20:00:00Z</td>\n      <td>temp_mean_past1h</td>\n      <td>06180</td>\n      <td>5.8</td>\n    </tr>\n    <tr>\n      <th>4</th>\n      <td>7e60a495-cefc-ccbb-8cfd-2239ed6714ed</td>\n      <td>Feature</td>\n      <td>[12.6455, 55.614]</td>\n      <td>Point</td>\n      <td>2022-02-23T04:21:35.831114Z</td>\n      <td>2014-12-31T19:00:00Z</td>\n      <td>temp_mean_past1h</td>\n      <td>06180</td>\n      <td>5.8</td>\n    </tr>\n    <tr>\n      <th>...</th>\n      <td>...</td>\n      <td>...</td>\n      <td>...</td>\n      <td>...</td>\n      <td>...</td>\n      <td>...</td>\n      <td>...</td>\n      <td>...</td>\n      <td>...</td>\n    </tr>\n    <tr>\n      <th>16301</th>\n      <td>37696507-a1ca-2796-c695-4b42f936a51c</td>\n      <td>Feature</td>\n      <td>[12.6455, 55.614]</td>\n      <td>Point</td>\n      <td>2022-02-23T09:33:02.397711Z</td>\n      <td>2005-01-01T12:00:00Z</td>\n      <td>weather</td>\n      <td>06180</td>\n      <td>10.0</td>\n    </tr>\n    <tr>\n      <th>16302</th>\n      <td>c0f91da4-99ef-7eea-4853-26f9c0f99766</td>\n      <td>Feature</td>\n      <td>[12.6455, 55.614]</td>\n      <td>Point</td>\n      <td>2022-02-23T09:33:02.394710Z</td>\n      <td>2005-01-01T09:00:00Z</td>\n      <td>weather</td>\n      <td>06180</td>\n      <td>10.0</td>\n    </tr>\n    <tr>\n      <th>16303</th>\n      <td>c71b653c-84d9-dfc0-34b1-005c4a5c3b9c</td>\n      <td>Feature</td>\n      <td>[12.6455, 55.614]</td>\n      <td>Point</td>\n      <td>2022-02-23T09:33:02.391423Z</td>\n      <td>2005-01-01T06:00:00Z</td>\n      <td>weather</td>\n      <td>06180</td>\n      <td>2.0</td>\n    </tr>\n    <tr>\n      <th>16304</th>\n      <td>166379dd-2aa4-8914-20d2-9aafdea39d36</td>\n      <td>Feature</td>\n      <td>[12.6455, 55.614]</td>\n      <td>Point</td>\n      <td>2022-02-23T09:33:02.388680Z</td>\n      <td>2005-01-01T03:00:00Z</td>\n      <td>weather</td>\n      <td>06180</td>\n      <td>46.0</td>\n    </tr>\n    <tr>\n      <th>16305</th>\n      <td>3ee32575-bfa3-76d8-322a-4a213d70f666</td>\n      <td>Feature</td>\n      <td>[12.6455, 55.614]</td>\n      <td>Point</td>\n      <td>2022-02-23T09:33:02.384607Z</td>\n      <td>2005-01-01T00:00:00Z</td>\n      <td>weather</td>\n      <td>06180</td>\n      <td>46.0</td>\n    </tr>\n  </tbody>\n</table>\n<p>491359 rows × 9 columns</p>\n</div>"
     },
     "metadata": {}
    }
   ],
   "execution_count": 18
  },
  {
   "cell_type": "code",
   "source": "",
   "metadata": {
    "cell_id": "7272378e663b415b95d86817a7514070",
    "tags": [],
    "deepnote_cell_type": "code",
    "deepnote_cell_height": 66
   },
   "outputs": [],
   "execution_count": null
  },
  {
   "cell_type": "markdown",
   "source": "<a style='text-decoration:none;line-height:16px;display:flex;color:#5B5B62;padding:10px;justify-content:end;' href='https://deepnote.com?utm_source=created-in-deepnote-cell&projectId=61ec0a5b-e327-402f-95c1-91c4aeb91c25' target=\"_blank\">\n<img alt='Created in deepnote.com' style='display:inline;max-height:16px;margin:0px;margin-right:7.5px;' src='data:image/svg+xml;base64,PD94bWwgdmVyc2lvbj0iMS4wIiBlbmNvZGluZz0iVVRGLTgiPz4KPHN2ZyB3aWR0aD0iODBweCIgaGVpZ2h0PSI4MHB4IiB2aWV3Qm94PSIwIDAgODAgODAiIHZlcnNpb249IjEuMSIgeG1sbnM9Imh0dHA6Ly93d3cudzMub3JnLzIwMDAvc3ZnIiB4bWxuczp4bGluaz0iaHR0cDovL3d3dy53My5vcmcvMTk5OS94bGluayI+CiAgICA8IS0tIEdlbmVyYXRvcjogU2tldGNoIDU0LjEgKDc2NDkwKSAtIGh0dHBzOi8vc2tldGNoYXBwLmNvbSAtLT4KICAgIDx0aXRsZT5Hcm91cCAzPC90aXRsZT4KICAgIDxkZXNjPkNyZWF0ZWQgd2l0aCBTa2V0Y2guPC9kZXNjPgogICAgPGcgaWQ9IkxhbmRpbmciIHN0cm9rZT0ibm9uZSIgc3Ryb2tlLXdpZHRoPSIxIiBmaWxsPSJub25lIiBmaWxsLXJ1bGU9ImV2ZW5vZGQiPgogICAgICAgIDxnIGlkPSJBcnRib2FyZCIgdHJhbnNmb3JtPSJ0cmFuc2xhdGUoLTEyMzUuMDAwMDAwLCAtNzkuMDAwMDAwKSI+CiAgICAgICAgICAgIDxnIGlkPSJHcm91cC0zIiB0cmFuc2Zvcm09InRyYW5zbGF0ZSgxMjM1LjAwMDAwMCwgNzkuMDAwMDAwKSI+CiAgICAgICAgICAgICAgICA8cG9seWdvbiBpZD0iUGF0aC0yMCIgZmlsbD0iIzAyNjVCNCIgcG9pbnRzPSIyLjM3NjIzNzYyIDgwIDM4LjA0NzY2NjcgODAgNTcuODIxNzgyMiA3My44MDU3NTkyIDU3LjgyMTc4MjIgMzIuNzU5MjczOSAzOS4xNDAyMjc4IDMxLjY4MzE2ODMiPjwvcG9seWdvbj4KICAgICAgICAgICAgICAgIDxwYXRoIGQ9Ik0zNS4wMDc3MTgsODAgQzQyLjkwNjIwMDcsNzYuNDU0OTM1OCA0Ny41NjQ5MTY3LDcxLjU0MjI2NzEgNDguOTgzODY2LDY1LjI2MTk5MzkgQzUxLjExMjI4OTksNTUuODQxNTg0MiA0MS42NzcxNzk1LDQ5LjIxMjIyODQgMjUuNjIzOTg0Niw0OS4yMTIyMjg0IEMyNS40ODQ5Mjg5LDQ5LjEyNjg0NDggMjkuODI2MTI5Niw0My4yODM4MjQ4IDM4LjY0NzU4NjksMzEuNjgzMTY4MyBMNzIuODcxMjg3MSwzMi41NTQ0MjUgTDY1LjI4MDk3Myw2Ny42NzYzNDIxIEw1MS4xMTIyODk5LDc3LjM3NjE0NCBMMzUuMDA3NzE4LDgwIFoiIGlkPSJQYXRoLTIyIiBmaWxsPSIjMDAyODY4Ij48L3BhdGg+CiAgICAgICAgICAgICAgICA8cGF0aCBkPSJNMCwzNy43MzA0NDA1IEwyNy4xMTQ1MzcsMC4yNTcxMTE0MzYgQzYyLjM3MTUxMjMsLTEuOTkwNzE3MDEgODAsMTAuNTAwMzkyNyA4MCwzNy43MzA0NDA1IEM4MCw2NC45NjA0ODgyIDY0Ljc3NjUwMzgsNzkuMDUwMzQxNCAzNC4zMjk1MTEzLDgwIEM0Ny4wNTUzNDg5LDc3LjU2NzA4MDggNTMuNDE4MjY3Nyw3MC4zMTM2MTAzIDUzLjQxODI2NzcsNTguMjM5NTg4NSBDNTMuNDE4MjY3Nyw0MC4xMjg1NTU3IDM2LjMwMzk1NDQsMzcuNzMwNDQwNSAyNS4yMjc0MTcsMzcuNzMwNDQwNSBDMTcuODQzMDU4NiwzNy43MzA0NDA1IDkuNDMzOTE5NjYsMzcuNzMwNDQwNSAwLDM3LjczMDQ0MDUgWiIgaWQ9IlBhdGgtMTkiIGZpbGw9IiMzNzkzRUYiPjwvcGF0aD4KICAgICAgICAgICAgPC9nPgogICAgICAgIDwvZz4KICAgIDwvZz4KPC9zdmc+' > </img>\nCreated in <span style='font-weight:600;margin-left:4px;'>Deepnote</span></a>",
   "metadata": {
    "tags": [],
    "created_in_deepnote_cell": true,
    "deepnote_cell_type": "markdown"
   }
  }
 ],
 "nbformat": 4,
 "nbformat_minor": 2,
 "metadata": {
  "orig_nbformat": 2,
  "deepnote": {
   "is_reactive": false
  },
  "deepnote_notebook_id": "3d7d5d12-bb9b-4f47-aef7-ad3ed1e6d099",
  "deepnote_execution_queue": []
 }
}