{
 "cells": [
  {
   "cell_type": "code",
   "metadata": {
    "tags": [],
    "cell_id": "817d530a-18df-4d21-a046-51868233cd5a",
    "deepnote_to_be_reexecuted": false,
    "source_hash": "efaa6156",
    "execution_start": 1651055792002,
    "execution_millis": 2,
    "deepnote_cell_type": "code",
    "deepnote_cell_height": 99
   },
   "source": "import requests\nimport pandas as pd",
   "execution_count": null,
   "outputs": []
  },
  {
   "cell_type": "code",
   "metadata": {
    "cell_id": "a1f25b6113fe47cc812b3d639003c0eb",
    "tags": [],
    "deepnote_to_be_reexecuted": false,
    "source_hash": "cccb446f",
    "execution_start": 1648646708464,
    "execution_millis": 179,
    "deepnote_cell_type": "code",
    "deepnote_cell_height": 654
   },
   "source": "# Data preparation\ndf_traffic = pd.read_csv('data/trafiktaelling.csv')\ndf_traffic = df_traffic.drop(['FID'], axis=1)\ndf_traffic",
   "execution_count": null,
   "outputs": [
    {
     "output_type": "execute_result",
     "execution_count": 2,
     "data": {
      "application/vnd.deepnote.dataframe.v3+json": {
       "column_count": 35,
       "row_count": 1077,
       "columns": [
        {
         "name": "t_nr",
         "dtype": "int64",
         "stats": {
          "unique_count": 1067,
          "nan_count": 0,
          "min": "1",
          "max": "10199",
          "histogram": [
           {
            "bin_start": 1,
            "bin_end": 1020.8,
            "count": 484
           },
           {
            "bin_start": 1020.8,
            "bin_end": 2040.6,
            "count": 0
           },
           {
            "bin_start": 2040.6,
            "bin_end": 3060.3999999999996,
            "count": 1
           },
           {
            "bin_start": 3060.3999999999996,
            "bin_end": 4080.2,
            "count": 2
           },
           {
            "bin_start": 4080.2,
            "bin_end": 5100,
            "count": 0
           },
           {
            "bin_start": 5100,
            "bin_end": 6119.799999999999,
            "count": 0
           },
           {
            "bin_start": 6119.799999999999,
            "bin_end": 7139.599999999999,
            "count": 58
           },
           {
            "bin_start": 7139.599999999999,
            "bin_end": 8159.4,
            "count": 92
           },
           {
            "bin_start": 8159.4,
            "bin_end": 9179.199999999999,
            "count": 33
           },
           {
            "bin_start": 9179.199999999999,
            "bin_end": 10199,
            "count": 407
           }
          ]
         }
        },
        {
         "name": "vejnavn",
         "dtype": "object",
         "stats": {
          "unique_count": 710,
          "nan_count": 0,
          "categories": [
           {
            "name": "Tagensvej",
            "count": 16
           },
           {
            "name": "Østerbrogade",
            "count": 12
           },
           {
            "name": "708 others",
            "count": 1049
           }
          ]
         }
        },
        {
         "name": "beskrivelse",
         "dtype": "object",
         "stats": {
          "unique_count": 560,
          "nan_count": 154,
          "categories": [
           {
            "name": "FOD",
            "count": 46
           },
           {
            "name": "559 others",
            "count": 877
           },
           {
            "name": "Missing",
            "count": 154
           }
          ]
         }
        },
        {
         "name": "husnummer",
         "dtype": "object",
         "stats": {
          "unique_count": 277,
          "nan_count": 317,
          "categories": [
           {
            "name": "-",
            "count": 36
           },
           {
            "name": "276 others",
            "count": 724
           },
           {
            "name": "Missing",
            "count": 317
           }
          ]
         }
        },
        {
         "name": "type",
         "dtype": "float64",
         "stats": {
          "unique_count": 7,
          "nan_count": 1,
          "min": "1.0",
          "max": "9999.0",
          "histogram": [
           {
            "bin_start": 1,
            "bin_end": 1000.8,
            "count": 1075
           },
           {
            "bin_start": 1000.8,
            "bin_end": 2000.6,
            "count": 0
           },
           {
            "bin_start": 2000.6,
            "bin_end": 3000.3999999999996,
            "count": 0
           },
           {
            "bin_start": 3000.3999999999996,
            "bin_end": 4000.2,
            "count": 0
           },
           {
            "bin_start": 4000.2,
            "bin_end": 5000,
            "count": 0
           },
           {
            "bin_start": 5000,
            "bin_end": 5999.799999999999,
            "count": 0
           },
           {
            "bin_start": 5999.799999999999,
            "bin_end": 6999.599999999999,
            "count": 0
           },
           {
            "bin_start": 6999.599999999999,
            "bin_end": 7999.4,
            "count": 0
           },
           {
            "bin_start": 7999.4,
            "bin_end": 8999.199999999999,
            "count": 0
           },
           {
            "bin_start": 8999.199999999999,
            "bin_end": 9999,
            "count": 1
           }
          ]
         }
        },
        {
         "name": "taelling_type",
         "dtype": "object",
         "stats": {
          "unique_count": 6,
          "nan_count": 0,
          "categories": [
           {
            "name": "Øvrige tællinger",
            "count": 569
           },
           {
            "name": "Andre faste tællinger",
            "count": 230
           },
           {
            "name": "4 others",
            "count": 278
           }
          ]
         }
        },
        {
         "name": "ktj_7_19",
         "dtype": "float64",
         "stats": {
          "unique_count": 465,
          "nan_count": 539,
          "min": "0.0",
          "max": "69382.0",
          "histogram": [
           {
            "bin_start": 0,
            "bin_end": 6938.2,
            "count": 331
           },
           {
            "bin_start": 6938.2,
            "bin_end": 13876.4,
            "count": 114
           },
           {
            "bin_start": 13876.4,
            "bin_end": 20814.6,
            "count": 56
           },
           {
            "bin_start": 20814.6,
            "bin_end": 27752.8,
            "count": 12
           },
           {
            "bin_start": 27752.8,
            "bin_end": 34691,
            "count": 8
           },
           {
            "bin_start": 34691,
            "bin_end": 41629.2,
            "count": 7
           },
           {
            "bin_start": 41629.2,
            "bin_end": 48567.4,
            "count": 7
           },
           {
            "bin_start": 48567.4,
            "bin_end": 55505.6,
            "count": 1
           },
           {
            "bin_start": 55505.6,
            "bin_end": 62443.799999999996,
            "count": 1
           },
           {
            "bin_start": 62443.799999999996,
            "bin_end": 69382,
            "count": 1
           }
          ]
         }
        },
        {
         "name": "tung_pct",
         "dtype": "object",
         "stats": {
          "unique_count": 122,
          "nan_count": 581,
          "categories": [
           {
            "name": "3,8",
            "count": 16
           },
           {
            "name": "121 others",
            "count": 480
           },
           {
            "name": "Missing",
            "count": 581
           }
          ]
         }
        },
        {
         "name": "aadt_koretojer",
         "dtype": "float64",
         "stats": {
          "unique_count": 211,
          "nan_count": 539,
          "min": "0.0",
          "max": "81200.0",
          "histogram": [
           {
            "bin_start": 0,
            "bin_end": 8120,
            "count": 331
           },
           {
            "bin_start": 8120,
            "bin_end": 16240,
            "count": 114
           },
           {
            "bin_start": 16240,
            "bin_end": 24360,
            "count": 56
           },
           {
            "bin_start": 24360,
            "bin_end": 32480,
            "count": 12
           },
           {
            "bin_start": 32480,
            "bin_end": 40600,
            "count": 8
           },
           {
            "bin_start": 40600,
            "bin_end": 48720,
            "count": 7
           },
           {
            "bin_start": 48720,
            "bin_end": 56840,
            "count": 7
           },
           {
            "bin_start": 56840,
            "bin_end": 64960,
            "count": 1
           },
           {
            "bin_start": 64960,
            "bin_end": 73080,
            "count": 1
           },
           {
            "bin_start": 73080,
            "bin_end": 81200,
            "count": 1
           }
          ]
         }
        },
        {
         "name": "hvdt_koretojer",
         "dtype": "float64",
         "stats": {
          "unique_count": 222,
          "nan_count": 539,
          "min": "0.0",
          "max": "90900.0",
          "histogram": [
           {
            "bin_start": 0,
            "bin_end": 9090,
            "count": 331
           },
           {
            "bin_start": 9090,
            "bin_end": 18180,
            "count": 113
           },
           {
            "bin_start": 18180,
            "bin_end": 27270,
            "count": 57
           },
           {
            "bin_start": 27270,
            "bin_end": 36360,
            "count": 12
           },
           {
            "bin_start": 36360,
            "bin_end": 45450,
            "count": 8
           },
           {
            "bin_start": 45450,
            "bin_end": 54540,
            "count": 7
           },
           {
            "bin_start": 54540,
            "bin_end": 63630,
            "count": 7
           },
           {
            "bin_start": 63630,
            "bin_end": 72720,
            "count": 1
           },
           {
            "bin_start": 72720,
            "bin_end": 81810,
            "count": 1
           },
           {
            "bin_start": 81810,
            "bin_end": 90900,
            "count": 1
           }
          ]
         }
        },
        {
         "name": "cykler_7_19",
         "dtype": "float64",
         "stats": {
          "unique_count": 504,
          "nan_count": 472,
          "min": "0.0",
          "max": "37752.0",
          "histogram": [
           {
            "bin_start": 0,
            "bin_end": 3775.2,
            "count": 373
           },
           {
            "bin_start": 3775.2,
            "bin_end": 7550.4,
            "count": 144
           },
           {
            "bin_start": 7550.4,
            "bin_end": 11325.599999999999,
            "count": 56
           },
           {
            "bin_start": 11325.599999999999,
            "bin_end": 15100.8,
            "count": 14
           },
           {
            "bin_start": 15100.8,
            "bin_end": 18876,
            "count": 8
           },
           {
            "bin_start": 18876,
            "bin_end": 22651.199999999997,
            "count": 6
           },
           {
            "bin_start": 22651.199999999997,
            "bin_end": 26426.399999999998,
            "count": 3
           },
           {
            "bin_start": 26426.399999999998,
            "bin_end": 30201.6,
            "count": 0
           },
           {
            "bin_start": 30201.6,
            "bin_end": 33976.799999999996,
            "count": 0
           },
           {
            "bin_start": 33976.799999999996,
            "bin_end": 37752,
            "count": 1
           }
          ]
         }
        },
        {
         "name": "ladcykler_pct",
         "dtype": "object",
         "stats": {
          "unique_count": 60,
          "nan_count": 744,
          "categories": [
           {
            "name": "2,5",
            "count": 18
           },
           {
            "name": "59 others",
            "count": 315
           },
           {
            "name": "Missing",
            "count": 744
           }
          ]
         }
        },
        {
         "name": "aadt_cykler",
         "dtype": "float64",
         "stats": {
          "unique_count": 140,
          "nan_count": 472,
          "min": "0.0",
          "max": "38900.0",
          "histogram": [
           {
            "bin_start": 0,
            "bin_end": 3890,
            "count": 373
           },
           {
            "bin_start": 3890,
            "bin_end": 7780,
            "count": 143
           },
           {
            "bin_start": 7780,
            "bin_end": 11670,
            "count": 56
           },
           {
            "bin_start": 11670,
            "bin_end": 15560,
            "count": 15
           },
           {
            "bin_start": 15560,
            "bin_end": 19450,
            "count": 8
           },
           {
            "bin_start": 19450,
            "bin_end": 23340,
            "count": 6
           },
           {
            "bin_start": 23340,
            "bin_end": 27230,
            "count": 3
           },
           {
            "bin_start": 27230,
            "bin_end": 31120,
            "count": 0
           },
           {
            "bin_start": 31120,
            "bin_end": 35010,
            "count": 0
           },
           {
            "bin_start": 35010,
            "bin_end": 38900,
            "count": 1
           }
          ]
         }
        },
        {
         "name": "hvdt_cykler",
         "dtype": "float64",
         "stats": {
          "unique_count": 151,
          "nan_count": 472,
          "min": "0.0",
          "max": "46100.0",
          "histogram": [
           {
            "bin_start": 0,
            "bin_end": 4610,
            "count": 375
           },
           {
            "bin_start": 4610,
            "bin_end": 9220,
            "count": 142
           },
           {
            "bin_start": 9220,
            "bin_end": 13830,
            "count": 56
           },
           {
            "bin_start": 13830,
            "bin_end": 18440,
            "count": 14
           },
           {
            "bin_start": 18440,
            "bin_end": 23050,
            "count": 8
           },
           {
            "bin_start": 23050,
            "bin_end": 27660,
            "count": 6
           },
           {
            "bin_start": 27660,
            "bin_end": 32270,
            "count": 3
           },
           {
            "bin_start": 32270,
            "bin_end": 36880,
            "count": 0
           },
           {
            "bin_start": 36880,
            "bin_end": 41490,
            "count": 0
           },
           {
            "bin_start": 41490,
            "bin_end": 46100,
            "count": 1
           }
          ]
         }
        },
        {
         "name": "fod_7_19",
         "dtype": "float64",
         "stats": {
          "unique_count": 312,
          "nan_count": 745,
          "min": "41.0",
          "max": "35606.0",
          "histogram": [
           {
            "bin_start": 41,
            "bin_end": 3597.5,
            "count": 228
           },
           {
            "bin_start": 3597.5,
            "bin_end": 7154,
            "count": 68
           },
           {
            "bin_start": 7154,
            "bin_end": 10710.5,
            "count": 23
           },
           {
            "bin_start": 10710.5,
            "bin_end": 14267,
            "count": 4
           },
           {
            "bin_start": 14267,
            "bin_end": 17823.5,
            "count": 1
           },
           {
            "bin_start": 17823.5,
            "bin_end": 21380,
            "count": 2
           },
           {
            "bin_start": 21380,
            "bin_end": 24936.5,
            "count": 2
           },
           {
            "bin_start": 24936.5,
            "bin_end": 28493,
            "count": 2
           },
           {
            "bin_start": 28493,
            "bin_end": 32049.5,
            "count": 1
           },
           {
            "bin_start": 32049.5,
            "bin_end": 35606,
            "count": 1
           }
          ]
         }
        },
        {
         "name": "aadt_fod_7_19",
         "dtype": "float64",
         "stats": {
          "unique_count": 100,
          "nan_count": 745,
          "min": "0.0",
          "max": "41700.0",
          "histogram": [
           {
            "bin_start": 0,
            "bin_end": 4170,
            "count": 227
           },
           {
            "bin_start": 4170,
            "bin_end": 8340,
            "count": 69
           },
           {
            "bin_start": 8340,
            "bin_end": 12510,
            "count": 23
           },
           {
            "bin_start": 12510,
            "bin_end": 16680,
            "count": 4
           },
           {
            "bin_start": 16680,
            "bin_end": 20850,
            "count": 1
           },
           {
            "bin_start": 20850,
            "bin_end": 25020,
            "count": 2
           },
           {
            "bin_start": 25020,
            "bin_end": 29190,
            "count": 2
           },
           {
            "bin_start": 29190,
            "bin_end": 33360,
            "count": 2
           },
           {
            "bin_start": 33360,
            "bin_end": 37530,
            "count": 1
           },
           {
            "bin_start": 37530,
            "bin_end": 41700,
            "count": 1
           }
          ]
         }
        },
        {
         "name": "hvdt_fod_7_19",
         "dtype": "float64",
         "stats": {
          "unique_count": 99,
          "nan_count": 745,
          "min": "0.0",
          "max": "43100.0",
          "histogram": [
           {
            "bin_start": 0,
            "bin_end": 4310,
            "count": 228
           },
           {
            "bin_start": 4310,
            "bin_end": 8620,
            "count": 68
           },
           {
            "bin_start": 8620,
            "bin_end": 12930,
            "count": 23
           },
           {
            "bin_start": 12930,
            "bin_end": 17240,
            "count": 4
           },
           {
            "bin_start": 17240,
            "bin_end": 21550,
            "count": 1
           },
           {
            "bin_start": 21550,
            "bin_end": 25860,
            "count": 2
           },
           {
            "bin_start": 25860,
            "bin_end": 30170,
            "count": 2
           },
           {
            "bin_start": 30170,
            "bin_end": 34480,
            "count": 2
           },
           {
            "bin_start": 34480,
            "bin_end": 38790,
            "count": 1
           },
           {
            "bin_start": 38790,
            "bin_end": 43100,
            "count": 1
           }
          ]
         }
        },
        {
         "name": "fod_7_21",
         "dtype": "float64",
         "stats": {
          "unique_count": 0,
          "nan_count": 1077,
          "min": null,
          "max": null,
          "histogram": [
           {
            "bin_start": 0,
            "bin_end": 0.1,
            "count": 0
           },
           {
            "bin_start": 0.1,
            "bin_end": 0.2,
            "count": 0
           },
           {
            "bin_start": 0.2,
            "bin_end": 0.30000000000000004,
            "count": 0
           },
           {
            "bin_start": 0.30000000000000004,
            "bin_end": 0.4,
            "count": 0
           },
           {
            "bin_start": 0.4,
            "bin_end": 0.5,
            "count": 0
           },
           {
            "bin_start": 0.5,
            "bin_end": 0.6000000000000001,
            "count": 0
           },
           {
            "bin_start": 0.6000000000000001,
            "bin_end": 0.7000000000000001,
            "count": 0
           },
           {
            "bin_start": 0.7000000000000001,
            "bin_end": 0.8,
            "count": 0
           },
           {
            "bin_start": 0.8,
            "bin_end": 0.9,
            "count": 0
           },
           {
            "bin_start": 0.9,
            "bin_end": 1,
            "count": 0
           }
          ]
         }
        },
        {
         "name": "aadt_fod_7_21",
         "dtype": "float64",
         "stats": {
          "unique_count": 0,
          "nan_count": 1077,
          "min": null,
          "max": null,
          "histogram": [
           {
            "bin_start": 0,
            "bin_end": 0.1,
            "count": 0
           },
           {
            "bin_start": 0.1,
            "bin_end": 0.2,
            "count": 0
           },
           {
            "bin_start": 0.2,
            "bin_end": 0.30000000000000004,
            "count": 0
           },
           {
            "bin_start": 0.30000000000000004,
            "bin_end": 0.4,
            "count": 0
           },
           {
            "bin_start": 0.4,
            "bin_end": 0.5,
            "count": 0
           },
           {
            "bin_start": 0.5,
            "bin_end": 0.6000000000000001,
            "count": 0
           },
           {
            "bin_start": 0.6000000000000001,
            "bin_end": 0.7000000000000001,
            "count": 0
           },
           {
            "bin_start": 0.7000000000000001,
            "bin_end": 0.8,
            "count": 0
           },
           {
            "bin_start": 0.8,
            "bin_end": 0.9,
            "count": 0
           },
           {
            "bin_start": 0.9,
            "bin_end": 1,
            "count": 0
           }
          ]
         }
        },
        {
         "name": "hvdt_fod_7_21",
         "dtype": "float64",
         "stats": {
          "unique_count": 0,
          "nan_count": 1077,
          "min": null,
          "max": null,
          "histogram": [
           {
            "bin_start": 0,
            "bin_end": 0.1,
            "count": 0
           },
           {
            "bin_start": 0.1,
            "bin_end": 0.2,
            "count": 0
           },
           {
            "bin_start": 0.2,
            "bin_end": 0.30000000000000004,
            "count": 0
           },
           {
            "bin_start": 0.30000000000000004,
            "bin_end": 0.4,
            "count": 0
           },
           {
            "bin_start": 0.4,
            "bin_end": 0.5,
            "count": 0
           },
           {
            "bin_start": 0.5,
            "bin_end": 0.6000000000000001,
            "count": 0
           },
           {
            "bin_start": 0.6000000000000001,
            "bin_end": 0.7000000000000001,
            "count": 0
           },
           {
            "bin_start": 0.7000000000000001,
            "bin_end": 0.8,
            "count": 0
           },
           {
            "bin_start": 0.8,
            "bin_end": 0.9,
            "count": 0
           },
           {
            "bin_start": 0.9,
            "bin_end": 1,
            "count": 0
           }
          ]
         }
        },
        {
         "name": "fod_7_24",
         "dtype": "float64",
         "stats": {
          "unique_count": 1,
          "nan_count": 1076,
          "min": "18898.0",
          "max": "18898.0",
          "histogram": [
           {
            "bin_start": 18897.5,
            "bin_end": 18897.6,
            "count": 0
           },
           {
            "bin_start": 18897.6,
            "bin_end": 18897.7,
            "count": 0
           },
           {
            "bin_start": 18897.7,
            "bin_end": 18897.8,
            "count": 0
           },
           {
            "bin_start": 18897.8,
            "bin_end": 18897.9,
            "count": 0
           },
           {
            "bin_start": 18897.9,
            "bin_end": 18898,
            "count": 0
           },
           {
            "bin_start": 18898,
            "bin_end": 18898.1,
            "count": 1
           },
           {
            "bin_start": 18898.1,
            "bin_end": 18898.2,
            "count": 0
           },
           {
            "bin_start": 18898.2,
            "bin_end": 18898.3,
            "count": 0
           },
           {
            "bin_start": 18898.3,
            "bin_end": 18898.4,
            "count": 0
           },
           {
            "bin_start": 18898.4,
            "bin_end": 18898.5,
            "count": 0
           }
          ]
         }
        },
        {
         "name": "aadt_fod_7_24",
         "dtype": "float64",
         "stats": {
          "unique_count": 1,
          "nan_count": 1076,
          "min": "18900.0",
          "max": "18900.0",
          "histogram": [
           {
            "bin_start": 18899.5,
            "bin_end": 18899.6,
            "count": 0
           },
           {
            "bin_start": 18899.6,
            "bin_end": 18899.7,
            "count": 0
           },
           {
            "bin_start": 18899.7,
            "bin_end": 18899.8,
            "count": 0
           },
           {
            "bin_start": 18899.8,
            "bin_end": 18899.9,
            "count": 0
           },
           {
            "bin_start": 18899.9,
            "bin_end": 18900,
            "count": 0
           },
           {
            "bin_start": 18900,
            "bin_end": 18900.1,
            "count": 1
           },
           {
            "bin_start": 18900.1,
            "bin_end": 18900.2,
            "count": 0
           },
           {
            "bin_start": 18900.2,
            "bin_end": 18900.3,
            "count": 0
           },
           {
            "bin_start": 18900.3,
            "bin_end": 18900.4,
            "count": 0
           },
           {
            "bin_start": 18900.4,
            "bin_end": 18900.5,
            "count": 0
           }
          ]
         }
        },
        {
         "name": "hvdt_fod_7_24",
         "dtype": "float64",
         "stats": {
          "unique_count": 1,
          "nan_count": 1076,
          "min": "19700.0",
          "max": "19700.0",
          "histogram": [
           {
            "bin_start": 19699.5,
            "bin_end": 19699.6,
            "count": 0
           },
           {
            "bin_start": 19699.6,
            "bin_end": 19699.7,
            "count": 0
           },
           {
            "bin_start": 19699.7,
            "bin_end": 19699.8,
            "count": 0
           },
           {
            "bin_start": 19699.8,
            "bin_end": 19699.9,
            "count": 0
           },
           {
            "bin_start": 19699.9,
            "bin_end": 19700,
            "count": 0
           },
           {
            "bin_start": 19700,
            "bin_end": 19700.1,
            "count": 1
           },
           {
            "bin_start": 19700.1,
            "bin_end": 19700.2,
            "count": 0
           },
           {
            "bin_start": 19700.2,
            "bin_end": 19700.3,
            "count": 0
           },
           {
            "bin_start": 19700.3,
            "bin_end": 19700.4,
            "count": 0
           },
           {
            "bin_start": 19700.4,
            "bin_end": 19700.5,
            "count": 0
           }
          ]
         }
        },
        {
         "name": "aadt_fod_label",
         "dtype": "float64",
         "stats": {
          "unique_count": 100,
          "nan_count": 745,
          "min": "0.0",
          "max": "41700.0",
          "histogram": [
           {
            "bin_start": 0,
            "bin_end": 4170,
            "count": 227
           },
           {
            "bin_start": 4170,
            "bin_end": 8340,
            "count": 69
           },
           {
            "bin_start": 8340,
            "bin_end": 12510,
            "count": 23
           },
           {
            "bin_start": 12510,
            "bin_end": 16680,
            "count": 4
           },
           {
            "bin_start": 16680,
            "bin_end": 20850,
            "count": 1
           },
           {
            "bin_start": 20850,
            "bin_end": 25020,
            "count": 2
           },
           {
            "bin_start": 25020,
            "bin_end": 29190,
            "count": 2
           },
           {
            "bin_start": 29190,
            "bin_end": 33360,
            "count": 2
           },
           {
            "bin_start": 33360,
            "bin_end": 37530,
            "count": 1
           },
           {
            "bin_start": 37530,
            "bin_end": 41700,
            "count": 1
           }
          ]
         }
        },
        {
         "name": "taelle_dato",
         "dtype": "int64",
         "stats": {
          "unique_count": 406,
          "nan_count": 0,
          "min": "20090101",
          "max": "20201001",
          "histogram": [
           {
            "bin_start": 20090101,
            "bin_end": 20101191,
            "count": 86
           },
           {
            "bin_start": 20101191,
            "bin_end": 20112281,
            "count": 66
           },
           {
            "bin_start": 20112281,
            "bin_end": 20123371,
            "count": 60
           },
           {
            "bin_start": 20123371,
            "bin_end": 20134461,
            "count": 68
           },
           {
            "bin_start": 20134461,
            "bin_end": 20145551,
            "count": 120
           },
           {
            "bin_start": 20145551,
            "bin_end": 20156641,
            "count": 182
           },
           {
            "bin_start": 20156641,
            "bin_end": 20167731,
            "count": 163
           },
           {
            "bin_start": 20167731,
            "bin_end": 20178821,
            "count": 75
           },
           {
            "bin_start": 20178821,
            "bin_end": 20189911,
            "count": 89
           },
           {
            "bin_start": 20189911,
            "bin_end": 20201001,
            "count": 168
           }
          ]
         }
        },
        {
         "name": "aar",
         "dtype": "int64",
         "stats": {
          "unique_count": 12,
          "nan_count": 0,
          "min": "2009",
          "max": "2020",
          "histogram": [
           {
            "bin_start": 2009,
            "bin_end": 2010.1,
            "count": 89
           },
           {
            "bin_start": 2010.1,
            "bin_end": 2011.2,
            "count": 63
           },
           {
            "bin_start": 2011.2,
            "bin_end": 2012.3,
            "count": 59
           },
           {
            "bin_start": 2012.3,
            "bin_end": 2013.4,
            "count": 68
           },
           {
            "bin_start": 2013.4,
            "bin_end": 2014.5,
            "count": 120
           },
           {
            "bin_start": 2014.5,
            "bin_end": 2015.6,
            "count": 181
           },
           {
            "bin_start": 2015.6,
            "bin_end": 2016.7,
            "count": 165
           },
           {
            "bin_start": 2016.7,
            "bin_end": 2017.8,
            "count": 75
           },
           {
            "bin_start": 2017.8,
            "bin_end": 2018.9,
            "count": 89
           },
           {
            "bin_start": 2018.9,
            "bin_end": 2020,
            "count": 168
           }
          ]
         }
        },
        {
         "name": "link",
         "dtype": "object",
         "stats": {
          "unique_count": 1053,
          "nan_count": 1,
          "categories": [
           {
            "name": "http://kk.sites.itera.dk/apps/kk_trafik/pdf/aEVxU6ro99.pdf",
            "count": 19
           },
           {
            "name": "1052 others",
            "count": 1057
           },
           {
            "name": "Missing",
            "count": 1
           }
          ]
         }
        },
        {
         "name": "tung_pct_real",
         "dtype": "float64",
         "stats": {
          "unique_count": 116,
          "nan_count": 581,
          "min": "0.0",
          "max": "57.90000153",
          "histogram": [
           {
            "bin_start": 0,
            "bin_end": 5.790000152999999,
            "count": 381
           },
           {
            "bin_start": 5.790000152999999,
            "bin_end": 11.580000305999999,
            "count": 92
           },
           {
            "bin_start": 11.580000305999999,
            "bin_end": 17.370000458999996,
            "count": 18
           },
           {
            "bin_start": 17.370000458999996,
            "bin_end": 23.160000611999997,
            "count": 2
           },
           {
            "bin_start": 23.160000611999997,
            "bin_end": 28.950000765,
            "count": 0
           },
           {
            "bin_start": 28.950000765,
            "bin_end": 34.74000091799999,
            "count": 1
           },
           {
            "bin_start": 34.74000091799999,
            "bin_end": 40.530001070999994,
            "count": 1
           },
           {
            "bin_start": 40.530001070999994,
            "bin_end": 46.320001223999995,
            "count": 0
           },
           {
            "bin_start": 46.320001223999995,
            "bin_end": 52.110001376999996,
            "count": 0
           },
           {
            "bin_start": 52.110001376999996,
            "bin_end": 57.90000153,
            "count": 1
           }
          ]
         }
        },
        {
         "name": "ladcykler_pct_real",
         "dtype": "float64",
         "stats": {
          "unique_count": 57,
          "nan_count": 744,
          "min": "0.0",
          "max": "8.5",
          "histogram": [
           {
            "bin_start": 0,
            "bin_end": 0.85,
            "count": 11
           },
           {
            "bin_start": 0.85,
            "bin_end": 1.7,
            "count": 64
           },
           {
            "bin_start": 1.7,
            "bin_end": 2.55,
            "count": 106
           },
           {
            "bin_start": 2.55,
            "bin_end": 3.4,
            "count": 89
           },
           {
            "bin_start": 3.4,
            "bin_end": 4.25,
            "count": 34
           },
           {
            "bin_start": 4.25,
            "bin_end": 5.1,
            "count": 14
           },
           {
            "bin_start": 5.1,
            "bin_end": 5.95,
            "count": 8
           },
           {
            "bin_start": 5.95,
            "bin_end": 6.8,
            "count": 3
           },
           {
            "bin_start": 6.8,
            "bin_end": 7.6499999999999995,
            "count": 2
           },
           {
            "bin_start": 7.6499999999999995,
            "bin_end": 8.5,
            "count": 2
           }
          ]
         }
        },
        {
         "name": "lastbiler_7_19",
         "dtype": "float64",
         "stats": {
          "unique_count": 221,
          "nan_count": 734,
          "min": "0.0",
          "max": "3454.0",
          "histogram": [
           {
            "bin_start": 0,
            "bin_end": 345.4,
            "count": 277
           },
           {
            "bin_start": 345.4,
            "bin_end": 690.8,
            "count": 39
           },
           {
            "bin_start": 690.8,
            "bin_end": 1036.1999999999998,
            "count": 15
           },
           {
            "bin_start": 1036.1999999999998,
            "bin_end": 1381.6,
            "count": 6
           },
           {
            "bin_start": 1381.6,
            "bin_end": 1727,
            "count": 1
           },
           {
            "bin_start": 1727,
            "bin_end": 2072.3999999999996,
            "count": 4
           },
           {
            "bin_start": 2072.3999999999996,
            "bin_end": 2417.7999999999997,
            "count": 0
           },
           {
            "bin_start": 2417.7999999999997,
            "bin_end": 2763.2,
            "count": 0
           },
           {
            "bin_start": 2763.2,
            "bin_end": 3108.6,
            "count": 0
           },
           {
            "bin_start": 3108.6,
            "bin_end": 3454,
            "count": 1
           }
          ]
         }
        },
        {
         "name": "lastbiler_pct",
         "dtype": "object",
         "stats": {
          "unique_count": 46,
          "nan_count": 970,
          "categories": [
           {
            "name": "1,3",
            "count": 8
           },
           {
            "name": "45 others",
            "count": 99
           },
           {
            "name": "Missing",
            "count": 970
           }
          ]
         }
        },
        {
         "name": "elloebehjul_7_19",
         "dtype": "float64",
         "stats": {
          "unique_count": 42,
          "nan_count": 1030,
          "min": "22.0",
          "max": "438.0",
          "histogram": [
           {
            "bin_start": 22,
            "bin_end": 63.6,
            "count": 11
           },
           {
            "bin_start": 63.6,
            "bin_end": 105.2,
            "count": 10
           },
           {
            "bin_start": 105.2,
            "bin_end": 146.8,
            "count": 8
           },
           {
            "bin_start": 146.8,
            "bin_end": 188.4,
            "count": 3
           },
           {
            "bin_start": 188.4,
            "bin_end": 230,
            "count": 8
           },
           {
            "bin_start": 230,
            "bin_end": 271.6,
            "count": 3
           },
           {
            "bin_start": 271.6,
            "bin_end": 313.2,
            "count": 3
           },
           {
            "bin_start": 313.2,
            "bin_end": 354.8,
            "count": 0
           },
           {
            "bin_start": 354.8,
            "bin_end": 396.40000000000003,
            "count": 0
           },
           {
            "bin_start": 396.40000000000003,
            "bin_end": 438,
            "count": 1
           }
          ]
         }
        },
        {
         "name": "elloebehjul_pct",
         "dtype": "object",
         "stats": {
          "unique_count": 20,
          "nan_count": 1031,
          "categories": [
           {
            "name": "1,4",
            "count": 5
           },
           {
            "name": "19 others",
            "count": 41
           },
           {
            "name": "Missing",
            "count": 1031
           }
          ]
         }
        },
        {
         "name": "andre_busser_7_19",
         "dtype": "float64",
         "stats": {
          "unique_count": 61,
          "nan_count": 986,
          "min": "1.0",
          "max": "480.0",
          "histogram": [
           {
            "bin_start": 1,
            "bin_end": 48.9,
            "count": 60
           },
           {
            "bin_start": 48.9,
            "bin_end": 96.8,
            "count": 13
           },
           {
            "bin_start": 96.8,
            "bin_end": 144.7,
            "count": 9
           },
           {
            "bin_start": 144.7,
            "bin_end": 192.6,
            "count": 3
           },
           {
            "bin_start": 192.6,
            "bin_end": 240.5,
            "count": 1
           },
           {
            "bin_start": 240.5,
            "bin_end": 288.4,
            "count": 0
           },
           {
            "bin_start": 288.4,
            "bin_end": 336.3,
            "count": 2
           },
           {
            "bin_start": 336.3,
            "bin_end": 384.2,
            "count": 2
           },
           {
            "bin_start": 384.2,
            "bin_end": 432.09999999999997,
            "count": 0
           },
           {
            "bin_start": 432.09999999999997,
            "bin_end": 480,
            "count": 1
           }
          ]
         }
        },
        {
         "name": "wkb_geometry",
         "dtype": "object",
         "stats": {
          "unique_count": 1068,
          "nan_count": 1,
          "categories": [
           {
            "name": "POINT (12.583662808767516 55.72009422647465)",
            "count": 3
           },
           {
            "name": "1067 others",
            "count": 1073
           },
           {
            "name": "Missing",
            "count": 1
           }
          ]
         }
        },
        {
         "name": "_deepnote_index_column",
         "dtype": "int64"
        }
       ],
       "rows": [
        {
         "t_nr": 1,
         "vejnavn": "H.C. Andersens Boulevard",
         "beskrivelse": "sydøst for Jarmers Plads",
         "husnummer": "4 eller 5A",
         "type": 3,
         "taelling_type": "Andre faste tællinger",
         "ktj_7_19": 42650,
         "tung_pct": "3,8",
         "aadt_koretojer": 49900,
         "hvdt_koretojer": 55900,
         "cykler_7_19": 21601,
         "ladcykler_pct": "1,2",
         "aadt_cykler": 22200,
         "hvdt_cykler": 26400,
         "fod_7_19": "nan",
         "aadt_fod_7_19": "nan",
         "hvdt_fod_7_19": "nan",
         "fod_7_21": "nan",
         "aadt_fod_7_21": "nan",
         "hvdt_fod_7_21": "nan",
         "fod_7_24": "nan",
         "aadt_fod_7_24": "nan",
         "hvdt_fod_7_24": "nan",
         "aadt_fod_label": "nan",
         "taelle_dato": 20160921,
         "aar": 2016,
         "link": "http://kk.sites.itera.dk/apps/kk_trafik/pdf/UJpxEGxaCg.pdf",
         "tung_pct_real": 3.79999995,
         "ladcykler_pct_real": 1.20000005,
         "lastbiler_7_19": 1016,
         "lastbiler_pct": "nan",
         "elloebehjul_7_19": "nan",
         "elloebehjul_pct": "nan",
         "andre_busser_7_19": "nan",
         "wkb_geometry": "POINT (12.565491397230991 55.67796084860272)",
         "_deepnote_index_column": 0
        },
        {
         "t_nr": 3,
         "vejnavn": "Bredgade",
         "beskrivelse": "nord for Kongens Nytorv",
         "husnummer": "3 eller 4",
         "type": 3,
         "taelling_type": "Andre faste tællinger",
         "ktj_7_19": 8984,
         "tung_pct": "1,8",
         "aadt_koretojer": 10500,
         "hvdt_koretojer": 11800,
         "cykler_7_19": 5262,
         "ladcykler_pct": "3,3",
         "aadt_cykler": 5400,
         "hvdt_cykler": 6400,
         "fod_7_19": "nan",
         "aadt_fod_7_19": "nan",
         "hvdt_fod_7_19": "nan",
         "fod_7_21": "nan",
         "aadt_fod_7_21": "nan",
         "hvdt_fod_7_21": "nan",
         "fod_7_24": "nan",
         "aadt_fod_7_24": "nan",
         "hvdt_fod_7_24": "nan",
         "aadt_fod_label": "nan",
         "taelle_dato": 20201001,
         "aar": 2020,
         "link": "https://kk.sites.itera.dk/apps/kk_trafik/pdf/MaJpTOaVhR.pdf",
         "tung_pct_real": 1.79999995,
         "ladcykler_pct_real": 3.29999995,
         "lastbiler_7_19": 18,
         "lastbiler_pct": "0,2",
         "elloebehjul_7_19": "nan",
         "elloebehjul_pct": "nan",
         "andre_busser_7_19": "nan",
         "wkb_geometry": "POINT (12.587600106423727 55.68116360238515)",
         "_deepnote_index_column": 1
        },
        {
         "t_nr": 4,
         "vejnavn": "Christian d. IV's Bro",
         "beskrivelse": "syd for Niels Juels Gade",
         "husnummer": "ingen",
         "type": 3,
         "taelling_type": "Andre faste tællinger",
         "ktj_7_19": 11701,
         "tung_pct": "0,2",
         "aadt_koretojer": 13700,
         "hvdt_koretojer": 15300,
         "cykler_7_19": 7042,
         "ladcykler_pct": "2,8",
         "aadt_cykler": 7300,
         "hvdt_cykler": 8600,
         "fod_7_19": "nan",
         "aadt_fod_7_19": "nan",
         "hvdt_fod_7_19": "nan",
         "fod_7_21": "nan",
         "aadt_fod_7_21": "nan",
         "hvdt_fod_7_21": "nan",
         "fod_7_24": "nan",
         "aadt_fod_7_24": "nan",
         "hvdt_fod_7_24": "nan",
         "aadt_fod_label": "nan",
         "taelle_dato": 20200908,
         "aar": 2020,
         "link": "https://kk.sites.itera.dk/apps/kk_trafik/pdf/nACgzfu6V0.pdf",
         "tung_pct_real": 0.2,
         "ladcykler_pct_real": 2.79999995,
         "lastbiler_7_19": "nan",
         "lastbiler_pct": "nan",
         "elloebehjul_7_19": "nan",
         "elloebehjul_pct": "nan",
         "andre_busser_7_19": "nan",
         "wkb_geometry": "POINT (12.587161874224892 55.67576459605928)",
         "_deepnote_index_column": 2
        },
        {
         "t_nr": 5,
         "vejnavn": "Dronning Louises Bro",
         "beskrivelse": "øst for Nørrebrogade",
         "husnummer": "nan",
         "type": 2,
         "taelling_type": "Søsnittet",
         "ktj_7_19": "nan",
         "tung_pct": "nan",
         "aadt_koretojer": "nan",
         "hvdt_koretojer": "nan",
         "cykler_7_19": 37752,
         "ladcykler_pct": "3,7",
         "aadt_cykler": 38900,
         "hvdt_cykler": 46100,
         "fod_7_19": "nan",
         "aadt_fod_7_19": "nan",
         "hvdt_fod_7_19": "nan",
         "fod_7_21": "nan",
         "aadt_fod_7_21": "nan",
         "hvdt_fod_7_21": "nan",
         "fod_7_24": "nan",
         "aadt_fod_7_24": "nan",
         "hvdt_fod_7_24": "nan",
         "aadt_fod_label": "nan",
         "taelle_dato": 20200923,
         "aar": 2020,
         "link": "https://kk.sites.itera.dk/apps/kk_trafik/pdf/sa0k8nWpoS.pdf",
         "tung_pct_real": "nan",
         "ladcykler_pct_real": 3.70000005,
         "lastbiler_7_19": "nan",
         "lastbiler_pct": "nan",
         "elloebehjul_7_19": 438,
         "elloebehjul_pct": "1,4",
         "andre_busser_7_19": "nan",
         "wkb_geometry": "POINT (12.563784830098982 55.68673054140091)",
         "_deepnote_index_column": 3
        },
        {
         "t_nr": 6,
         "vejnavn": "Kampmannsgade",
         "beskrivelse": "ud for søerne",
         "husnummer": "nan",
         "type": 2,
         "taelling_type": "Søsnittet",
         "ktj_7_19": 3938,
         "tung_pct": "2,2",
         "aadt_koretojer": 4600,
         "hvdt_koretojer": 5200,
         "cykler_7_19": 7731,
         "ladcykler_pct": "2,8",
         "aadt_cykler": 8000,
         "hvdt_cykler": 9400,
         "fod_7_19": "nan",
         "aadt_fod_7_19": "nan",
         "hvdt_fod_7_19": "nan",
         "fod_7_21": "nan",
         "aadt_fod_7_21": "nan",
         "hvdt_fod_7_21": "nan",
         "fod_7_24": "nan",
         "aadt_fod_7_24": "nan",
         "hvdt_fod_7_24": "nan",
         "aadt_fod_label": "nan",
         "taelle_dato": 20200802,
         "aar": 2020,
         "link": "https://kk.sites.itera.dk/apps/kk_trafik/pdf/bZHOEqF2IE.pdf",
         "tung_pct_real": 2.20000005,
         "ladcykler_pct_real": 2.79999995,
         "lastbiler_7_19": 29,
         "lastbiler_pct": "34,1",
         "elloebehjul_7_19": "nan",
         "elloebehjul_pct": "nan",
         "andre_busser_7_19": 6,
         "wkb_geometry": "POINT (12.557917540101617 55.67797681383055)",
         "_deepnote_index_column": 4
        },
        {
         "t_nr": 7,
         "vejnavn": "Ellebjergvej",
         "beskrivelse": "øst for Poppelstykket",
         "husnummer": "138",
         "type": 3,
         "taelling_type": "Andre faste tællinger",
         "ktj_7_19": 27944,
         "tung_pct": "2,6",
         "aadt_koretojer": 32700,
         "hvdt_koretojer": 36600,
         "cykler_7_19": 4003,
         "ladcykler_pct": "4,9",
         "aadt_cykler": 4100,
         "hvdt_cykler": 4900,
         "fod_7_19": "nan",
         "aadt_fod_7_19": "nan",
         "hvdt_fod_7_19": "nan",
         "fod_7_21": "nan",
         "aadt_fod_7_21": "nan",
         "hvdt_fod_7_21": "nan",
         "fod_7_24": "nan",
         "aadt_fod_7_24": "nan",
         "hvdt_fod_7_24": "nan",
         "aadt_fod_label": "nan",
         "taelle_dato": 20200826,
         "aar": 2020,
         "link": "https://kk.sites.itera.dk/apps/kk_trafik/pdf/1roAZSzqVU.pdf",
         "tung_pct_real": 2.5999999,
         "ladcykler_pct_real": 4.9000001,
         "lastbiler_7_19": 614,
         "lastbiler_pct": "85,75",
         "elloebehjul_7_19": "nan",
         "elloebehjul_pct": "nan",
         "andre_busser_7_19": 50,
         "wkb_geometry": "POINT (12.510990440718215 55.65050283197625)",
         "_deepnote_index_column": 5
        },
        {
         "t_nr": 8,
         "vejnavn": "Englandsvej",
         "beskrivelse": "nord for Følfodvej",
         "husnummer": "229 eller 230",
         "type": 1,
         "taelling_type": "Kommunegrænsen",
         "ktj_7_19": 9311,
         "tung_pct": "1,9",
         "aadt_koretojer": 10900,
         "hvdt_koretojer": 12200,
         "cykler_7_19": 2271,
         "ladcykler_pct": "5,0",
         "aadt_cykler": 2300,
         "hvdt_cykler": 2800,
         "fod_7_19": "nan",
         "aadt_fod_7_19": "nan",
         "hvdt_fod_7_19": "nan",
         "fod_7_21": "nan",
         "aadt_fod_7_21": "nan",
         "hvdt_fod_7_21": "nan",
         "fod_7_24": "nan",
         "aadt_fod_7_24": "nan",
         "hvdt_fod_7_24": "nan",
         "aadt_fod_label": "nan",
         "taelle_dato": 20200624,
         "aar": 2020,
         "link": "https://kk.sites.itera.dk/apps/kk_trafik/pdf/Rt3pA0AISM.pdf",
         "tung_pct_real": 1.89999998,
         "ladcykler_pct_real": 5,
         "lastbiler_7_19": 131,
         "lastbiler_pct": "74,43",
         "elloebehjul_7_19": "nan",
         "elloebehjul_pct": "nan",
         "andre_busser_7_19": 8,
         "wkb_geometry": "POINT (12.599845636263538 55.63848509063259)",
         "_deepnote_index_column": 6
        },
        {
         "t_nr": 9,
         "vejnavn": "Farvergade",
         "beskrivelse": "nordøst for Rådhuspladsen",
         "husnummer": "6 eller 17",
         "type": 3,
         "taelling_type": "Andre faste tællinger",
         "ktj_7_19": 531,
         "tung_pct": "2,1",
         "aadt_koretojer": 600,
         "hvdt_koretojer": 700,
         "cykler_7_19": 2724,
         "ladcykler_pct": "nan",
         "aadt_cykler": 2800,
         "hvdt_cykler": 3300,
         "fod_7_19": "nan",
         "aadt_fod_7_19": "nan",
         "hvdt_fod_7_19": "nan",
         "fod_7_21": "nan",
         "aadt_fod_7_21": "nan",
         "hvdt_fod_7_21": "nan",
         "fod_7_24": "nan",
         "aadt_fod_7_24": "nan",
         "hvdt_fod_7_24": "nan",
         "aadt_fod_label": "nan",
         "taelle_dato": 20151001,
         "aar": 2015,
         "link": "http://kk.sites.itera.dk/apps/kk_trafik/pdf/tY91YGf9p1.pdf",
         "tung_pct_real": 2.0999999,
         "ladcykler_pct_real": "nan",
         "lastbiler_7_19": 11,
         "lastbiler_pct": "nan",
         "elloebehjul_7_19": "nan",
         "elloebehjul_pct": "nan",
         "andre_busser_7_19": "nan",
         "wkb_geometry": "POINT (12.572503733886563 55.6759724596037)",
         "_deepnote_index_column": 7
        },
        {
         "t_nr": 11,
         "vejnavn": "Frederiksborggade",
         "beskrivelse": "øst for Nørre Voldgade",
         "husnummer": "10",
         "type": 3,
         "taelling_type": "Andre faste tællinger",
         "ktj_7_19": 64,
         "tung_pct": "nan",
         "aadt_koretojer": 100,
         "hvdt_koretojer": 100,
         "cykler_7_19": 1260,
         "ladcykler_pct": "nan",
         "aadt_cykler": 1300,
         "hvdt_cykler": 1500,
         "fod_7_19": 35606,
         "aadt_fod_7_19": 41700,
         "hvdt_fod_7_19": 43100,
         "fod_7_21": "nan",
         "aadt_fod_7_21": "nan",
         "hvdt_fod_7_21": "nan",
         "fod_7_24": "nan",
         "aadt_fod_7_24": "nan",
         "hvdt_fod_7_24": "nan",
         "aadt_fod_label": 41700,
         "taelle_dato": 20180619,
         "aar": 2018,
         "link": "https://kk.sites.itera.dk/apps/kk_trafik/pdf/gsufDE4hgG.pdf",
         "tung_pct_real": "nan",
         "ladcykler_pct_real": "nan",
         "lastbiler_7_19": 0,
         "lastbiler_pct": "nan",
         "elloebehjul_7_19": "nan",
         "elloebehjul_pct": "nan",
         "andre_busser_7_19": "nan",
         "wkb_geometry": "POINT (12.572683528145083 55.683211342280345)",
         "_deepnote_index_column": 8
        },
        {
         "t_nr": 12,
         "vejnavn": "Frederiksborggade",
         "beskrivelse": "sydøst for Søtorvet",
         "husnummer": "50",
         "type": 3,
         "taelling_type": "Andre faste tællinger",
         "ktj_7_19": 3637,
         "tung_pct": "14,0",
         "aadt_koretojer": 4300,
         "hvdt_koretojer": 4800,
         "cykler_7_19": 17219,
         "ladcykler_pct": "3,1",
         "aadt_cykler": 17700,
         "hvdt_cykler": 21000,
         "fod_7_19": "nan",
         "aadt_fod_7_19": "nan",
         "hvdt_fod_7_19": "nan",
         "fod_7_21": "nan",
         "aadt_fod_7_21": "nan",
         "hvdt_fod_7_21": "nan",
         "fod_7_24": "nan",
         "aadt_fod_7_24": "nan",
         "hvdt_fod_7_24": "nan",
         "aadt_fod_label": "nan",
         "taelle_dato": 20190912,
         "aar": 2019,
         "link": "https://kk.sites.itera.dk/apps/kk_trafik/pdf/xpVL5eDw4D.pdf",
         "tung_pct_real": 14,
         "ladcykler_pct_real": 3.0999999,
         "lastbiler_7_19": 510,
         "lastbiler_pct": "1,9",
         "elloebehjul_7_19": 302,
         "elloebehjul_pct": "1,8",
         "andre_busser_7_19": 13,
         "wkb_geometry": "POINT (12.566369474794929 55.685708418286154)",
         "_deepnote_index_column": 9
        }
       ]
      },
      "text/plain": "       t_nr                                            vejnavn  \\\n0         1                           H.C. Andersens Boulevard   \n1         3                                           Bredgade   \n2         4                              Christian d. IV's Bro   \n3         5                               Dronning Louises Bro   \n4         6                                      Kampmannsgade   \n...     ...                                                ...   \n1072  10195  Sydhavnsgade-Borgmester Christiansens Gade-Fre...   \n1073  10196               Vejlands Allé-Artillerivej-Selinevej   \n1074  10197                      Vejlands Allé-Center Boulvard   \n1075  10198          Vejlands Allé-Motorvejen_vestlig fletning   \n1076  10199           Vejlands Allé-Motorvejen-østlig fletning   \n\n                   beskrivelse   husnummer   type          taelling_type  \\\n0     sydøst for Jarmers Plads  4 eller 5A    3.0  Andre faste tællinger   \n1      nord for Kongens Nytorv   3 eller 4    3.0  Andre faste tællinger   \n2     syd for Niels Juels Gade       ingen    3.0  Andre faste tællinger   \n3         øst for Nørrebrogade         NaN    2.0              Søsnittet   \n4                ud for søerne         NaN    2.0              Søsnittet   \n...                        ...         ...    ...                    ...   \n1072              Krydstælling         NaN  101.0         Krydstællinger   \n1073              Krydstælling         NaN  101.0         Krydstællinger   \n1074              Krydstælling         NaN  101.0         Krydstællinger   \n1075              Krydstælling         NaN  101.0         Krydstællinger   \n1076              Krydstælling         NaN  101.0         Krydstællinger   \n\n      ktj_7_19 tung_pct  aadt_koretojer  hvdt_koretojer  ...   aar  \\\n0      42650.0      3,8         49900.0         55900.0  ...  2016   \n1       8984.0      1,8         10500.0         11800.0  ...  2020   \n2      11701.0      0,2         13700.0         15300.0  ...  2020   \n3          NaN      NaN             NaN             NaN  ...  2020   \n4       3938.0      2,2          4600.0          5200.0  ...  2020   \n...        ...      ...             ...             ...  ...   ...   \n1072       NaN      NaN             NaN             NaN  ...  2019   \n1073       NaN      NaN             NaN             NaN  ...  2019   \n1074       NaN      NaN             NaN             NaN  ...  2018   \n1075       NaN      NaN             NaN             NaN  ...  2019   \n1076       NaN      NaN             NaN             NaN  ...  2019   \n\n                                                   link  tung_pct_real  \\\n0     http://kk.sites.itera.dk/apps/kk_trafik/pdf/UJ...            3.8   \n1     https://kk.sites.itera.dk/apps/kk_trafik/pdf/M...            1.8   \n2     https://kk.sites.itera.dk/apps/kk_trafik/pdf/n...            0.2   \n3     https://kk.sites.itera.dk/apps/kk_trafik/pdf/s...            NaN   \n4     https://kk.sites.itera.dk/apps/kk_trafik/pdf/b...            2.2   \n...                                                 ...            ...   \n1072  https://kk.sites.itera.dk/apps/kk_trafik/pdf/D...            NaN   \n1073  https://kk.sites.itera.dk/apps/kk_trafik/pdf/5...            NaN   \n1074  https://kk.sites.itera.dk/apps/kk_trafik/pdf/m...            NaN   \n1075  https://kk.sites.itera.dk/apps/kk_trafik/pdf/E...            NaN   \n1076  https://kk.sites.itera.dk/apps/kk_trafik/pdf/r...            NaN   \n\n      ladcykler_pct_real  lastbiler_7_19  lastbiler_pct  elloebehjul_7_19  \\\n0                    1.2          1016.0            NaN               NaN   \n1                    3.3            18.0            0,2               NaN   \n2                    2.8             NaN            NaN               NaN   \n3                    3.7             NaN            NaN             438.0   \n4                    2.8            29.0           34,1               NaN   \n...                  ...             ...            ...               ...   \n1072                 NaN             NaN            NaN               NaN   \n1073                 NaN             NaN            NaN               NaN   \n1074                 NaN             NaN            NaN               NaN   \n1075                 NaN             NaN            NaN               NaN   \n1076                 NaN             NaN            NaN               NaN   \n\n      elloebehjul_pct  andre_busser_7_19  \\\n0                 NaN                NaN   \n1                 NaN                NaN   \n2                 NaN                NaN   \n3                 1,4                NaN   \n4                 NaN                6.0   \n...               ...                ...   \n1072              NaN                NaN   \n1073              NaN                NaN   \n1074              NaN                NaN   \n1075              NaN                NaN   \n1076              NaN                NaN   \n\n                                       wkb_geometry  \n0      POINT (12.565491397230991 55.67796084860272)  \n1      POINT (12.587600106423727 55.68116360238515)  \n2      POINT (12.587161874224892 55.67576459605928)  \n3      POINT (12.563784830098982 55.68673054140091)  \n4      POINT (12.557917540101617 55.67797681383055)  \n...                                             ...  \n1072   POINT (12.542233637720141 55.64665981581368)  \n1073  POINT (12.563594727350983 55.641493677099774)  \n1074  POINT (12.575944159210048 55.640978432494656)  \n1075  POINT (12.553338532609525 55.641023522185684)  \n1076  POINT (12.559626691260197 55.641045182915505)  \n\n[1077 rows x 35 columns]",
      "text/html": "<div>\n<style scoped>\n    .dataframe tbody tr th:only-of-type {\n        vertical-align: middle;\n    }\n\n    .dataframe tbody tr th {\n        vertical-align: top;\n    }\n\n    .dataframe thead th {\n        text-align: right;\n    }\n</style>\n<table border=\"1\" class=\"dataframe\">\n  <thead>\n    <tr style=\"text-align: right;\">\n      <th></th>\n      <th>t_nr</th>\n      <th>vejnavn</th>\n      <th>beskrivelse</th>\n      <th>husnummer</th>\n      <th>type</th>\n      <th>taelling_type</th>\n      <th>ktj_7_19</th>\n      <th>tung_pct</th>\n      <th>aadt_koretojer</th>\n      <th>hvdt_koretojer</th>\n      <th>...</th>\n      <th>aar</th>\n      <th>link</th>\n      <th>tung_pct_real</th>\n      <th>ladcykler_pct_real</th>\n      <th>lastbiler_7_19</th>\n      <th>lastbiler_pct</th>\n      <th>elloebehjul_7_19</th>\n      <th>elloebehjul_pct</th>\n      <th>andre_busser_7_19</th>\n      <th>wkb_geometry</th>\n    </tr>\n  </thead>\n  <tbody>\n    <tr>\n      <th>0</th>\n      <td>1</td>\n      <td>H.C. Andersens Boulevard</td>\n      <td>sydøst for Jarmers Plads</td>\n      <td>4 eller 5A</td>\n      <td>3.0</td>\n      <td>Andre faste tællinger</td>\n      <td>42650.0</td>\n      <td>3,8</td>\n      <td>49900.0</td>\n      <td>55900.0</td>\n      <td>...</td>\n      <td>2016</td>\n      <td>http://kk.sites.itera.dk/apps/kk_trafik/pdf/UJ...</td>\n      <td>3.8</td>\n      <td>1.2</td>\n      <td>1016.0</td>\n      <td>NaN</td>\n      <td>NaN</td>\n      <td>NaN</td>\n      <td>NaN</td>\n      <td>POINT (12.565491397230991 55.67796084860272)</td>\n    </tr>\n    <tr>\n      <th>1</th>\n      <td>3</td>\n      <td>Bredgade</td>\n      <td>nord for Kongens Nytorv</td>\n      <td>3 eller 4</td>\n      <td>3.0</td>\n      <td>Andre faste tællinger</td>\n      <td>8984.0</td>\n      <td>1,8</td>\n      <td>10500.0</td>\n      <td>11800.0</td>\n      <td>...</td>\n      <td>2020</td>\n      <td>https://kk.sites.itera.dk/apps/kk_trafik/pdf/M...</td>\n      <td>1.8</td>\n      <td>3.3</td>\n      <td>18.0</td>\n      <td>0,2</td>\n      <td>NaN</td>\n      <td>NaN</td>\n      <td>NaN</td>\n      <td>POINT (12.587600106423727 55.68116360238515)</td>\n    </tr>\n    <tr>\n      <th>2</th>\n      <td>4</td>\n      <td>Christian d. IV's Bro</td>\n      <td>syd for Niels Juels Gade</td>\n      <td>ingen</td>\n      <td>3.0</td>\n      <td>Andre faste tællinger</td>\n      <td>11701.0</td>\n      <td>0,2</td>\n      <td>13700.0</td>\n      <td>15300.0</td>\n      <td>...</td>\n      <td>2020</td>\n      <td>https://kk.sites.itera.dk/apps/kk_trafik/pdf/n...</td>\n      <td>0.2</td>\n      <td>2.8</td>\n      <td>NaN</td>\n      <td>NaN</td>\n      <td>NaN</td>\n      <td>NaN</td>\n      <td>NaN</td>\n      <td>POINT (12.587161874224892 55.67576459605928)</td>\n    </tr>\n    <tr>\n      <th>3</th>\n      <td>5</td>\n      <td>Dronning Louises Bro</td>\n      <td>øst for Nørrebrogade</td>\n      <td>NaN</td>\n      <td>2.0</td>\n      <td>Søsnittet</td>\n      <td>NaN</td>\n      <td>NaN</td>\n      <td>NaN</td>\n      <td>NaN</td>\n      <td>...</td>\n      <td>2020</td>\n      <td>https://kk.sites.itera.dk/apps/kk_trafik/pdf/s...</td>\n      <td>NaN</td>\n      <td>3.7</td>\n      <td>NaN</td>\n      <td>NaN</td>\n      <td>438.0</td>\n      <td>1,4</td>\n      <td>NaN</td>\n      <td>POINT (12.563784830098982 55.68673054140091)</td>\n    </tr>\n    <tr>\n      <th>4</th>\n      <td>6</td>\n      <td>Kampmannsgade</td>\n      <td>ud for søerne</td>\n      <td>NaN</td>\n      <td>2.0</td>\n      <td>Søsnittet</td>\n      <td>3938.0</td>\n      <td>2,2</td>\n      <td>4600.0</td>\n      <td>5200.0</td>\n      <td>...</td>\n      <td>2020</td>\n      <td>https://kk.sites.itera.dk/apps/kk_trafik/pdf/b...</td>\n      <td>2.2</td>\n      <td>2.8</td>\n      <td>29.0</td>\n      <td>34,1</td>\n      <td>NaN</td>\n      <td>NaN</td>\n      <td>6.0</td>\n      <td>POINT (12.557917540101617 55.67797681383055)</td>\n    </tr>\n    <tr>\n      <th>...</th>\n      <td>...</td>\n      <td>...</td>\n      <td>...</td>\n      <td>...</td>\n      <td>...</td>\n      <td>...</td>\n      <td>...</td>\n      <td>...</td>\n      <td>...</td>\n      <td>...</td>\n      <td>...</td>\n      <td>...</td>\n      <td>...</td>\n      <td>...</td>\n      <td>...</td>\n      <td>...</td>\n      <td>...</td>\n      <td>...</td>\n      <td>...</td>\n      <td>...</td>\n      <td>...</td>\n    </tr>\n    <tr>\n      <th>1072</th>\n      <td>10195</td>\n      <td>Sydhavnsgade-Borgmester Christiansens Gade-Fre...</td>\n      <td>Krydstælling</td>\n      <td>NaN</td>\n      <td>101.0</td>\n      <td>Krydstællinger</td>\n      <td>NaN</td>\n      <td>NaN</td>\n      <td>NaN</td>\n      <td>NaN</td>\n      <td>...</td>\n      <td>2019</td>\n      <td>https://kk.sites.itera.dk/apps/kk_trafik/pdf/D...</td>\n      <td>NaN</td>\n      <td>NaN</td>\n      <td>NaN</td>\n      <td>NaN</td>\n      <td>NaN</td>\n      <td>NaN</td>\n      <td>NaN</td>\n      <td>POINT (12.542233637720141 55.64665981581368)</td>\n    </tr>\n    <tr>\n      <th>1073</th>\n      <td>10196</td>\n      <td>Vejlands Allé-Artillerivej-Selinevej</td>\n      <td>Krydstælling</td>\n      <td>NaN</td>\n      <td>101.0</td>\n      <td>Krydstællinger</td>\n      <td>NaN</td>\n      <td>NaN</td>\n      <td>NaN</td>\n      <td>NaN</td>\n      <td>...</td>\n      <td>2019</td>\n      <td>https://kk.sites.itera.dk/apps/kk_trafik/pdf/5...</td>\n      <td>NaN</td>\n      <td>NaN</td>\n      <td>NaN</td>\n      <td>NaN</td>\n      <td>NaN</td>\n      <td>NaN</td>\n      <td>NaN</td>\n      <td>POINT (12.563594727350983 55.641493677099774)</td>\n    </tr>\n    <tr>\n      <th>1074</th>\n      <td>10197</td>\n      <td>Vejlands Allé-Center Boulvard</td>\n      <td>Krydstælling</td>\n      <td>NaN</td>\n      <td>101.0</td>\n      <td>Krydstællinger</td>\n      <td>NaN</td>\n      <td>NaN</td>\n      <td>NaN</td>\n      <td>NaN</td>\n      <td>...</td>\n      <td>2018</td>\n      <td>https://kk.sites.itera.dk/apps/kk_trafik/pdf/m...</td>\n      <td>NaN</td>\n      <td>NaN</td>\n      <td>NaN</td>\n      <td>NaN</td>\n      <td>NaN</td>\n      <td>NaN</td>\n      <td>NaN</td>\n      <td>POINT (12.575944159210048 55.640978432494656)</td>\n    </tr>\n    <tr>\n      <th>1075</th>\n      <td>10198</td>\n      <td>Vejlands Allé-Motorvejen_vestlig fletning</td>\n      <td>Krydstælling</td>\n      <td>NaN</td>\n      <td>101.0</td>\n      <td>Krydstællinger</td>\n      <td>NaN</td>\n      <td>NaN</td>\n      <td>NaN</td>\n      <td>NaN</td>\n      <td>...</td>\n      <td>2019</td>\n      <td>https://kk.sites.itera.dk/apps/kk_trafik/pdf/E...</td>\n      <td>NaN</td>\n      <td>NaN</td>\n      <td>NaN</td>\n      <td>NaN</td>\n      <td>NaN</td>\n      <td>NaN</td>\n      <td>NaN</td>\n      <td>POINT (12.553338532609525 55.641023522185684)</td>\n    </tr>\n    <tr>\n      <th>1076</th>\n      <td>10199</td>\n      <td>Vejlands Allé-Motorvejen-østlig fletning</td>\n      <td>Krydstælling</td>\n      <td>NaN</td>\n      <td>101.0</td>\n      <td>Krydstællinger</td>\n      <td>NaN</td>\n      <td>NaN</td>\n      <td>NaN</td>\n      <td>NaN</td>\n      <td>...</td>\n      <td>2019</td>\n      <td>https://kk.sites.itera.dk/apps/kk_trafik/pdf/r...</td>\n      <td>NaN</td>\n      <td>NaN</td>\n      <td>NaN</td>\n      <td>NaN</td>\n      <td>NaN</td>\n      <td>NaN</td>\n      <td>NaN</td>\n      <td>POINT (12.559626691260197 55.641045182915505)</td>\n    </tr>\n  </tbody>\n</table>\n<p>1077 rows × 35 columns</p>\n</div>"
     },
     "metadata": {}
    }
   ]
  },
  {
   "cell_type": "code",
   "metadata": {
    "cell_id": "c750db54ba594671b1ba5b5b1d9e84ec",
    "tags": [],
    "deepnote_to_be_reexecuted": false,
    "source_hash": "16647849",
    "execution_start": 1648646708651,
    "execution_millis": 440913,
    "deepnote_cell_type": "code",
    "deepnote_cell_height": 112
   },
   "source": "print(f\"Number of observations: {len(df_traffic)}\")",
   "execution_count": null,
   "outputs": [
    {
     "name": "stdout",
     "text": "Number of observations: 1077\n",
     "output_type": "stream"
    }
   ]
  },
  {
   "cell_type": "code",
   "metadata": {
    "cell_id": "2109ec0c807b4289881cdb1ca3000406",
    "tags": [],
    "deepnote_to_be_reexecuted": false,
    "source_hash": "ca97ffab",
    "execution_start": 1648646708697,
    "execution_millis": 142,
    "deepnote_cell_type": "code",
    "deepnote_cell_height": 352
   },
   "source": "# Transform into datetime\ndf_traffic['date'] = pd.to_datetime(df_traffic.taelle_dato, format=\"%Y%m%d\")\ndf_traffic['year'] = df_traffic['date'].dt.year # Year column\n\n# Find start and end\nprint(f\"Start: {df_traffic['date'].min()}, End: {df_traffic['date'].max()}\")\n\n# Columns to drop: FID, taelle_dato\n# df_traffic.columns('tNumb', 'RoadName', 'Description', 'HouseNumb', 'Type', 'CountType', 'Vehicle_7_19', 'Heavy_pct', \n#                   'ADT_vehicle', 'WDT_vehicle', 'Bike_7_19', 'CargoBike_pct', )",
   "execution_count": null,
   "outputs": [
    {
     "name": "stdout",
     "text": "Start: 2009-01-01 00:00:00, End: 2020-10-01 00:00:00\n",
     "output_type": "stream"
    },
    {
     "output_type": "error",
     "ename": "TypeError",
     "evalue": "'Index' object is not callable",
     "traceback": [
      "\u001b[0;31m---------------------------------------------------------------------------\u001b[0m",
      "\u001b[0;31mTypeError\u001b[0m                                 Traceback (most recent call last)",
      "\u001b[0;32m<ipython-input-4-4266e9f8dbe1>\u001b[0m in \u001b[0;36m<module>\u001b[0;34m\u001b[0m\n\u001b[1;32m      7\u001b[0m \u001b[0;34m\u001b[0m\u001b[0m\n\u001b[1;32m      8\u001b[0m \u001b[0;31m# Columns to drop: FID, taelle_dato\u001b[0m\u001b[0;34m\u001b[0m\u001b[0;34m\u001b[0m\u001b[0;34m\u001b[0m\u001b[0m\n\u001b[0;32m----> 9\u001b[0;31m \u001b[0mdf_traffic\u001b[0m\u001b[0;34m.\u001b[0m\u001b[0mcolumns\u001b[0m\u001b[0;34m(\u001b[0m\u001b[0;34m'tNumb'\u001b[0m\u001b[0;34m,\u001b[0m \u001b[0;34m'RoadName'\u001b[0m\u001b[0;34m,\u001b[0m \u001b[0;34m'Description'\u001b[0m\u001b[0;34m,\u001b[0m \u001b[0;34m'HouseNumb'\u001b[0m\u001b[0;34m,\u001b[0m \u001b[0;34m'Type'\u001b[0m\u001b[0;34m,\u001b[0m \u001b[0;34m'CountType'\u001b[0m\u001b[0;34m,\u001b[0m \u001b[0;34m'Vehicle'\u001b[0m\u001b[0;34m)\u001b[0m\u001b[0;34m\u001b[0m\u001b[0;34m\u001b[0m\u001b[0m\n\u001b[0m",
      "\u001b[0;31mTypeError\u001b[0m: 'Index' object is not callable"
     ]
    }
   ]
  },
  {
   "cell_type": "code",
   "metadata": {
    "cell_id": "cfae40635f914c868297e28757dccf20",
    "tags": [],
    "deepnote_to_be_reexecuted": false,
    "source_hash": "a5d3eac2",
    "execution_start": 1648646723402,
    "execution_millis": 201,
    "deepnote_cell_type": "code",
    "deepnote_cell_height": 600
   },
   "source": "df_traffic",
   "execution_count": null,
   "outputs": [
    {
     "output_type": "execute_result",
     "execution_count": 5,
     "data": {
      "application/vnd.deepnote.dataframe.v3+json": {
       "column_count": 37,
       "row_count": 1077,
       "columns": [
        {
         "name": "t_nr",
         "dtype": "int64",
         "stats": {
          "unique_count": 1067,
          "nan_count": 0,
          "min": "1",
          "max": "10199",
          "histogram": [
           {
            "bin_start": 1,
            "bin_end": 1020.8,
            "count": 484
           },
           {
            "bin_start": 1020.8,
            "bin_end": 2040.6,
            "count": 0
           },
           {
            "bin_start": 2040.6,
            "bin_end": 3060.3999999999996,
            "count": 1
           },
           {
            "bin_start": 3060.3999999999996,
            "bin_end": 4080.2,
            "count": 2
           },
           {
            "bin_start": 4080.2,
            "bin_end": 5100,
            "count": 0
           },
           {
            "bin_start": 5100,
            "bin_end": 6119.799999999999,
            "count": 0
           },
           {
            "bin_start": 6119.799999999999,
            "bin_end": 7139.599999999999,
            "count": 58
           },
           {
            "bin_start": 7139.599999999999,
            "bin_end": 8159.4,
            "count": 92
           },
           {
            "bin_start": 8159.4,
            "bin_end": 9179.199999999999,
            "count": 33
           },
           {
            "bin_start": 9179.199999999999,
            "bin_end": 10199,
            "count": 407
           }
          ]
         }
        },
        {
         "name": "vejnavn",
         "dtype": "object",
         "stats": {
          "unique_count": 710,
          "nan_count": 0,
          "categories": [
           {
            "name": "Tagensvej",
            "count": 16
           },
           {
            "name": "Østerbrogade",
            "count": 12
           },
           {
            "name": "708 others",
            "count": 1049
           }
          ]
         }
        },
        {
         "name": "beskrivelse",
         "dtype": "object",
         "stats": {
          "unique_count": 560,
          "nan_count": 154,
          "categories": [
           {
            "name": "FOD",
            "count": 46
           },
           {
            "name": "559 others",
            "count": 877
           },
           {
            "name": "Missing",
            "count": 154
           }
          ]
         }
        },
        {
         "name": "husnummer",
         "dtype": "object",
         "stats": {
          "unique_count": 277,
          "nan_count": 317,
          "categories": [
           {
            "name": "-",
            "count": 36
           },
           {
            "name": "276 others",
            "count": 724
           },
           {
            "name": "Missing",
            "count": 317
           }
          ]
         }
        },
        {
         "name": "type",
         "dtype": "float64",
         "stats": {
          "unique_count": 7,
          "nan_count": 1,
          "min": "1.0",
          "max": "9999.0",
          "histogram": [
           {
            "bin_start": 1,
            "bin_end": 1000.8,
            "count": 1075
           },
           {
            "bin_start": 1000.8,
            "bin_end": 2000.6,
            "count": 0
           },
           {
            "bin_start": 2000.6,
            "bin_end": 3000.3999999999996,
            "count": 0
           },
           {
            "bin_start": 3000.3999999999996,
            "bin_end": 4000.2,
            "count": 0
           },
           {
            "bin_start": 4000.2,
            "bin_end": 5000,
            "count": 0
           },
           {
            "bin_start": 5000,
            "bin_end": 5999.799999999999,
            "count": 0
           },
           {
            "bin_start": 5999.799999999999,
            "bin_end": 6999.599999999999,
            "count": 0
           },
           {
            "bin_start": 6999.599999999999,
            "bin_end": 7999.4,
            "count": 0
           },
           {
            "bin_start": 7999.4,
            "bin_end": 8999.199999999999,
            "count": 0
           },
           {
            "bin_start": 8999.199999999999,
            "bin_end": 9999,
            "count": 1
           }
          ]
         }
        },
        {
         "name": "taelling_type",
         "dtype": "object",
         "stats": {
          "unique_count": 6,
          "nan_count": 0,
          "categories": [
           {
            "name": "Øvrige tællinger",
            "count": 569
           },
           {
            "name": "Andre faste tællinger",
            "count": 230
           },
           {
            "name": "4 others",
            "count": 278
           }
          ]
         }
        },
        {
         "name": "ktj_7_19",
         "dtype": "float64",
         "stats": {
          "unique_count": 465,
          "nan_count": 539,
          "min": "0.0",
          "max": "69382.0",
          "histogram": [
           {
            "bin_start": 0,
            "bin_end": 6938.2,
            "count": 331
           },
           {
            "bin_start": 6938.2,
            "bin_end": 13876.4,
            "count": 114
           },
           {
            "bin_start": 13876.4,
            "bin_end": 20814.6,
            "count": 56
           },
           {
            "bin_start": 20814.6,
            "bin_end": 27752.8,
            "count": 12
           },
           {
            "bin_start": 27752.8,
            "bin_end": 34691,
            "count": 8
           },
           {
            "bin_start": 34691,
            "bin_end": 41629.2,
            "count": 7
           },
           {
            "bin_start": 41629.2,
            "bin_end": 48567.4,
            "count": 7
           },
           {
            "bin_start": 48567.4,
            "bin_end": 55505.6,
            "count": 1
           },
           {
            "bin_start": 55505.6,
            "bin_end": 62443.799999999996,
            "count": 1
           },
           {
            "bin_start": 62443.799999999996,
            "bin_end": 69382,
            "count": 1
           }
          ]
         }
        },
        {
         "name": "tung_pct",
         "dtype": "object",
         "stats": {
          "unique_count": 122,
          "nan_count": 581,
          "categories": [
           {
            "name": "3,8",
            "count": 16
           },
           {
            "name": "121 others",
            "count": 480
           },
           {
            "name": "Missing",
            "count": 581
           }
          ]
         }
        },
        {
         "name": "aadt_koretojer",
         "dtype": "float64",
         "stats": {
          "unique_count": 211,
          "nan_count": 539,
          "min": "0.0",
          "max": "81200.0",
          "histogram": [
           {
            "bin_start": 0,
            "bin_end": 8120,
            "count": 331
           },
           {
            "bin_start": 8120,
            "bin_end": 16240,
            "count": 114
           },
           {
            "bin_start": 16240,
            "bin_end": 24360,
            "count": 56
           },
           {
            "bin_start": 24360,
            "bin_end": 32480,
            "count": 12
           },
           {
            "bin_start": 32480,
            "bin_end": 40600,
            "count": 8
           },
           {
            "bin_start": 40600,
            "bin_end": 48720,
            "count": 7
           },
           {
            "bin_start": 48720,
            "bin_end": 56840,
            "count": 7
           },
           {
            "bin_start": 56840,
            "bin_end": 64960,
            "count": 1
           },
           {
            "bin_start": 64960,
            "bin_end": 73080,
            "count": 1
           },
           {
            "bin_start": 73080,
            "bin_end": 81200,
            "count": 1
           }
          ]
         }
        },
        {
         "name": "hvdt_koretojer",
         "dtype": "float64",
         "stats": {
          "unique_count": 222,
          "nan_count": 539,
          "min": "0.0",
          "max": "90900.0",
          "histogram": [
           {
            "bin_start": 0,
            "bin_end": 9090,
            "count": 331
           },
           {
            "bin_start": 9090,
            "bin_end": 18180,
            "count": 113
           },
           {
            "bin_start": 18180,
            "bin_end": 27270,
            "count": 57
           },
           {
            "bin_start": 27270,
            "bin_end": 36360,
            "count": 12
           },
           {
            "bin_start": 36360,
            "bin_end": 45450,
            "count": 8
           },
           {
            "bin_start": 45450,
            "bin_end": 54540,
            "count": 7
           },
           {
            "bin_start": 54540,
            "bin_end": 63630,
            "count": 7
           },
           {
            "bin_start": 63630,
            "bin_end": 72720,
            "count": 1
           },
           {
            "bin_start": 72720,
            "bin_end": 81810,
            "count": 1
           },
           {
            "bin_start": 81810,
            "bin_end": 90900,
            "count": 1
           }
          ]
         }
        },
        {
         "name": "cykler_7_19",
         "dtype": "float64",
         "stats": {
          "unique_count": 504,
          "nan_count": 472,
          "min": "0.0",
          "max": "37752.0",
          "histogram": [
           {
            "bin_start": 0,
            "bin_end": 3775.2,
            "count": 373
           },
           {
            "bin_start": 3775.2,
            "bin_end": 7550.4,
            "count": 144
           },
           {
            "bin_start": 7550.4,
            "bin_end": 11325.599999999999,
            "count": 56
           },
           {
            "bin_start": 11325.599999999999,
            "bin_end": 15100.8,
            "count": 14
           },
           {
            "bin_start": 15100.8,
            "bin_end": 18876,
            "count": 8
           },
           {
            "bin_start": 18876,
            "bin_end": 22651.199999999997,
            "count": 6
           },
           {
            "bin_start": 22651.199999999997,
            "bin_end": 26426.399999999998,
            "count": 3
           },
           {
            "bin_start": 26426.399999999998,
            "bin_end": 30201.6,
            "count": 0
           },
           {
            "bin_start": 30201.6,
            "bin_end": 33976.799999999996,
            "count": 0
           },
           {
            "bin_start": 33976.799999999996,
            "bin_end": 37752,
            "count": 1
           }
          ]
         }
        },
        {
         "name": "ladcykler_pct",
         "dtype": "object",
         "stats": {
          "unique_count": 60,
          "nan_count": 744,
          "categories": [
           {
            "name": "2,5",
            "count": 18
           },
           {
            "name": "59 others",
            "count": 315
           },
           {
            "name": "Missing",
            "count": 744
           }
          ]
         }
        },
        {
         "name": "aadt_cykler",
         "dtype": "float64",
         "stats": {
          "unique_count": 140,
          "nan_count": 472,
          "min": "0.0",
          "max": "38900.0",
          "histogram": [
           {
            "bin_start": 0,
            "bin_end": 3890,
            "count": 373
           },
           {
            "bin_start": 3890,
            "bin_end": 7780,
            "count": 143
           },
           {
            "bin_start": 7780,
            "bin_end": 11670,
            "count": 56
           },
           {
            "bin_start": 11670,
            "bin_end": 15560,
            "count": 15
           },
           {
            "bin_start": 15560,
            "bin_end": 19450,
            "count": 8
           },
           {
            "bin_start": 19450,
            "bin_end": 23340,
            "count": 6
           },
           {
            "bin_start": 23340,
            "bin_end": 27230,
            "count": 3
           },
           {
            "bin_start": 27230,
            "bin_end": 31120,
            "count": 0
           },
           {
            "bin_start": 31120,
            "bin_end": 35010,
            "count": 0
           },
           {
            "bin_start": 35010,
            "bin_end": 38900,
            "count": 1
           }
          ]
         }
        },
        {
         "name": "hvdt_cykler",
         "dtype": "float64",
         "stats": {
          "unique_count": 151,
          "nan_count": 472,
          "min": "0.0",
          "max": "46100.0",
          "histogram": [
           {
            "bin_start": 0,
            "bin_end": 4610,
            "count": 375
           },
           {
            "bin_start": 4610,
            "bin_end": 9220,
            "count": 142
           },
           {
            "bin_start": 9220,
            "bin_end": 13830,
            "count": 56
           },
           {
            "bin_start": 13830,
            "bin_end": 18440,
            "count": 14
           },
           {
            "bin_start": 18440,
            "bin_end": 23050,
            "count": 8
           },
           {
            "bin_start": 23050,
            "bin_end": 27660,
            "count": 6
           },
           {
            "bin_start": 27660,
            "bin_end": 32270,
            "count": 3
           },
           {
            "bin_start": 32270,
            "bin_end": 36880,
            "count": 0
           },
           {
            "bin_start": 36880,
            "bin_end": 41490,
            "count": 0
           },
           {
            "bin_start": 41490,
            "bin_end": 46100,
            "count": 1
           }
          ]
         }
        },
        {
         "name": "fod_7_19",
         "dtype": "float64",
         "stats": {
          "unique_count": 312,
          "nan_count": 745,
          "min": "41.0",
          "max": "35606.0",
          "histogram": [
           {
            "bin_start": 41,
            "bin_end": 3597.5,
            "count": 228
           },
           {
            "bin_start": 3597.5,
            "bin_end": 7154,
            "count": 68
           },
           {
            "bin_start": 7154,
            "bin_end": 10710.5,
            "count": 23
           },
           {
            "bin_start": 10710.5,
            "bin_end": 14267,
            "count": 4
           },
           {
            "bin_start": 14267,
            "bin_end": 17823.5,
            "count": 1
           },
           {
            "bin_start": 17823.5,
            "bin_end": 21380,
            "count": 2
           },
           {
            "bin_start": 21380,
            "bin_end": 24936.5,
            "count": 2
           },
           {
            "bin_start": 24936.5,
            "bin_end": 28493,
            "count": 2
           },
           {
            "bin_start": 28493,
            "bin_end": 32049.5,
            "count": 1
           },
           {
            "bin_start": 32049.5,
            "bin_end": 35606,
            "count": 1
           }
          ]
         }
        },
        {
         "name": "aadt_fod_7_19",
         "dtype": "float64",
         "stats": {
          "unique_count": 100,
          "nan_count": 745,
          "min": "0.0",
          "max": "41700.0",
          "histogram": [
           {
            "bin_start": 0,
            "bin_end": 4170,
            "count": 227
           },
           {
            "bin_start": 4170,
            "bin_end": 8340,
            "count": 69
           },
           {
            "bin_start": 8340,
            "bin_end": 12510,
            "count": 23
           },
           {
            "bin_start": 12510,
            "bin_end": 16680,
            "count": 4
           },
           {
            "bin_start": 16680,
            "bin_end": 20850,
            "count": 1
           },
           {
            "bin_start": 20850,
            "bin_end": 25020,
            "count": 2
           },
           {
            "bin_start": 25020,
            "bin_end": 29190,
            "count": 2
           },
           {
            "bin_start": 29190,
            "bin_end": 33360,
            "count": 2
           },
           {
            "bin_start": 33360,
            "bin_end": 37530,
            "count": 1
           },
           {
            "bin_start": 37530,
            "bin_end": 41700,
            "count": 1
           }
          ]
         }
        },
        {
         "name": "hvdt_fod_7_19",
         "dtype": "float64",
         "stats": {
          "unique_count": 99,
          "nan_count": 745,
          "min": "0.0",
          "max": "43100.0",
          "histogram": [
           {
            "bin_start": 0,
            "bin_end": 4310,
            "count": 228
           },
           {
            "bin_start": 4310,
            "bin_end": 8620,
            "count": 68
           },
           {
            "bin_start": 8620,
            "bin_end": 12930,
            "count": 23
           },
           {
            "bin_start": 12930,
            "bin_end": 17240,
            "count": 4
           },
           {
            "bin_start": 17240,
            "bin_end": 21550,
            "count": 1
           },
           {
            "bin_start": 21550,
            "bin_end": 25860,
            "count": 2
           },
           {
            "bin_start": 25860,
            "bin_end": 30170,
            "count": 2
           },
           {
            "bin_start": 30170,
            "bin_end": 34480,
            "count": 2
           },
           {
            "bin_start": 34480,
            "bin_end": 38790,
            "count": 1
           },
           {
            "bin_start": 38790,
            "bin_end": 43100,
            "count": 1
           }
          ]
         }
        },
        {
         "name": "fod_7_21",
         "dtype": "float64",
         "stats": {
          "unique_count": 0,
          "nan_count": 1077,
          "min": null,
          "max": null,
          "histogram": [
           {
            "bin_start": 0,
            "bin_end": 0.1,
            "count": 0
           },
           {
            "bin_start": 0.1,
            "bin_end": 0.2,
            "count": 0
           },
           {
            "bin_start": 0.2,
            "bin_end": 0.30000000000000004,
            "count": 0
           },
           {
            "bin_start": 0.30000000000000004,
            "bin_end": 0.4,
            "count": 0
           },
           {
            "bin_start": 0.4,
            "bin_end": 0.5,
            "count": 0
           },
           {
            "bin_start": 0.5,
            "bin_end": 0.6000000000000001,
            "count": 0
           },
           {
            "bin_start": 0.6000000000000001,
            "bin_end": 0.7000000000000001,
            "count": 0
           },
           {
            "bin_start": 0.7000000000000001,
            "bin_end": 0.8,
            "count": 0
           },
           {
            "bin_start": 0.8,
            "bin_end": 0.9,
            "count": 0
           },
           {
            "bin_start": 0.9,
            "bin_end": 1,
            "count": 0
           }
          ]
         }
        },
        {
         "name": "aadt_fod_7_21",
         "dtype": "float64",
         "stats": {
          "unique_count": 0,
          "nan_count": 1077,
          "min": null,
          "max": null,
          "histogram": [
           {
            "bin_start": 0,
            "bin_end": 0.1,
            "count": 0
           },
           {
            "bin_start": 0.1,
            "bin_end": 0.2,
            "count": 0
           },
           {
            "bin_start": 0.2,
            "bin_end": 0.30000000000000004,
            "count": 0
           },
           {
            "bin_start": 0.30000000000000004,
            "bin_end": 0.4,
            "count": 0
           },
           {
            "bin_start": 0.4,
            "bin_end": 0.5,
            "count": 0
           },
           {
            "bin_start": 0.5,
            "bin_end": 0.6000000000000001,
            "count": 0
           },
           {
            "bin_start": 0.6000000000000001,
            "bin_end": 0.7000000000000001,
            "count": 0
           },
           {
            "bin_start": 0.7000000000000001,
            "bin_end": 0.8,
            "count": 0
           },
           {
            "bin_start": 0.8,
            "bin_end": 0.9,
            "count": 0
           },
           {
            "bin_start": 0.9,
            "bin_end": 1,
            "count": 0
           }
          ]
         }
        },
        {
         "name": "hvdt_fod_7_21",
         "dtype": "float64",
         "stats": {
          "unique_count": 0,
          "nan_count": 1077,
          "min": null,
          "max": null,
          "histogram": [
           {
            "bin_start": 0,
            "bin_end": 0.1,
            "count": 0
           },
           {
            "bin_start": 0.1,
            "bin_end": 0.2,
            "count": 0
           },
           {
            "bin_start": 0.2,
            "bin_end": 0.30000000000000004,
            "count": 0
           },
           {
            "bin_start": 0.30000000000000004,
            "bin_end": 0.4,
            "count": 0
           },
           {
            "bin_start": 0.4,
            "bin_end": 0.5,
            "count": 0
           },
           {
            "bin_start": 0.5,
            "bin_end": 0.6000000000000001,
            "count": 0
           },
           {
            "bin_start": 0.6000000000000001,
            "bin_end": 0.7000000000000001,
            "count": 0
           },
           {
            "bin_start": 0.7000000000000001,
            "bin_end": 0.8,
            "count": 0
           },
           {
            "bin_start": 0.8,
            "bin_end": 0.9,
            "count": 0
           },
           {
            "bin_start": 0.9,
            "bin_end": 1,
            "count": 0
           }
          ]
         }
        },
        {
         "name": "fod_7_24",
         "dtype": "float64",
         "stats": {
          "unique_count": 1,
          "nan_count": 1076,
          "min": "18898.0",
          "max": "18898.0",
          "histogram": [
           {
            "bin_start": 18897.5,
            "bin_end": 18897.6,
            "count": 0
           },
           {
            "bin_start": 18897.6,
            "bin_end": 18897.7,
            "count": 0
           },
           {
            "bin_start": 18897.7,
            "bin_end": 18897.8,
            "count": 0
           },
           {
            "bin_start": 18897.8,
            "bin_end": 18897.9,
            "count": 0
           },
           {
            "bin_start": 18897.9,
            "bin_end": 18898,
            "count": 0
           },
           {
            "bin_start": 18898,
            "bin_end": 18898.1,
            "count": 1
           },
           {
            "bin_start": 18898.1,
            "bin_end": 18898.2,
            "count": 0
           },
           {
            "bin_start": 18898.2,
            "bin_end": 18898.3,
            "count": 0
           },
           {
            "bin_start": 18898.3,
            "bin_end": 18898.4,
            "count": 0
           },
           {
            "bin_start": 18898.4,
            "bin_end": 18898.5,
            "count": 0
           }
          ]
         }
        },
        {
         "name": "aadt_fod_7_24",
         "dtype": "float64",
         "stats": {
          "unique_count": 1,
          "nan_count": 1076,
          "min": "18900.0",
          "max": "18900.0",
          "histogram": [
           {
            "bin_start": 18899.5,
            "bin_end": 18899.6,
            "count": 0
           },
           {
            "bin_start": 18899.6,
            "bin_end": 18899.7,
            "count": 0
           },
           {
            "bin_start": 18899.7,
            "bin_end": 18899.8,
            "count": 0
           },
           {
            "bin_start": 18899.8,
            "bin_end": 18899.9,
            "count": 0
           },
           {
            "bin_start": 18899.9,
            "bin_end": 18900,
            "count": 0
           },
           {
            "bin_start": 18900,
            "bin_end": 18900.1,
            "count": 1
           },
           {
            "bin_start": 18900.1,
            "bin_end": 18900.2,
            "count": 0
           },
           {
            "bin_start": 18900.2,
            "bin_end": 18900.3,
            "count": 0
           },
           {
            "bin_start": 18900.3,
            "bin_end": 18900.4,
            "count": 0
           },
           {
            "bin_start": 18900.4,
            "bin_end": 18900.5,
            "count": 0
           }
          ]
         }
        },
        {
         "name": "hvdt_fod_7_24",
         "dtype": "float64",
         "stats": {
          "unique_count": 1,
          "nan_count": 1076,
          "min": "19700.0",
          "max": "19700.0",
          "histogram": [
           {
            "bin_start": 19699.5,
            "bin_end": 19699.6,
            "count": 0
           },
           {
            "bin_start": 19699.6,
            "bin_end": 19699.7,
            "count": 0
           },
           {
            "bin_start": 19699.7,
            "bin_end": 19699.8,
            "count": 0
           },
           {
            "bin_start": 19699.8,
            "bin_end": 19699.9,
            "count": 0
           },
           {
            "bin_start": 19699.9,
            "bin_end": 19700,
            "count": 0
           },
           {
            "bin_start": 19700,
            "bin_end": 19700.1,
            "count": 1
           },
           {
            "bin_start": 19700.1,
            "bin_end": 19700.2,
            "count": 0
           },
           {
            "bin_start": 19700.2,
            "bin_end": 19700.3,
            "count": 0
           },
           {
            "bin_start": 19700.3,
            "bin_end": 19700.4,
            "count": 0
           },
           {
            "bin_start": 19700.4,
            "bin_end": 19700.5,
            "count": 0
           }
          ]
         }
        },
        {
         "name": "aadt_fod_label",
         "dtype": "float64",
         "stats": {
          "unique_count": 100,
          "nan_count": 745,
          "min": "0.0",
          "max": "41700.0",
          "histogram": [
           {
            "bin_start": 0,
            "bin_end": 4170,
            "count": 227
           },
           {
            "bin_start": 4170,
            "bin_end": 8340,
            "count": 69
           },
           {
            "bin_start": 8340,
            "bin_end": 12510,
            "count": 23
           },
           {
            "bin_start": 12510,
            "bin_end": 16680,
            "count": 4
           },
           {
            "bin_start": 16680,
            "bin_end": 20850,
            "count": 1
           },
           {
            "bin_start": 20850,
            "bin_end": 25020,
            "count": 2
           },
           {
            "bin_start": 25020,
            "bin_end": 29190,
            "count": 2
           },
           {
            "bin_start": 29190,
            "bin_end": 33360,
            "count": 2
           },
           {
            "bin_start": 33360,
            "bin_end": 37530,
            "count": 1
           },
           {
            "bin_start": 37530,
            "bin_end": 41700,
            "count": 1
           }
          ]
         }
        },
        {
         "name": "taelle_dato",
         "dtype": "int64",
         "stats": {
          "unique_count": 406,
          "nan_count": 0,
          "min": "20090101",
          "max": "20201001",
          "histogram": [
           {
            "bin_start": 20090101,
            "bin_end": 20101191,
            "count": 86
           },
           {
            "bin_start": 20101191,
            "bin_end": 20112281,
            "count": 66
           },
           {
            "bin_start": 20112281,
            "bin_end": 20123371,
            "count": 60
           },
           {
            "bin_start": 20123371,
            "bin_end": 20134461,
            "count": 68
           },
           {
            "bin_start": 20134461,
            "bin_end": 20145551,
            "count": 120
           },
           {
            "bin_start": 20145551,
            "bin_end": 20156641,
            "count": 182
           },
           {
            "bin_start": 20156641,
            "bin_end": 20167731,
            "count": 163
           },
           {
            "bin_start": 20167731,
            "bin_end": 20178821,
            "count": 75
           },
           {
            "bin_start": 20178821,
            "bin_end": 20189911,
            "count": 89
           },
           {
            "bin_start": 20189911,
            "bin_end": 20201001,
            "count": 168
           }
          ]
         }
        },
        {
         "name": "aar",
         "dtype": "int64",
         "stats": {
          "unique_count": 12,
          "nan_count": 0,
          "min": "2009",
          "max": "2020",
          "histogram": [
           {
            "bin_start": 2009,
            "bin_end": 2010.1,
            "count": 89
           },
           {
            "bin_start": 2010.1,
            "bin_end": 2011.2,
            "count": 63
           },
           {
            "bin_start": 2011.2,
            "bin_end": 2012.3,
            "count": 59
           },
           {
            "bin_start": 2012.3,
            "bin_end": 2013.4,
            "count": 68
           },
           {
            "bin_start": 2013.4,
            "bin_end": 2014.5,
            "count": 120
           },
           {
            "bin_start": 2014.5,
            "bin_end": 2015.6,
            "count": 181
           },
           {
            "bin_start": 2015.6,
            "bin_end": 2016.7,
            "count": 165
           },
           {
            "bin_start": 2016.7,
            "bin_end": 2017.8,
            "count": 75
           },
           {
            "bin_start": 2017.8,
            "bin_end": 2018.9,
            "count": 89
           },
           {
            "bin_start": 2018.9,
            "bin_end": 2020,
            "count": 168
           }
          ]
         }
        },
        {
         "name": "link",
         "dtype": "object",
         "stats": {
          "unique_count": 1053,
          "nan_count": 1,
          "categories": [
           {
            "name": "http://kk.sites.itera.dk/apps/kk_trafik/pdf/aEVxU6ro99.pdf",
            "count": 19
           },
           {
            "name": "1052 others",
            "count": 1057
           },
           {
            "name": "Missing",
            "count": 1
           }
          ]
         }
        },
        {
         "name": "tung_pct_real",
         "dtype": "float64",
         "stats": {
          "unique_count": 116,
          "nan_count": 581,
          "min": "0.0",
          "max": "57.90000153",
          "histogram": [
           {
            "bin_start": 0,
            "bin_end": 5.790000152999999,
            "count": 381
           },
           {
            "bin_start": 5.790000152999999,
            "bin_end": 11.580000305999999,
            "count": 92
           },
           {
            "bin_start": 11.580000305999999,
            "bin_end": 17.370000458999996,
            "count": 18
           },
           {
            "bin_start": 17.370000458999996,
            "bin_end": 23.160000611999997,
            "count": 2
           },
           {
            "bin_start": 23.160000611999997,
            "bin_end": 28.950000765,
            "count": 0
           },
           {
            "bin_start": 28.950000765,
            "bin_end": 34.74000091799999,
            "count": 1
           },
           {
            "bin_start": 34.74000091799999,
            "bin_end": 40.530001070999994,
            "count": 1
           },
           {
            "bin_start": 40.530001070999994,
            "bin_end": 46.320001223999995,
            "count": 0
           },
           {
            "bin_start": 46.320001223999995,
            "bin_end": 52.110001376999996,
            "count": 0
           },
           {
            "bin_start": 52.110001376999996,
            "bin_end": 57.90000153,
            "count": 1
           }
          ]
         }
        },
        {
         "name": "ladcykler_pct_real",
         "dtype": "float64",
         "stats": {
          "unique_count": 57,
          "nan_count": 744,
          "min": "0.0",
          "max": "8.5",
          "histogram": [
           {
            "bin_start": 0,
            "bin_end": 0.85,
            "count": 11
           },
           {
            "bin_start": 0.85,
            "bin_end": 1.7,
            "count": 64
           },
           {
            "bin_start": 1.7,
            "bin_end": 2.55,
            "count": 106
           },
           {
            "bin_start": 2.55,
            "bin_end": 3.4,
            "count": 89
           },
           {
            "bin_start": 3.4,
            "bin_end": 4.25,
            "count": 34
           },
           {
            "bin_start": 4.25,
            "bin_end": 5.1,
            "count": 14
           },
           {
            "bin_start": 5.1,
            "bin_end": 5.95,
            "count": 8
           },
           {
            "bin_start": 5.95,
            "bin_end": 6.8,
            "count": 3
           },
           {
            "bin_start": 6.8,
            "bin_end": 7.6499999999999995,
            "count": 2
           },
           {
            "bin_start": 7.6499999999999995,
            "bin_end": 8.5,
            "count": 2
           }
          ]
         }
        },
        {
         "name": "lastbiler_7_19",
         "dtype": "float64",
         "stats": {
          "unique_count": 221,
          "nan_count": 734,
          "min": "0.0",
          "max": "3454.0",
          "histogram": [
           {
            "bin_start": 0,
            "bin_end": 345.4,
            "count": 277
           },
           {
            "bin_start": 345.4,
            "bin_end": 690.8,
            "count": 39
           },
           {
            "bin_start": 690.8,
            "bin_end": 1036.1999999999998,
            "count": 15
           },
           {
            "bin_start": 1036.1999999999998,
            "bin_end": 1381.6,
            "count": 6
           },
           {
            "bin_start": 1381.6,
            "bin_end": 1727,
            "count": 1
           },
           {
            "bin_start": 1727,
            "bin_end": 2072.3999999999996,
            "count": 4
           },
           {
            "bin_start": 2072.3999999999996,
            "bin_end": 2417.7999999999997,
            "count": 0
           },
           {
            "bin_start": 2417.7999999999997,
            "bin_end": 2763.2,
            "count": 0
           },
           {
            "bin_start": 2763.2,
            "bin_end": 3108.6,
            "count": 0
           },
           {
            "bin_start": 3108.6,
            "bin_end": 3454,
            "count": 1
           }
          ]
         }
        },
        {
         "name": "lastbiler_pct",
         "dtype": "object",
         "stats": {
          "unique_count": 46,
          "nan_count": 970,
          "categories": [
           {
            "name": "1,3",
            "count": 8
           },
           {
            "name": "45 others",
            "count": 99
           },
           {
            "name": "Missing",
            "count": 970
           }
          ]
         }
        },
        {
         "name": "elloebehjul_7_19",
         "dtype": "float64",
         "stats": {
          "unique_count": 42,
          "nan_count": 1030,
          "min": "22.0",
          "max": "438.0",
          "histogram": [
           {
            "bin_start": 22,
            "bin_end": 63.6,
            "count": 11
           },
           {
            "bin_start": 63.6,
            "bin_end": 105.2,
            "count": 10
           },
           {
            "bin_start": 105.2,
            "bin_end": 146.8,
            "count": 8
           },
           {
            "bin_start": 146.8,
            "bin_end": 188.4,
            "count": 3
           },
           {
            "bin_start": 188.4,
            "bin_end": 230,
            "count": 8
           },
           {
            "bin_start": 230,
            "bin_end": 271.6,
            "count": 3
           },
           {
            "bin_start": 271.6,
            "bin_end": 313.2,
            "count": 3
           },
           {
            "bin_start": 313.2,
            "bin_end": 354.8,
            "count": 0
           },
           {
            "bin_start": 354.8,
            "bin_end": 396.40000000000003,
            "count": 0
           },
           {
            "bin_start": 396.40000000000003,
            "bin_end": 438,
            "count": 1
           }
          ]
         }
        },
        {
         "name": "elloebehjul_pct",
         "dtype": "object",
         "stats": {
          "unique_count": 20,
          "nan_count": 1031,
          "categories": [
           {
            "name": "1,4",
            "count": 5
           },
           {
            "name": "19 others",
            "count": 41
           },
           {
            "name": "Missing",
            "count": 1031
           }
          ]
         }
        },
        {
         "name": "andre_busser_7_19",
         "dtype": "float64",
         "stats": {
          "unique_count": 61,
          "nan_count": 986,
          "min": "1.0",
          "max": "480.0",
          "histogram": [
           {
            "bin_start": 1,
            "bin_end": 48.9,
            "count": 60
           },
           {
            "bin_start": 48.9,
            "bin_end": 96.8,
            "count": 13
           },
           {
            "bin_start": 96.8,
            "bin_end": 144.7,
            "count": 9
           },
           {
            "bin_start": 144.7,
            "bin_end": 192.6,
            "count": 3
           },
           {
            "bin_start": 192.6,
            "bin_end": 240.5,
            "count": 1
           },
           {
            "bin_start": 240.5,
            "bin_end": 288.4,
            "count": 0
           },
           {
            "bin_start": 288.4,
            "bin_end": 336.3,
            "count": 2
           },
           {
            "bin_start": 336.3,
            "bin_end": 384.2,
            "count": 2
           },
           {
            "bin_start": 384.2,
            "bin_end": 432.09999999999997,
            "count": 0
           },
           {
            "bin_start": 432.09999999999997,
            "bin_end": 480,
            "count": 1
           }
          ]
         }
        },
        {
         "name": "wkb_geometry",
         "dtype": "object",
         "stats": {
          "unique_count": 1068,
          "nan_count": 1,
          "categories": [
           {
            "name": "POINT (12.583662808767516 55.72009422647465)",
            "count": 3
           },
           {
            "name": "1067 others",
            "count": 1073
           },
           {
            "name": "Missing",
            "count": 1
           }
          ]
         }
        },
        {
         "name": "date",
         "dtype": "datetime64[ns]",
         "stats": {
          "unique_count": 406,
          "nan_count": 0,
          "min": "2009-01-01 00:00:00",
          "max": "2020-10-01 00:00:00",
          "histogram": [
           {
            "bin_start": 1230768000000000000,
            "bin_end": 1267842240000000000,
            "count": 44
           },
           {
            "bin_start": 1267842240000000000,
            "bin_end": 1304916480000000000,
            "count": 56
           },
           {
            "bin_start": 1304916480000000000,
            "bin_end": 1341990720000000000,
            "count": 91
           },
           {
            "bin_start": 1341990720000000000,
            "bin_end": 1379064960000000000,
            "count": 76
           },
           {
            "bin_start": 1379064960000000000,
            "bin_end": 1416139200000000000,
            "count": 133
           },
           {
            "bin_start": 1416139200000000000,
            "bin_end": 1453213440000000000,
            "count": 190
           },
           {
            "bin_start": 1453213440000000000,
            "bin_end": 1490287680000000000,
            "count": 158
           },
           {
            "bin_start": 1490287680000000000,
            "bin_end": 1527361920000000000,
            "count": 85
           },
           {
            "bin_start": 1527361920000000000,
            "bin_end": 1564436160000000000,
            "count": 169
           },
           {
            "bin_start": 1564436160000000000,
            "bin_end": 1601510400000000000,
            "count": 75
           }
          ]
         }
        },
        {
         "name": "year",
         "dtype": "int64",
         "stats": {
          "unique_count": 12,
          "nan_count": 0,
          "min": "2009",
          "max": "2020",
          "histogram": [
           {
            "bin_start": 2009,
            "bin_end": 2010.1,
            "count": 89
           },
           {
            "bin_start": 2010.1,
            "bin_end": 2011.2,
            "count": 63
           },
           {
            "bin_start": 2011.2,
            "bin_end": 2012.3,
            "count": 60
           },
           {
            "bin_start": 2012.3,
            "bin_end": 2013.4,
            "count": 68
           },
           {
            "bin_start": 2013.4,
            "bin_end": 2014.5,
            "count": 120
           },
           {
            "bin_start": 2014.5,
            "bin_end": 2015.6,
            "count": 182
           },
           {
            "bin_start": 2015.6,
            "bin_end": 2016.7,
            "count": 163
           },
           {
            "bin_start": 2016.7,
            "bin_end": 2017.8,
            "count": 75
           },
           {
            "bin_start": 2017.8,
            "bin_end": 2018.9,
            "count": 89
           },
           {
            "bin_start": 2018.9,
            "bin_end": 2020,
            "count": 168
           }
          ]
         }
        },
        {
         "name": "_deepnote_index_column",
         "dtype": "int64"
        }
       ],
       "rows": [
        {
         "t_nr": 1,
         "vejnavn": "H.C. Andersens Boulevard",
         "beskrivelse": "sydøst for Jarmers Plads",
         "husnummer": "4 eller 5A",
         "type": 3,
         "taelling_type": "Andre faste tællinger",
         "ktj_7_19": 42650,
         "tung_pct": "3,8",
         "aadt_koretojer": 49900,
         "hvdt_koretojer": 55900,
         "cykler_7_19": 21601,
         "ladcykler_pct": "1,2",
         "aadt_cykler": 22200,
         "hvdt_cykler": 26400,
         "fod_7_19": "nan",
         "aadt_fod_7_19": "nan",
         "hvdt_fod_7_19": "nan",
         "fod_7_21": "nan",
         "aadt_fod_7_21": "nan",
         "hvdt_fod_7_21": "nan",
         "fod_7_24": "nan",
         "aadt_fod_7_24": "nan",
         "hvdt_fod_7_24": "nan",
         "aadt_fod_label": "nan",
         "taelle_dato": 20160921,
         "aar": 2016,
         "link": "http://kk.sites.itera.dk/apps/kk_trafik/pdf/UJpxEGxaCg.pdf",
         "tung_pct_real": 3.79999995,
         "ladcykler_pct_real": 1.20000005,
         "lastbiler_7_19": 1016,
         "lastbiler_pct": "nan",
         "elloebehjul_7_19": "nan",
         "elloebehjul_pct": "nan",
         "andre_busser_7_19": "nan",
         "wkb_geometry": "POINT (12.565491397230991 55.67796084860272)",
         "date": "2016-09-21T00:00:00.000000",
         "year": 2016,
         "_deepnote_index_column": 0
        },
        {
         "t_nr": 3,
         "vejnavn": "Bredgade",
         "beskrivelse": "nord for Kongens Nytorv",
         "husnummer": "3 eller 4",
         "type": 3,
         "taelling_type": "Andre faste tællinger",
         "ktj_7_19": 8984,
         "tung_pct": "1,8",
         "aadt_koretojer": 10500,
         "hvdt_koretojer": 11800,
         "cykler_7_19": 5262,
         "ladcykler_pct": "3,3",
         "aadt_cykler": 5400,
         "hvdt_cykler": 6400,
         "fod_7_19": "nan",
         "aadt_fod_7_19": "nan",
         "hvdt_fod_7_19": "nan",
         "fod_7_21": "nan",
         "aadt_fod_7_21": "nan",
         "hvdt_fod_7_21": "nan",
         "fod_7_24": "nan",
         "aadt_fod_7_24": "nan",
         "hvdt_fod_7_24": "nan",
         "aadt_fod_label": "nan",
         "taelle_dato": 20201001,
         "aar": 2020,
         "link": "https://kk.sites.itera.dk/apps/kk_trafik/pdf/MaJpTOaVhR.pdf",
         "tung_pct_real": 1.79999995,
         "ladcykler_pct_real": 3.29999995,
         "lastbiler_7_19": 18,
         "lastbiler_pct": "0,2",
         "elloebehjul_7_19": "nan",
         "elloebehjul_pct": "nan",
         "andre_busser_7_19": "nan",
         "wkb_geometry": "POINT (12.587600106423727 55.68116360238515)",
         "date": "2020-10-01T00:00:00.000000",
         "year": 2020,
         "_deepnote_index_column": 1
        },
        {
         "t_nr": 4,
         "vejnavn": "Christian d. IV's Bro",
         "beskrivelse": "syd for Niels Juels Gade",
         "husnummer": "ingen",
         "type": 3,
         "taelling_type": "Andre faste tællinger",
         "ktj_7_19": 11701,
         "tung_pct": "0,2",
         "aadt_koretojer": 13700,
         "hvdt_koretojer": 15300,
         "cykler_7_19": 7042,
         "ladcykler_pct": "2,8",
         "aadt_cykler": 7300,
         "hvdt_cykler": 8600,
         "fod_7_19": "nan",
         "aadt_fod_7_19": "nan",
         "hvdt_fod_7_19": "nan",
         "fod_7_21": "nan",
         "aadt_fod_7_21": "nan",
         "hvdt_fod_7_21": "nan",
         "fod_7_24": "nan",
         "aadt_fod_7_24": "nan",
         "hvdt_fod_7_24": "nan",
         "aadt_fod_label": "nan",
         "taelle_dato": 20200908,
         "aar": 2020,
         "link": "https://kk.sites.itera.dk/apps/kk_trafik/pdf/nACgzfu6V0.pdf",
         "tung_pct_real": 0.2,
         "ladcykler_pct_real": 2.79999995,
         "lastbiler_7_19": "nan",
         "lastbiler_pct": "nan",
         "elloebehjul_7_19": "nan",
         "elloebehjul_pct": "nan",
         "andre_busser_7_19": "nan",
         "wkb_geometry": "POINT (12.587161874224892 55.67576459605928)",
         "date": "2020-09-08T00:00:00.000000",
         "year": 2020,
         "_deepnote_index_column": 2
        },
        {
         "t_nr": 5,
         "vejnavn": "Dronning Louises Bro",
         "beskrivelse": "øst for Nørrebrogade",
         "husnummer": "nan",
         "type": 2,
         "taelling_type": "Søsnittet",
         "ktj_7_19": "nan",
         "tung_pct": "nan",
         "aadt_koretojer": "nan",
         "hvdt_koretojer": "nan",
         "cykler_7_19": 37752,
         "ladcykler_pct": "3,7",
         "aadt_cykler": 38900,
         "hvdt_cykler": 46100,
         "fod_7_19": "nan",
         "aadt_fod_7_19": "nan",
         "hvdt_fod_7_19": "nan",
         "fod_7_21": "nan",
         "aadt_fod_7_21": "nan",
         "hvdt_fod_7_21": "nan",
         "fod_7_24": "nan",
         "aadt_fod_7_24": "nan",
         "hvdt_fod_7_24": "nan",
         "aadt_fod_label": "nan",
         "taelle_dato": 20200923,
         "aar": 2020,
         "link": "https://kk.sites.itera.dk/apps/kk_trafik/pdf/sa0k8nWpoS.pdf",
         "tung_pct_real": "nan",
         "ladcykler_pct_real": 3.70000005,
         "lastbiler_7_19": "nan",
         "lastbiler_pct": "nan",
         "elloebehjul_7_19": 438,
         "elloebehjul_pct": "1,4",
         "andre_busser_7_19": "nan",
         "wkb_geometry": "POINT (12.563784830098982 55.68673054140091)",
         "date": "2020-09-23T00:00:00.000000",
         "year": 2020,
         "_deepnote_index_column": 3
        },
        {
         "t_nr": 6,
         "vejnavn": "Kampmannsgade",
         "beskrivelse": "ud for søerne",
         "husnummer": "nan",
         "type": 2,
         "taelling_type": "Søsnittet",
         "ktj_7_19": 3938,
         "tung_pct": "2,2",
         "aadt_koretojer": 4600,
         "hvdt_koretojer": 5200,
         "cykler_7_19": 7731,
         "ladcykler_pct": "2,8",
         "aadt_cykler": 8000,
         "hvdt_cykler": 9400,
         "fod_7_19": "nan",
         "aadt_fod_7_19": "nan",
         "hvdt_fod_7_19": "nan",
         "fod_7_21": "nan",
         "aadt_fod_7_21": "nan",
         "hvdt_fod_7_21": "nan",
         "fod_7_24": "nan",
         "aadt_fod_7_24": "nan",
         "hvdt_fod_7_24": "nan",
         "aadt_fod_label": "nan",
         "taelle_dato": 20200802,
         "aar": 2020,
         "link": "https://kk.sites.itera.dk/apps/kk_trafik/pdf/bZHOEqF2IE.pdf",
         "tung_pct_real": 2.20000005,
         "ladcykler_pct_real": 2.79999995,
         "lastbiler_7_19": 29,
         "lastbiler_pct": "34,1",
         "elloebehjul_7_19": "nan",
         "elloebehjul_pct": "nan",
         "andre_busser_7_19": 6,
         "wkb_geometry": "POINT (12.557917540101617 55.67797681383055)",
         "date": "2020-08-02T00:00:00.000000",
         "year": 2020,
         "_deepnote_index_column": 4
        },
        {
         "t_nr": 7,
         "vejnavn": "Ellebjergvej",
         "beskrivelse": "øst for Poppelstykket",
         "husnummer": "138",
         "type": 3,
         "taelling_type": "Andre faste tællinger",
         "ktj_7_19": 27944,
         "tung_pct": "2,6",
         "aadt_koretojer": 32700,
         "hvdt_koretojer": 36600,
         "cykler_7_19": 4003,
         "ladcykler_pct": "4,9",
         "aadt_cykler": 4100,
         "hvdt_cykler": 4900,
         "fod_7_19": "nan",
         "aadt_fod_7_19": "nan",
         "hvdt_fod_7_19": "nan",
         "fod_7_21": "nan",
         "aadt_fod_7_21": "nan",
         "hvdt_fod_7_21": "nan",
         "fod_7_24": "nan",
         "aadt_fod_7_24": "nan",
         "hvdt_fod_7_24": "nan",
         "aadt_fod_label": "nan",
         "taelle_dato": 20200826,
         "aar": 2020,
         "link": "https://kk.sites.itera.dk/apps/kk_trafik/pdf/1roAZSzqVU.pdf",
         "tung_pct_real": 2.5999999,
         "ladcykler_pct_real": 4.9000001,
         "lastbiler_7_19": 614,
         "lastbiler_pct": "85,75",
         "elloebehjul_7_19": "nan",
         "elloebehjul_pct": "nan",
         "andre_busser_7_19": 50,
         "wkb_geometry": "POINT (12.510990440718215 55.65050283197625)",
         "date": "2020-08-26T00:00:00.000000",
         "year": 2020,
         "_deepnote_index_column": 5
        },
        {
         "t_nr": 8,
         "vejnavn": "Englandsvej",
         "beskrivelse": "nord for Følfodvej",
         "husnummer": "229 eller 230",
         "type": 1,
         "taelling_type": "Kommunegrænsen",
         "ktj_7_19": 9311,
         "tung_pct": "1,9",
         "aadt_koretojer": 10900,
         "hvdt_koretojer": 12200,
         "cykler_7_19": 2271,
         "ladcykler_pct": "5,0",
         "aadt_cykler": 2300,
         "hvdt_cykler": 2800,
         "fod_7_19": "nan",
         "aadt_fod_7_19": "nan",
         "hvdt_fod_7_19": "nan",
         "fod_7_21": "nan",
         "aadt_fod_7_21": "nan",
         "hvdt_fod_7_21": "nan",
         "fod_7_24": "nan",
         "aadt_fod_7_24": "nan",
         "hvdt_fod_7_24": "nan",
         "aadt_fod_label": "nan",
         "taelle_dato": 20200624,
         "aar": 2020,
         "link": "https://kk.sites.itera.dk/apps/kk_trafik/pdf/Rt3pA0AISM.pdf",
         "tung_pct_real": 1.89999998,
         "ladcykler_pct_real": 5,
         "lastbiler_7_19": 131,
         "lastbiler_pct": "74,43",
         "elloebehjul_7_19": "nan",
         "elloebehjul_pct": "nan",
         "andre_busser_7_19": 8,
         "wkb_geometry": "POINT (12.599845636263538 55.63848509063259)",
         "date": "2020-06-24T00:00:00.000000",
         "year": 2020,
         "_deepnote_index_column": 6
        },
        {
         "t_nr": 9,
         "vejnavn": "Farvergade",
         "beskrivelse": "nordøst for Rådhuspladsen",
         "husnummer": "6 eller 17",
         "type": 3,
         "taelling_type": "Andre faste tællinger",
         "ktj_7_19": 531,
         "tung_pct": "2,1",
         "aadt_koretojer": 600,
         "hvdt_koretojer": 700,
         "cykler_7_19": 2724,
         "ladcykler_pct": "nan",
         "aadt_cykler": 2800,
         "hvdt_cykler": 3300,
         "fod_7_19": "nan",
         "aadt_fod_7_19": "nan",
         "hvdt_fod_7_19": "nan",
         "fod_7_21": "nan",
         "aadt_fod_7_21": "nan",
         "hvdt_fod_7_21": "nan",
         "fod_7_24": "nan",
         "aadt_fod_7_24": "nan",
         "hvdt_fod_7_24": "nan",
         "aadt_fod_label": "nan",
         "taelle_dato": 20151001,
         "aar": 2015,
         "link": "http://kk.sites.itera.dk/apps/kk_trafik/pdf/tY91YGf9p1.pdf",
         "tung_pct_real": 2.0999999,
         "ladcykler_pct_real": "nan",
         "lastbiler_7_19": 11,
         "lastbiler_pct": "nan",
         "elloebehjul_7_19": "nan",
         "elloebehjul_pct": "nan",
         "andre_busser_7_19": "nan",
         "wkb_geometry": "POINT (12.572503733886563 55.6759724596037)",
         "date": "2015-10-01T00:00:00.000000",
         "year": 2015,
         "_deepnote_index_column": 7
        },
        {
         "t_nr": 11,
         "vejnavn": "Frederiksborggade",
         "beskrivelse": "øst for Nørre Voldgade",
         "husnummer": "10",
         "type": 3,
         "taelling_type": "Andre faste tællinger",
         "ktj_7_19": 64,
         "tung_pct": "nan",
         "aadt_koretojer": 100,
         "hvdt_koretojer": 100,
         "cykler_7_19": 1260,
         "ladcykler_pct": "nan",
         "aadt_cykler": 1300,
         "hvdt_cykler": 1500,
         "fod_7_19": 35606,
         "aadt_fod_7_19": 41700,
         "hvdt_fod_7_19": 43100,
         "fod_7_21": "nan",
         "aadt_fod_7_21": "nan",
         "hvdt_fod_7_21": "nan",
         "fod_7_24": "nan",
         "aadt_fod_7_24": "nan",
         "hvdt_fod_7_24": "nan",
         "aadt_fod_label": 41700,
         "taelle_dato": 20180619,
         "aar": 2018,
         "link": "https://kk.sites.itera.dk/apps/kk_trafik/pdf/gsufDE4hgG.pdf",
         "tung_pct_real": "nan",
         "ladcykler_pct_real": "nan",
         "lastbiler_7_19": 0,
         "lastbiler_pct": "nan",
         "elloebehjul_7_19": "nan",
         "elloebehjul_pct": "nan",
         "andre_busser_7_19": "nan",
         "wkb_geometry": "POINT (12.572683528145083 55.683211342280345)",
         "date": "2018-06-19T00:00:00.000000",
         "year": 2018,
         "_deepnote_index_column": 8
        },
        {
         "t_nr": 12,
         "vejnavn": "Frederiksborggade",
         "beskrivelse": "sydøst for Søtorvet",
         "husnummer": "50",
         "type": 3,
         "taelling_type": "Andre faste tællinger",
         "ktj_7_19": 3637,
         "tung_pct": "14,0",
         "aadt_koretojer": 4300,
         "hvdt_koretojer": 4800,
         "cykler_7_19": 17219,
         "ladcykler_pct": "3,1",
         "aadt_cykler": 17700,
         "hvdt_cykler": 21000,
         "fod_7_19": "nan",
         "aadt_fod_7_19": "nan",
         "hvdt_fod_7_19": "nan",
         "fod_7_21": "nan",
         "aadt_fod_7_21": "nan",
         "hvdt_fod_7_21": "nan",
         "fod_7_24": "nan",
         "aadt_fod_7_24": "nan",
         "hvdt_fod_7_24": "nan",
         "aadt_fod_label": "nan",
         "taelle_dato": 20190912,
         "aar": 2019,
         "link": "https://kk.sites.itera.dk/apps/kk_trafik/pdf/xpVL5eDw4D.pdf",
         "tung_pct_real": 14,
         "ladcykler_pct_real": 3.0999999,
         "lastbiler_7_19": 510,
         "lastbiler_pct": "1,9",
         "elloebehjul_7_19": 302,
         "elloebehjul_pct": "1,8",
         "andre_busser_7_19": 13,
         "wkb_geometry": "POINT (12.566369474794929 55.685708418286154)",
         "date": "2019-09-12T00:00:00.000000",
         "year": 2019,
         "_deepnote_index_column": 9
        }
       ]
      },
      "text/plain": "       t_nr                                            vejnavn  \\\n0         1                           H.C. Andersens Boulevard   \n1         3                                           Bredgade   \n2         4                              Christian d. IV's Bro   \n3         5                               Dronning Louises Bro   \n4         6                                      Kampmannsgade   \n...     ...                                                ...   \n1072  10195  Sydhavnsgade-Borgmester Christiansens Gade-Fre...   \n1073  10196               Vejlands Allé-Artillerivej-Selinevej   \n1074  10197                      Vejlands Allé-Center Boulvard   \n1075  10198          Vejlands Allé-Motorvejen_vestlig fletning   \n1076  10199           Vejlands Allé-Motorvejen-østlig fletning   \n\n                   beskrivelse   husnummer   type          taelling_type  \\\n0     sydøst for Jarmers Plads  4 eller 5A    3.0  Andre faste tællinger   \n1      nord for Kongens Nytorv   3 eller 4    3.0  Andre faste tællinger   \n2     syd for Niels Juels Gade       ingen    3.0  Andre faste tællinger   \n3         øst for Nørrebrogade         NaN    2.0              Søsnittet   \n4                ud for søerne         NaN    2.0              Søsnittet   \n...                        ...         ...    ...                    ...   \n1072              Krydstælling         NaN  101.0         Krydstællinger   \n1073              Krydstælling         NaN  101.0         Krydstællinger   \n1074              Krydstælling         NaN  101.0         Krydstællinger   \n1075              Krydstælling         NaN  101.0         Krydstællinger   \n1076              Krydstælling         NaN  101.0         Krydstællinger   \n\n      ktj_7_19 tung_pct  aadt_koretojer  hvdt_koretojer  ...  tung_pct_real  \\\n0      42650.0      3,8         49900.0         55900.0  ...            3.8   \n1       8984.0      1,8         10500.0         11800.0  ...            1.8   \n2      11701.0      0,2         13700.0         15300.0  ...            0.2   \n3          NaN      NaN             NaN             NaN  ...            NaN   \n4       3938.0      2,2          4600.0          5200.0  ...            2.2   \n...        ...      ...             ...             ...  ...            ...   \n1072       NaN      NaN             NaN             NaN  ...            NaN   \n1073       NaN      NaN             NaN             NaN  ...            NaN   \n1074       NaN      NaN             NaN             NaN  ...            NaN   \n1075       NaN      NaN             NaN             NaN  ...            NaN   \n1076       NaN      NaN             NaN             NaN  ...            NaN   \n\n     ladcykler_pct_real  lastbiler_7_19  lastbiler_pct  elloebehjul_7_19  \\\n0                   1.2          1016.0            NaN               NaN   \n1                   3.3            18.0            0,2               NaN   \n2                   2.8             NaN            NaN               NaN   \n3                   3.7             NaN            NaN             438.0   \n4                   2.8            29.0           34,1               NaN   \n...                 ...             ...            ...               ...   \n1072                NaN             NaN            NaN               NaN   \n1073                NaN             NaN            NaN               NaN   \n1074                NaN             NaN            NaN               NaN   \n1075                NaN             NaN            NaN               NaN   \n1076                NaN             NaN            NaN               NaN   \n\n      elloebehjul_pct  andre_busser_7_19  \\\n0                 NaN                NaN   \n1                 NaN                NaN   \n2                 NaN                NaN   \n3                 1,4                NaN   \n4                 NaN                6.0   \n...               ...                ...   \n1072              NaN                NaN   \n1073              NaN                NaN   \n1074              NaN                NaN   \n1075              NaN                NaN   \n1076              NaN                NaN   \n\n                                       wkb_geometry       date  year  \n0      POINT (12.565491397230991 55.67796084860272) 2016-09-21  2016  \n1      POINT (12.587600106423727 55.68116360238515) 2020-10-01  2020  \n2      POINT (12.587161874224892 55.67576459605928) 2020-09-08  2020  \n3      POINT (12.563784830098982 55.68673054140091) 2020-09-23  2020  \n4      POINT (12.557917540101617 55.67797681383055) 2020-08-02  2020  \n...                                             ...        ...   ...  \n1072   POINT (12.542233637720141 55.64665981581368) 2019-09-12  2019  \n1073  POINT (12.563594727350983 55.641493677099774) 2019-09-12  2019  \n1074  POINT (12.575944159210048 55.640978432494656) 2018-12-18  2018  \n1075  POINT (12.553338532609525 55.641023522185684) 2019-09-10  2019  \n1076  POINT (12.559626691260197 55.641045182915505) 2019-09-10  2019  \n\n[1077 rows x 37 columns]",
      "text/html": "<div>\n<style scoped>\n    .dataframe tbody tr th:only-of-type {\n        vertical-align: middle;\n    }\n\n    .dataframe tbody tr th {\n        vertical-align: top;\n    }\n\n    .dataframe thead th {\n        text-align: right;\n    }\n</style>\n<table border=\"1\" class=\"dataframe\">\n  <thead>\n    <tr style=\"text-align: right;\">\n      <th></th>\n      <th>t_nr</th>\n      <th>vejnavn</th>\n      <th>beskrivelse</th>\n      <th>husnummer</th>\n      <th>type</th>\n      <th>taelling_type</th>\n      <th>ktj_7_19</th>\n      <th>tung_pct</th>\n      <th>aadt_koretojer</th>\n      <th>hvdt_koretojer</th>\n      <th>...</th>\n      <th>tung_pct_real</th>\n      <th>ladcykler_pct_real</th>\n      <th>lastbiler_7_19</th>\n      <th>lastbiler_pct</th>\n      <th>elloebehjul_7_19</th>\n      <th>elloebehjul_pct</th>\n      <th>andre_busser_7_19</th>\n      <th>wkb_geometry</th>\n      <th>date</th>\n      <th>year</th>\n    </tr>\n  </thead>\n  <tbody>\n    <tr>\n      <th>0</th>\n      <td>1</td>\n      <td>H.C. Andersens Boulevard</td>\n      <td>sydøst for Jarmers Plads</td>\n      <td>4 eller 5A</td>\n      <td>3.0</td>\n      <td>Andre faste tællinger</td>\n      <td>42650.0</td>\n      <td>3,8</td>\n      <td>49900.0</td>\n      <td>55900.0</td>\n      <td>...</td>\n      <td>3.8</td>\n      <td>1.2</td>\n      <td>1016.0</td>\n      <td>NaN</td>\n      <td>NaN</td>\n      <td>NaN</td>\n      <td>NaN</td>\n      <td>POINT (12.565491397230991 55.67796084860272)</td>\n      <td>2016-09-21</td>\n      <td>2016</td>\n    </tr>\n    <tr>\n      <th>1</th>\n      <td>3</td>\n      <td>Bredgade</td>\n      <td>nord for Kongens Nytorv</td>\n      <td>3 eller 4</td>\n      <td>3.0</td>\n      <td>Andre faste tællinger</td>\n      <td>8984.0</td>\n      <td>1,8</td>\n      <td>10500.0</td>\n      <td>11800.0</td>\n      <td>...</td>\n      <td>1.8</td>\n      <td>3.3</td>\n      <td>18.0</td>\n      <td>0,2</td>\n      <td>NaN</td>\n      <td>NaN</td>\n      <td>NaN</td>\n      <td>POINT (12.587600106423727 55.68116360238515)</td>\n      <td>2020-10-01</td>\n      <td>2020</td>\n    </tr>\n    <tr>\n      <th>2</th>\n      <td>4</td>\n      <td>Christian d. IV's Bro</td>\n      <td>syd for Niels Juels Gade</td>\n      <td>ingen</td>\n      <td>3.0</td>\n      <td>Andre faste tællinger</td>\n      <td>11701.0</td>\n      <td>0,2</td>\n      <td>13700.0</td>\n      <td>15300.0</td>\n      <td>...</td>\n      <td>0.2</td>\n      <td>2.8</td>\n      <td>NaN</td>\n      <td>NaN</td>\n      <td>NaN</td>\n      <td>NaN</td>\n      <td>NaN</td>\n      <td>POINT (12.587161874224892 55.67576459605928)</td>\n      <td>2020-09-08</td>\n      <td>2020</td>\n    </tr>\n    <tr>\n      <th>3</th>\n      <td>5</td>\n      <td>Dronning Louises Bro</td>\n      <td>øst for Nørrebrogade</td>\n      <td>NaN</td>\n      <td>2.0</td>\n      <td>Søsnittet</td>\n      <td>NaN</td>\n      <td>NaN</td>\n      <td>NaN</td>\n      <td>NaN</td>\n      <td>...</td>\n      <td>NaN</td>\n      <td>3.7</td>\n      <td>NaN</td>\n      <td>NaN</td>\n      <td>438.0</td>\n      <td>1,4</td>\n      <td>NaN</td>\n      <td>POINT (12.563784830098982 55.68673054140091)</td>\n      <td>2020-09-23</td>\n      <td>2020</td>\n    </tr>\n    <tr>\n      <th>4</th>\n      <td>6</td>\n      <td>Kampmannsgade</td>\n      <td>ud for søerne</td>\n      <td>NaN</td>\n      <td>2.0</td>\n      <td>Søsnittet</td>\n      <td>3938.0</td>\n      <td>2,2</td>\n      <td>4600.0</td>\n      <td>5200.0</td>\n      <td>...</td>\n      <td>2.2</td>\n      <td>2.8</td>\n      <td>29.0</td>\n      <td>34,1</td>\n      <td>NaN</td>\n      <td>NaN</td>\n      <td>6.0</td>\n      <td>POINT (12.557917540101617 55.67797681383055)</td>\n      <td>2020-08-02</td>\n      <td>2020</td>\n    </tr>\n    <tr>\n      <th>...</th>\n      <td>...</td>\n      <td>...</td>\n      <td>...</td>\n      <td>...</td>\n      <td>...</td>\n      <td>...</td>\n      <td>...</td>\n      <td>...</td>\n      <td>...</td>\n      <td>...</td>\n      <td>...</td>\n      <td>...</td>\n      <td>...</td>\n      <td>...</td>\n      <td>...</td>\n      <td>...</td>\n      <td>...</td>\n      <td>...</td>\n      <td>...</td>\n      <td>...</td>\n      <td>...</td>\n    </tr>\n    <tr>\n      <th>1072</th>\n      <td>10195</td>\n      <td>Sydhavnsgade-Borgmester Christiansens Gade-Fre...</td>\n      <td>Krydstælling</td>\n      <td>NaN</td>\n      <td>101.0</td>\n      <td>Krydstællinger</td>\n      <td>NaN</td>\n      <td>NaN</td>\n      <td>NaN</td>\n      <td>NaN</td>\n      <td>...</td>\n      <td>NaN</td>\n      <td>NaN</td>\n      <td>NaN</td>\n      <td>NaN</td>\n      <td>NaN</td>\n      <td>NaN</td>\n      <td>NaN</td>\n      <td>POINT (12.542233637720141 55.64665981581368)</td>\n      <td>2019-09-12</td>\n      <td>2019</td>\n    </tr>\n    <tr>\n      <th>1073</th>\n      <td>10196</td>\n      <td>Vejlands Allé-Artillerivej-Selinevej</td>\n      <td>Krydstælling</td>\n      <td>NaN</td>\n      <td>101.0</td>\n      <td>Krydstællinger</td>\n      <td>NaN</td>\n      <td>NaN</td>\n      <td>NaN</td>\n      <td>NaN</td>\n      <td>...</td>\n      <td>NaN</td>\n      <td>NaN</td>\n      <td>NaN</td>\n      <td>NaN</td>\n      <td>NaN</td>\n      <td>NaN</td>\n      <td>NaN</td>\n      <td>POINT (12.563594727350983 55.641493677099774)</td>\n      <td>2019-09-12</td>\n      <td>2019</td>\n    </tr>\n    <tr>\n      <th>1074</th>\n      <td>10197</td>\n      <td>Vejlands Allé-Center Boulvard</td>\n      <td>Krydstælling</td>\n      <td>NaN</td>\n      <td>101.0</td>\n      <td>Krydstællinger</td>\n      <td>NaN</td>\n      <td>NaN</td>\n      <td>NaN</td>\n      <td>NaN</td>\n      <td>...</td>\n      <td>NaN</td>\n      <td>NaN</td>\n      <td>NaN</td>\n      <td>NaN</td>\n      <td>NaN</td>\n      <td>NaN</td>\n      <td>NaN</td>\n      <td>POINT (12.575944159210048 55.640978432494656)</td>\n      <td>2018-12-18</td>\n      <td>2018</td>\n    </tr>\n    <tr>\n      <th>1075</th>\n      <td>10198</td>\n      <td>Vejlands Allé-Motorvejen_vestlig fletning</td>\n      <td>Krydstælling</td>\n      <td>NaN</td>\n      <td>101.0</td>\n      <td>Krydstællinger</td>\n      <td>NaN</td>\n      <td>NaN</td>\n      <td>NaN</td>\n      <td>NaN</td>\n      <td>...</td>\n      <td>NaN</td>\n      <td>NaN</td>\n      <td>NaN</td>\n      <td>NaN</td>\n      <td>NaN</td>\n      <td>NaN</td>\n      <td>NaN</td>\n      <td>POINT (12.553338532609525 55.641023522185684)</td>\n      <td>2019-09-10</td>\n      <td>2019</td>\n    </tr>\n    <tr>\n      <th>1076</th>\n      <td>10199</td>\n      <td>Vejlands Allé-Motorvejen-østlig fletning</td>\n      <td>Krydstælling</td>\n      <td>NaN</td>\n      <td>101.0</td>\n      <td>Krydstællinger</td>\n      <td>NaN</td>\n      <td>NaN</td>\n      <td>NaN</td>\n      <td>NaN</td>\n      <td>...</td>\n      <td>NaN</td>\n      <td>NaN</td>\n      <td>NaN</td>\n      <td>NaN</td>\n      <td>NaN</td>\n      <td>NaN</td>\n      <td>NaN</td>\n      <td>POINT (12.559626691260197 55.641045182915505)</td>\n      <td>2019-09-10</td>\n      <td>2019</td>\n    </tr>\n  </tbody>\n</table>\n<p>1077 rows × 37 columns</p>\n</div>"
     },
     "metadata": {}
    }
   ]
  },
  {
   "cell_type": "code",
   "metadata": {
    "cell_id": "e6140cf9b198414289c460600a351a73",
    "tags": [],
    "deepnote_to_be_reexecuted": false,
    "source_hash": "c147285c",
    "execution_start": 1648646725861,
    "execution_millis": 124,
    "deepnote_cell_type": "code",
    "deepnote_cell_height": 708,
    "deepnote_output_heights": [
     611
    ]
   },
   "source": "df_traffic[df_traffic['year'] == 2019].groupby('date').size()",
   "execution_count": null,
   "outputs": [
    {
     "output_type": "execute_result",
     "execution_count": 6,
     "data": {
      "text/plain": "date\n2019-05-07    5\n2019-05-08    6\n2019-05-09    6\n2019-05-14    7\n2019-05-15    7\n2019-05-21    4\n2019-05-22    6\n2019-05-23    7\n2019-05-28    3\n2019-06-06    5\n2019-06-12    6\n2019-06-13    5\n2019-06-18    4\n2019-06-19    1\n2019-06-20    4\n2019-06-25    5\n2019-06-26    5\n2019-06-27    6\n2019-07-27    1\n2019-08-28    2\n2019-09-03    6\n2019-09-04    6\n2019-09-05    4\n2019-09-10    8\n2019-09-11    6\n2019-09-12    7\n2019-09-17    8\n2019-09-18    3\n2019-09-19    5\n2019-09-24    1\n2019-09-25    3\n2019-09-26    6\n2019-10-01    4\ndtype: int64"
     },
     "metadata": {}
    }
   ]
  },
  {
   "cell_type": "code",
   "metadata": {
    "cell_id": "337e2d5925b04f81b173b605d8f09446",
    "tags": [],
    "deepnote_to_be_reexecuted": false,
    "source_hash": "705fce5c",
    "execution_start": 1648646727158,
    "execution_millis": 14,
    "deepnote_cell_type": "code",
    "deepnote_cell_height": 346,
    "deepnote_output_heights": [
     249
    ]
   },
   "source": "df_traffic['date'].dt.year.value_counts()",
   "execution_count": null,
   "outputs": [
    {
     "output_type": "execute_result",
     "execution_count": 7,
     "data": {
      "text/plain": "2015    182\n2016    163\n2019    162\n2014    120\n2018     89\n2017     75\n2013     68\n2011     63\n2012     60\n2010     45\n2009     44\n2020      6\nName: date, dtype: int64"
     },
     "metadata": {}
    }
   ]
  },
  {
   "cell_type": "code",
   "metadata": {
    "cell_id": "068e6cdd318a40fdb2ae2b82689faf3c",
    "tags": [],
    "deepnote_to_be_reexecuted": false,
    "source_hash": "e30a9abe",
    "execution_start": 1648646728059,
    "execution_millis": 722,
    "deepnote_cell_type": "code",
    "deepnote_cell_height": 365,
    "deepnote_output_heights": [
     268
    ]
   },
   "source": "df_traffic.groupby('year')['ktj_7_19'].mean()",
   "execution_count": null,
   "outputs": [
    {
     "output_type": "execute_result",
     "execution_count": 8,
     "data": {
      "text/plain": "year\n2009     2802.037037\n2010     2366.346154\n2011     5754.545455\n2012     6702.777778\n2013     5464.705882\n2014     4847.813559\n2015     5719.890411\n2016     8161.000000\n2017     7397.047619\n2018     8296.152542\n2019    13186.472727\n2020    12375.600000\nName: ktj_7_19, dtype: float64"
     },
     "metadata": {}
    }
   ]
  },
  {
   "cell_type": "code",
   "metadata": {
    "cell_id": "8f286373c818447aba94b6364f770030",
    "tags": [],
    "deepnote_to_be_reexecuted": false,
    "source_hash": "596646ca",
    "execution_start": 1648646729545,
    "execution_millis": 3,
    "deepnote_cell_type": "code",
    "deepnote_cell_height": 365,
    "deepnote_output_heights": [
     268
    ]
   },
   "source": "df_traffic.groupby('year')['elloebehjul_7_19'].mean()",
   "execution_count": null,
   "outputs": [
    {
     "output_type": "execute_result",
     "execution_count": 9,
     "data": {
      "text/plain": "year\n2009           NaN\n2010           NaN\n2011           NaN\n2012           NaN\n2013           NaN\n2014           NaN\n2015           NaN\n2016           NaN\n2017           NaN\n2018           NaN\n2019    132.217391\n2020    438.000000\nName: elloebehjul_7_19, dtype: float64"
     },
     "metadata": {}
    }
   ]
  },
  {
   "cell_type": "code",
   "metadata": {
    "cell_id": "225bff9eedb0454ba107e07b33f7db88",
    "tags": [],
    "deepnote_to_be_reexecuted": false,
    "source_hash": "c14d716f",
    "execution_start": 1648646731159,
    "execution_millis": 252,
    "deepnote_cell_type": "code",
    "deepnote_cell_height": 365,
    "deepnote_output_heights": [
     268
    ]
   },
   "source": "df_traffic.groupby('year')['cykler_7_19'].mean()",
   "execution_count": null,
   "outputs": [
    {
     "output_type": "execute_result",
     "execution_count": 10,
     "data": {
      "text/plain": "year\n2009     1486.233333\n2010     1728.354839\n2011     1995.481481\n2012     3072.222222\n2013     4041.176471\n2014     3677.260870\n2015     3463.428571\n2016     3928.105263\n2017     2223.111111\n2018     5140.117647\n2019     5869.082645\n2020    10676.833333\nName: cykler_7_19, dtype: float64"
     },
     "metadata": {}
    }
   ]
  },
  {
   "cell_type": "code",
   "metadata": {
    "cell_id": "7cf3e532cc42436dbf08aaa8f5754ce1",
    "tags": [],
    "deepnote_to_be_reexecuted": false,
    "source_hash": "b4dc90cc",
    "execution_start": 1648646731622,
    "execution_millis": 3,
    "deepnote_cell_type": "code",
    "deepnote_cell_height": 365,
    "deepnote_output_heights": [
     268
    ]
   },
   "source": "df_traffic.groupby('year')['lastbiler_7_19'].mean()",
   "execution_count": null,
   "outputs": [
    {
     "output_type": "execute_result",
     "execution_count": 11,
     "data": {
      "text/plain": "year\n2009    118.000000\n2010     23.750000\n2011    160.700000\n2012    225.857143\n2013    127.166667\n2014    132.400000\n2015    141.739130\n2016    302.818182\n2017    360.787879\n2018    171.514706\n2019    335.877358\n2020    198.000000\nName: lastbiler_7_19, dtype: float64"
     },
     "metadata": {}
    }
   ]
  },
  {
   "cell_type": "code",
   "metadata": {
    "cell_id": "e31f43be74794668a9110d1f942f5451",
    "tags": [],
    "deepnote_to_be_reexecuted": false,
    "source_hash": "4b3e2665",
    "execution_start": 1648647284074,
    "execution_millis": 574,
    "deepnote_cell_type": "code",
    "deepnote_cell_height": 435,
    "deepnote_output_heights": [
     21,
     250
    ]
   },
   "source": "import matplotlib.pyplot as plt\n\nplt.plot(df_traffic.groupby('year')['ktj_7_19'].mean())",
   "execution_count": null,
   "outputs": [
    {
     "output_type": "execute_result",
     "execution_count": 24,
     "data": {
      "text/plain": "[<matplotlib.lines.Line2D at 0x7f4934f5d650>]"
     },
     "metadata": {}
    },
    {
     "data": {
      "text/plain": "<Figure size 432x288 with 1 Axes>",
      "image/png": "[encoded data removed]"
     },
     "metadata": {
      "needs_background": "light",
      "image/png": {
       "width": 387,
       "height": 248
      }
     },
     "output_type": "display_data"
    }
   ]
  },
  {
   "cell_type": "markdown",
   "source": "## Weather data",
   "metadata": {
    "cell_id": "9e18428b310241619dccb0f0a2961a7f",
    "tags": [],
    "deepnote_cell_type": "markdown",
    "deepnote_cell_height": 70
   }
  },
  {
   "cell_type": "code",
   "metadata": {
    "cell_id": "81e8076f6c4a4574a267d17e4771411a",
    "tags": [],
    "deepnote_to_be_reexecuted": false,
    "source_hash": "5037c378",
    "execution_start": 1651058579728,
    "execution_millis": 80725,
    "deepnote_cell_type": "code",
    "deepnote_cell_height": 549
   },
   "source": "# (lon, lat) 12.447848,55.606376,12.692826,55.731079\n\nurl = 'https://dmigw.govcloud.dk/v2/metObs/collections/observation/items'\n\nheader={'X-Gravitee-Api-Key': '4017479a-aed9-4909-aaac-0cb6169d7743'} #hidden \n\n# Parameters: https://confluence.govcloud.dk/pages/viewpage.action?pageId=26476616\nparam_list = ['temp_mean_past1h','wind_speed_past1h','precip_past1h']\n\n#Construct weather dataframe\ndf_weather = pd.DataFrame()\n\nfor param in param_list:\n\n    # Specify query parameters\n    params = {'datetime' : '2009-01-01T00:00:00Z/2018-12-31T23:59:00Z',\n            'parameterId' : param,\n            'limit' : '300000',\n            # Use bbox from above\n            'bbox' : '12.447848,55.606376,12.692826,55.731079'\n            }\n\n\n    r = requests.get(url,headers=header,params=params) # submit GET request based on url and headers\n    json_t = r.json()['features']\n    df_weather_t = pd.json_normalize(json_t)\n    df_weather = pd.concat([df_weather, df_weather_t])",
   "execution_count": null,
   "outputs": []
  },
  {
   "cell_type": "markdown",
   "source": "### Data preprocessing",
   "metadata": {
    "cell_id": "0d6a977e5dac49e999ac615815310e14",
    "tags": [],
    "is_collapsed": false,
    "deepnote_cell_type": "text-cell-h3"
   }
  },
  {
   "cell_type": "code",
   "metadata": {
    "cell_id": "a0f25f82208341c68308b6105de02f38",
    "tags": [],
    "deepnote_to_be_reexecuted": false,
    "source_hash": "d5d7c517",
    "execution_start": 1651058663856,
    "execution_millis": 1159,
    "deepnote_cell_type": "code",
    "deepnote_cell_height": 225
   },
   "source": "# Convert to 'datetime'\ndf_weather['properties.observed'] = pd.to_datetime(df_weather['properties.observed']).dt.tz_localize(None)\n\n# Save columns including date and time\ndf_weather['date'] = pd.to_datetime(df_weather['properties.observed']).dt.date\ndf_weather['time'] = pd.to_datetime(df_weather['properties.observed']).dt.time\n\n# Select coloumns of interest\ndf_weather = df_weather[['geometry.coordinates', 'properties.observed', 'date', 'time', 'properties.parameterId', 'properties.value']]",
   "execution_count": null,
   "outputs": []
  },
  {
   "cell_type": "code",
   "metadata": {
    "cell_id": "488f842c11894664b0c88badc89b3dba",
    "tags": [],
    "deepnote_to_be_reexecuted": false,
    "source_hash": "e38a0ad5",
    "execution_start": 1651060508887,
    "execution_millis": 229,
    "deepnote_cell_type": "code",
    "deepnote_cell_height": 117
   },
   "source": "df_temp = df_weather[df_weather['properties.parameterId'] == 'temp_mean_past1h'].groupby(pd.Grouper(key='date')).agg({ 'properties.value': 'mean'})\ndf_wind = df_weather[df_weather['properties.parameterId'] == 'wind_speed_past1h'].groupby(pd.Grouper(key='properties.observed')).agg({ 'properties.value': 'mean'})\ndf_precip = df_weather[df_weather['properties.parameterId'] == 'precip_past1h'].groupby(pd.Grouper(key='properties.observed')).agg({ 'properties.value': 'mean'})",
   "execution_count": null,
   "outputs": []
  },
  {
   "cell_type": "code",
   "metadata": {
    "cell_id": "9c6700587427430f9638468befe0a308",
    "tags": [],
    "deepnote_to_be_reexecuted": false,
    "source_hash": "319bd502",
    "execution_start": 1651060517426,
    "execution_millis": 21,
    "deepnote_cell_type": "code",
    "deepnote_cell_height": 600
   },
   "source": "df_temp",
   "execution_count": null,
   "outputs": [
    {
     "output_type": "execute_result",
     "execution_count": 104,
     "data": {
      "application/vnd.deepnote.dataframe.v3+json": {
       "column_count": 1,
       "row_count": 3652,
       "columns": [
        {
         "name": "properties.value",
         "dtype": "float64",
         "stats": {
          "unique_count": 3516,
          "nan_count": 0,
          "min": "-9.081250000000002",
          "max": "25.62291666666667",
          "histogram": [
           {
            "bin_start": -9.081250000000002,
            "bin_end": -5.610833333333336,
            "count": 18
           },
           {
            "bin_start": -5.610833333333336,
            "bin_end": -2.1404166666666677,
            "count": 135
           },
           {
            "bin_start": -2.1404166666666677,
            "bin_end": 1.33,
            "count": 309
           },
           {
            "bin_start": 1.33,
            "bin_end": 4.800416666666667,
            "count": 546
           },
           {
            "bin_start": 4.800416666666667,
            "bin_end": 8.270833333333334,
            "count": 620
           },
           {
            "bin_start": 8.270833333333334,
            "bin_end": 11.741250000000003,
            "count": 539
           },
           {
            "bin_start": 11.741250000000003,
            "bin_end": 15.211666666666668,
            "count": 535
           },
           {
            "bin_start": 15.211666666666668,
            "bin_end": 18.68208333333334,
            "count": 641
           },
           {
            "bin_start": 18.68208333333334,
            "bin_end": 22.152500000000003,
            "count": 259
           },
           {
            "bin_start": 22.152500000000003,
            "bin_end": 25.62291666666667,
            "count": 50
           }
          ]
         }
        },
        {
         "name": "_deepnote_index_column",
         "dtype": "object"
        }
       ],
       "rows": [
        {
         "properties.value": 5.120833333333332,
         "_deepnote_index_column": "2018-12-31"
        },
        {
         "properties.value": 4.714583333333334,
         "_deepnote_index_column": "2018-12-30"
        },
        {
         "properties.value": 6.904166666666668,
         "_deepnote_index_column": "2018-12-29"
        },
        {
         "properties.value": 6.308333333333334,
         "_deepnote_index_column": "2018-12-28"
        },
        {
         "properties.value": 7.918749999999998,
         "_deepnote_index_column": "2018-12-27"
        },
        {
         "properties.value": 6.483333333333335,
         "_deepnote_index_column": "2018-12-26"
        },
        {
         "properties.value": 5.591666666666669,
         "_deepnote_index_column": "2018-12-25"
        },
        {
         "properties.value": -0.04791666666666661,
         "_deepnote_index_column": "2018-12-24"
        },
        {
         "properties.value": 0.37500000000000006,
         "_deepnote_index_column": "2018-12-23"
        },
        {
         "properties.value": 1.3187499999999999,
         "_deepnote_index_column": "2018-12-22"
        }
       ]
      },
      "text/plain": "            properties.value\ndate                        \n2018-12-31          5.120833\n2018-12-30          4.714583\n2018-12-29          6.904167\n2018-12-28          6.308333\n2018-12-27          7.918750\n...                      ...\n2009-01-05         -5.068750\n2009-01-04         -2.816667\n2009-01-03          1.170833\n2009-01-02         -3.112766\n2009-01-01         -0.702083\n\n[3652 rows x 1 columns]",
      "text/html": "<div>\n<style scoped>\n    .dataframe tbody tr th:only-of-type {\n        vertical-align: middle;\n    }\n\n    .dataframe tbody tr th {\n        vertical-align: top;\n    }\n\n    .dataframe thead th {\n        text-align: right;\n    }\n</style>\n<table border=\"1\" class=\"dataframe\">\n  <thead>\n    <tr style=\"text-align: right;\">\n      <th></th>\n      <th>properties.value</th>\n    </tr>\n    <tr>\n      <th>date</th>\n      <th></th>\n    </tr>\n  </thead>\n  <tbody>\n    <tr>\n      <th>2018-12-31</th>\n      <td>5.120833</td>\n    </tr>\n    <tr>\n      <th>2018-12-30</th>\n      <td>4.714583</td>\n    </tr>\n    <tr>\n      <th>2018-12-29</th>\n      <td>6.904167</td>\n    </tr>\n    <tr>\n      <th>2018-12-28</th>\n      <td>6.308333</td>\n    </tr>\n    <tr>\n      <th>2018-12-27</th>\n      <td>7.918750</td>\n    </tr>\n    <tr>\n      <th>...</th>\n      <td>...</td>\n    </tr>\n    <tr>\n      <th>2009-01-05</th>\n      <td>-5.068750</td>\n    </tr>\n    <tr>\n      <th>2009-01-04</th>\n      <td>-2.816667</td>\n    </tr>\n    <tr>\n      <th>2009-01-03</th>\n      <td>1.170833</td>\n    </tr>\n    <tr>\n      <th>2009-01-02</th>\n      <td>-3.112766</td>\n    </tr>\n    <tr>\n      <th>2009-01-01</th>\n      <td>-0.702083</td>\n    </tr>\n  </tbody>\n</table>\n<p>3652 rows × 1 columns</p>\n</div>"
     },
     "metadata": {}
    }
   ]
  },
  {
   "cell_type": "code",
   "metadata": {
    "cell_id": "8bf5ad147e1548eeb9331cb916cca42a",
    "tags": [],
    "deepnote_to_be_reexecuted": false,
    "source_hash": "d8b7bcff",
    "execution_start": 1651058997707,
    "execution_millis": 12,
    "owner_user_id": "b4fbed4c-851c-45cd-b5f5-6be110cd7688",
    "deepnote_cell_type": "code",
    "deepnote_cell_height": 118,
    "deepnote_output_heights": [
     21
    ]
   },
   "source": "len(df_weather['properties.observed'].unique())",
   "execution_count": null,
   "outputs": [
    {
     "output_type": "execute_result",
     "execution_count": 81,
     "data": {
      "text/plain": "87634"
     },
     "metadata": {}
    }
   ]
  },
  {
   "cell_type": "code",
   "metadata": {
    "cell_id": "83557729dff5400994c6c815d95cc8ed",
    "tags": [],
    "deepnote_to_be_reexecuted": false,
    "source_hash": "a7cff0a5",
    "execution_start": 1651058982678,
    "execution_millis": 5,
    "deepnote_cell_type": "code",
    "deepnote_cell_height": 188
   },
   "source": "print(len(df_temp))\nprint(len(df_wind))\nprint(len(df_precip))",
   "execution_count": null,
   "outputs": [
    {
     "name": "stdout",
     "text": "87620\n86795\n87290\n",
     "output_type": "stream"
    }
   ]
  },
  {
   "cell_type": "code",
   "metadata": {
    "cell_id": "ba34a74ed16a46cf978c8a96b30fe43f",
    "tags": [],
    "deepnote_to_be_reexecuted": false,
    "source_hash": "7501e09d",
    "execution_start": 1651059501629,
    "execution_millis": 113,
    "deepnote_cell_type": "code",
    "deepnote_cell_height": 117
   },
   "source": "df_precip['datetime'] = pd.to_datetime(df_precip.index)\ndf_precip['date'] = pd.to_datetime(df_precip['datetime']).dt.date\ndf_precip['time'] = pd.to_datetime(df_precip['datetime']).dt.time",
   "execution_count": null,
   "outputs": []
  },
  {
   "cell_type": "code",
   "metadata": {
    "cell_id": "7284ae11d7fd4c8ab2f1066a8cfefb25",
    "tags": [],
    "deepnote_to_be_reexecuted": false,
    "source_hash": "68e1fe22",
    "execution_start": 1651059503471,
    "execution_millis": 71,
    "deepnote_cell_type": "code",
    "deepnote_cell_height": 600
   },
   "source": "df_precip",
   "execution_count": null,
   "outputs": [
    {
     "output_type": "execute_result",
     "execution_count": 102,
     "data": {
      "application/vnd.deepnote.dataframe.v3+json": {
       "column_count": 4,
       "row_count": 87290,
       "columns": [
        {
         "name": "properties.value",
         "dtype": "float64",
         "stats": {
          "unique_count": 211,
          "nan_count": 0,
          "min": "0.0",
          "max": "44.8",
          "histogram": [
           {
            "bin_start": 0,
            "bin_end": 4.4799999999999995,
            "count": 87174
           },
           {
            "bin_start": 4.4799999999999995,
            "bin_end": 8.959999999999999,
            "count": 88
           },
           {
            "bin_start": 8.959999999999999,
            "bin_end": 13.439999999999998,
            "count": 18
           },
           {
            "bin_start": 13.439999999999998,
            "bin_end": 17.919999999999998,
            "count": 4
           },
           {
            "bin_start": 17.919999999999998,
            "bin_end": 22.4,
            "count": 3
           },
           {
            "bin_start": 22.4,
            "bin_end": 26.879999999999995,
            "count": 0
           },
           {
            "bin_start": 26.879999999999995,
            "bin_end": 31.359999999999996,
            "count": 0
           },
           {
            "bin_start": 31.359999999999996,
            "bin_end": 35.839999999999996,
            "count": 1
           },
           {
            "bin_start": 35.839999999999996,
            "bin_end": 40.31999999999999,
            "count": 0
           },
           {
            "bin_start": 40.31999999999999,
            "bin_end": 44.8,
            "count": 2
           }
          ]
         }
        },
        {
         "name": "datetime",
         "dtype": "datetime64[ns]"
        },
        {
         "name": "date",
         "dtype": "object"
        },
        {
         "name": "time",
         "dtype": "object"
        },
        {
         "name": "_deepnote_index_column",
         "dtype": "datetime64[ns]"
        }
       ],
       "rows": [
        {
         "properties.value": 0.15,
         "datetime": "2017-08-30T13:00:00.000000",
         "date": "2017-08-30",
         "time": "13:00:00",
         "_deepnote_index_column": "2017-08-30T13:00:00.000000"
        },
        {
         "properties.value": 0.25,
         "datetime": "2017-08-30T12:00:00.000000",
         "date": "2017-08-30",
         "time": "12:00:00",
         "_deepnote_index_column": "2017-08-30T12:00:00.000000"
        },
        {
         "properties.value": 0.75,
         "datetime": "2017-08-30T11:00:00.000000",
         "date": "2017-08-30",
         "time": "11:00:00",
         "_deepnote_index_column": "2017-08-30T11:00:00.000000"
        },
        {
         "properties.value": 0.1,
         "datetime": "2017-08-30T10:00:00.000000",
         "date": "2017-08-30",
         "time": "10:00:00",
         "_deepnote_index_column": "2017-08-30T10:00:00.000000"
        },
        {
         "properties.value": 0.75,
         "datetime": "2017-08-30T09:00:00.000000",
         "date": "2017-08-30",
         "time": "09:00:00",
         "_deepnote_index_column": "2017-08-30T09:00:00.000000"
        },
        {
         "properties.value": 0,
         "datetime": "2017-08-30T08:00:00.000000",
         "date": "2017-08-30",
         "time": "08:00:00",
         "_deepnote_index_column": "2017-08-30T08:00:00.000000"
        },
        {
         "properties.value": 0,
         "datetime": "2017-08-30T07:00:00.000000",
         "date": "2017-08-30",
         "time": "07:00:00",
         "_deepnote_index_column": "2017-08-30T07:00:00.000000"
        },
        {
         "properties.value": 0,
         "datetime": "2017-08-30T06:00:00.000000",
         "date": "2017-08-30",
         "time": "06:00:00",
         "_deepnote_index_column": "2017-08-30T06:00:00.000000"
        },
        {
         "properties.value": 0.1,
         "datetime": "2017-08-30T05:00:00.000000",
         "date": "2017-08-30",
         "time": "05:00:00",
         "_deepnote_index_column": "2017-08-30T05:00:00.000000"
        },
        {
         "properties.value": 0,
         "datetime": "2017-08-30T04:00:00.000000",
         "date": "2017-08-30",
         "time": "04:00:00",
         "_deepnote_index_column": "2017-08-30T04:00:00.000000"
        }
       ]
      },
      "text/plain": "                     properties.value            datetime        date  \\\nproperties.observed                                                     \n2017-08-30 13:00:00              0.15 2017-08-30 13:00:00  2017-08-30   \n2017-08-30 12:00:00              0.25 2017-08-30 12:00:00  2017-08-30   \n2017-08-30 11:00:00              0.75 2017-08-30 11:00:00  2017-08-30   \n2017-08-30 10:00:00              0.10 2017-08-30 10:00:00  2017-08-30   \n2017-08-30 09:00:00              0.75 2017-08-30 09:00:00  2017-08-30   \n...                               ...                 ...         ...   \n2009-01-01 04:00:00              0.00 2009-01-01 04:00:00  2009-01-01   \n2009-01-01 03:00:00              0.00 2009-01-01 03:00:00  2009-01-01   \n2009-01-01 02:00:00              0.00 2009-01-01 02:00:00  2009-01-01   \n2009-01-01 01:00:00              0.00 2009-01-01 01:00:00  2009-01-01   \n2009-01-01 00:00:00              0.00 2009-01-01 00:00:00  2009-01-01   \n\n                         time  \nproperties.observed            \n2017-08-30 13:00:00  13:00:00  \n2017-08-30 12:00:00  12:00:00  \n2017-08-30 11:00:00  11:00:00  \n2017-08-30 10:00:00  10:00:00  \n2017-08-30 09:00:00  09:00:00  \n...                       ...  \n2009-01-01 04:00:00  04:00:00  \n2009-01-01 03:00:00  03:00:00  \n2009-01-01 02:00:00  02:00:00  \n2009-01-01 01:00:00  01:00:00  \n2009-01-01 00:00:00  00:00:00  \n\n[87290 rows x 4 columns]",
      "text/html": "<div>\n<style scoped>\n    .dataframe tbody tr th:only-of-type {\n        vertical-align: middle;\n    }\n\n    .dataframe tbody tr th {\n        vertical-align: top;\n    }\n\n    .dataframe thead th {\n        text-align: right;\n    }\n</style>\n<table border=\"1\" class=\"dataframe\">\n  <thead>\n    <tr style=\"text-align: right;\">\n      <th></th>\n      <th>properties.value</th>\n      <th>datetime</th>\n      <th>date</th>\n      <th>time</th>\n    </tr>\n    <tr>\n      <th>properties.observed</th>\n      <th></th>\n      <th></th>\n      <th></th>\n      <th></th>\n    </tr>\n  </thead>\n  <tbody>\n    <tr>\n      <th>2017-08-30 13:00:00</th>\n      <td>0.15</td>\n      <td>2017-08-30 13:00:00</td>\n      <td>2017-08-30</td>\n      <td>13:00:00</td>\n    </tr>\n    <tr>\n      <th>2017-08-30 12:00:00</th>\n      <td>0.25</td>\n      <td>2017-08-30 12:00:00</td>\n      <td>2017-08-30</td>\n      <td>12:00:00</td>\n    </tr>\n    <tr>\n      <th>2017-08-30 11:00:00</th>\n      <td>0.75</td>\n      <td>2017-08-30 11:00:00</td>\n      <td>2017-08-30</td>\n      <td>11:00:00</td>\n    </tr>\n    <tr>\n      <th>2017-08-30 10:00:00</th>\n      <td>0.10</td>\n      <td>2017-08-30 10:00:00</td>\n      <td>2017-08-30</td>\n      <td>10:00:00</td>\n    </tr>\n    <tr>\n      <th>2017-08-30 09:00:00</th>\n      <td>0.75</td>\n      <td>2017-08-30 09:00:00</td>\n      <td>2017-08-30</td>\n      <td>09:00:00</td>\n    </tr>\n    <tr>\n      <th>...</th>\n      <td>...</td>\n      <td>...</td>\n      <td>...</td>\n      <td>...</td>\n    </tr>\n    <tr>\n      <th>2009-01-01 04:00:00</th>\n      <td>0.00</td>\n      <td>2009-01-01 04:00:00</td>\n      <td>2009-01-01</td>\n      <td>04:00:00</td>\n    </tr>\n    <tr>\n      <th>2009-01-01 03:00:00</th>\n      <td>0.00</td>\n      <td>2009-01-01 03:00:00</td>\n      <td>2009-01-01</td>\n      <td>03:00:00</td>\n    </tr>\n    <tr>\n      <th>2009-01-01 02:00:00</th>\n      <td>0.00</td>\n      <td>2009-01-01 02:00:00</td>\n      <td>2009-01-01</td>\n      <td>02:00:00</td>\n    </tr>\n    <tr>\n      <th>2009-01-01 01:00:00</th>\n      <td>0.00</td>\n      <td>2009-01-01 01:00:00</td>\n      <td>2009-01-01</td>\n      <td>01:00:00</td>\n    </tr>\n    <tr>\n      <th>2009-01-01 00:00:00</th>\n      <td>0.00</td>\n      <td>2009-01-01 00:00:00</td>\n      <td>2009-01-01</td>\n      <td>00:00:00</td>\n    </tr>\n  </tbody>\n</table>\n<p>87290 rows × 4 columns</p>\n</div>"
     },
     "metadata": {}
    }
   ]
  },
  {
   "cell_type": "code",
   "metadata": {
    "cell_id": "3332ebe385584ea391e0396b53d50a56",
    "tags": [],
    "deepnote_to_be_reexecuted": false,
    "source_hash": "c95c15be",
    "execution_start": 1651058680125,
    "execution_millis": 495,
    "deepnote_cell_type": "code",
    "deepnote_cell_height": 618
   },
   "source": "df_temp = df_weather[df_weather['properties.parameterId'] == 'temp_mean_past1h']\ndf_temp",
   "execution_count": null,
   "outputs": [
    {
     "output_type": "execute_result",
     "execution_count": 74,
     "data": {
      "application/vnd.deepnote.dataframe.v3+json": {
       "column_count": 6,
       "row_count": 173454,
       "columns": [
        {
         "name": "geometry.coordinates",
         "dtype": "object"
        },
        {
         "name": "properties.observed",
         "dtype": "datetime64[ns]"
        },
        {
         "name": "date",
         "dtype": "object"
        },
        {
         "name": "time",
         "dtype": "object"
        },
        {
         "name": "properties.parameterId",
         "dtype": "object"
        },
        {
         "name": "properties.value",
         "dtype": "float64"
        },
        {
         "name": "_deepnote_index_column",
         "dtype": "int64"
        }
       ],
       "rows": [
        {
         "geometry.coordinates": "[12.6455, 55.614]",
         "properties.observed": "2018-12-31T23:00:00.000000",
         "date": "2018-12-31",
         "time": "23:00:00",
         "properties.parameterId": "temp_mean_past1h",
         "properties.value": 7.4,
         "_deepnote_index_column": 0
        },
        {
         "geometry.coordinates": "[12.6455, 55.614]",
         "properties.observed": "2018-12-31T22:00:00.000000",
         "date": "2018-12-31",
         "time": "22:00:00",
         "properties.parameterId": "temp_mean_past1h",
         "properties.value": 7.4,
         "_deepnote_index_column": 1
        },
        {
         "geometry.coordinates": "[12.6455, 55.614]",
         "properties.observed": "2018-12-31T21:00:00.000000",
         "date": "2018-12-31",
         "time": "21:00:00",
         "properties.parameterId": "temp_mean_past1h",
         "properties.value": 7.3,
         "_deepnote_index_column": 2
        },
        {
         "geometry.coordinates": "[12.6455, 55.614]",
         "properties.observed": "2018-12-31T20:00:00.000000",
         "date": "2018-12-31",
         "time": "20:00:00",
         "properties.parameterId": "temp_mean_past1h",
         "properties.value": 7,
         "_deepnote_index_column": 3
        },
        {
         "geometry.coordinates": "[12.6455, 55.614]",
         "properties.observed": "2018-12-31T19:00:00.000000",
         "date": "2018-12-31",
         "time": "19:00:00",
         "properties.parameterId": "temp_mean_past1h",
         "properties.value": 7.3,
         "_deepnote_index_column": 4
        },
        {
         "geometry.coordinates": "[12.6455, 55.614]",
         "properties.observed": "2018-12-31T18:00:00.000000",
         "date": "2018-12-31",
         "time": "18:00:00",
         "properties.parameterId": "temp_mean_past1h",
         "properties.value": 7,
         "_deepnote_index_column": 5
        },
        {
         "geometry.coordinates": "[12.6455, 55.614]",
         "properties.observed": "2018-12-31T17:00:00.000000",
         "date": "2018-12-31",
         "time": "17:00:00",
         "properties.parameterId": "temp_mean_past1h",
         "properties.value": 6.8,
         "_deepnote_index_column": 6
        },
        {
         "geometry.coordinates": "[12.6455, 55.614]",
         "properties.observed": "2018-12-31T16:00:00.000000",
         "date": "2018-12-31",
         "time": "16:00:00",
         "properties.parameterId": "temp_mean_past1h",
         "properties.value": 6.7,
         "_deepnote_index_column": 7
        },
        {
         "geometry.coordinates": "[12.6455, 55.614]",
         "properties.observed": "2018-12-31T15:00:00.000000",
         "date": "2018-12-31",
         "time": "15:00:00",
         "properties.parameterId": "temp_mean_past1h",
         "properties.value": 6.1,
         "_deepnote_index_column": 8
        },
        {
         "geometry.coordinates": "[12.6455, 55.614]",
         "properties.observed": "2018-12-31T14:00:00.000000",
         "date": "2018-12-31",
         "time": "14:00:00",
         "properties.parameterId": "temp_mean_past1h",
         "properties.value": 5.8,
         "_deepnote_index_column": 9
        }
       ]
      },
      "text/plain": "       geometry.coordinates properties.observed        date      time  \\\n0         [12.6455, 55.614] 2018-12-31 23:00:00  2018-12-31  23:00:00   \n1         [12.6455, 55.614] 2018-12-31 22:00:00  2018-12-31  22:00:00   \n2         [12.6455, 55.614] 2018-12-31 21:00:00  2018-12-31  21:00:00   \n3         [12.6455, 55.614] 2018-12-31 20:00:00  2018-12-31  20:00:00   \n4         [12.6455, 55.614] 2018-12-31 19:00:00  2018-12-31  19:00:00   \n...                     ...                 ...         ...       ...   \n173449   [12.5439, 55.6861] 2009-01-01 04:00:00  2009-01-01  04:00:00   \n173450   [12.5439, 55.6861] 2009-01-01 03:00:00  2009-01-01  03:00:00   \n173451   [12.5439, 55.6861] 2009-01-01 02:00:00  2009-01-01  02:00:00   \n173452   [12.5439, 55.6861] 2009-01-01 01:00:00  2009-01-01  01:00:00   \n173453   [12.5439, 55.6861] 2009-01-01 00:00:00  2009-01-01  00:00:00   \n\n       properties.parameterId  properties.value  \n0            temp_mean_past1h               7.4  \n1            temp_mean_past1h               7.4  \n2            temp_mean_past1h               7.3  \n3            temp_mean_past1h               7.0  \n4            temp_mean_past1h               7.3  \n...                       ...               ...  \n173449       temp_mean_past1h              -0.5  \n173450       temp_mean_past1h               0.0  \n173451       temp_mean_past1h               0.0  \n173452       temp_mean_past1h              -0.3  \n173453       temp_mean_past1h              -0.5  \n\n[173454 rows x 6 columns]",
      "text/html": "<div>\n<style scoped>\n    .dataframe tbody tr th:only-of-type {\n        vertical-align: middle;\n    }\n\n    .dataframe tbody tr th {\n        vertical-align: top;\n    }\n\n    .dataframe thead th {\n        text-align: right;\n    }\n</style>\n<table border=\"1\" class=\"dataframe\">\n  <thead>\n    <tr style=\"text-align: right;\">\n      <th></th>\n      <th>geometry.coordinates</th>\n      <th>properties.observed</th>\n      <th>date</th>\n      <th>time</th>\n      <th>properties.parameterId</th>\n      <th>properties.value</th>\n    </tr>\n  </thead>\n  <tbody>\n    <tr>\n      <th>0</th>\n      <td>[12.6455, 55.614]</td>\n      <td>2018-12-31 23:00:00</td>\n      <td>2018-12-31</td>\n      <td>23:00:00</td>\n      <td>temp_mean_past1h</td>\n      <td>7.4</td>\n    </tr>\n    <tr>\n      <th>1</th>\n      <td>[12.6455, 55.614]</td>\n      <td>2018-12-31 22:00:00</td>\n      <td>2018-12-31</td>\n      <td>22:00:00</td>\n      <td>temp_mean_past1h</td>\n      <td>7.4</td>\n    </tr>\n    <tr>\n      <th>2</th>\n      <td>[12.6455, 55.614]</td>\n      <td>2018-12-31 21:00:00</td>\n      <td>2018-12-31</td>\n      <td>21:00:00</td>\n      <td>temp_mean_past1h</td>\n      <td>7.3</td>\n    </tr>\n    <tr>\n      <th>3</th>\n      <td>[12.6455, 55.614]</td>\n      <td>2018-12-31 20:00:00</td>\n      <td>2018-12-31</td>\n      <td>20:00:00</td>\n      <td>temp_mean_past1h</td>\n      <td>7.0</td>\n    </tr>\n    <tr>\n      <th>4</th>\n      <td>[12.6455, 55.614]</td>\n      <td>2018-12-31 19:00:00</td>\n      <td>2018-12-31</td>\n      <td>19:00:00</td>\n      <td>temp_mean_past1h</td>\n      <td>7.3</td>\n    </tr>\n    <tr>\n      <th>...</th>\n      <td>...</td>\n      <td>...</td>\n      <td>...</td>\n      <td>...</td>\n      <td>...</td>\n      <td>...</td>\n    </tr>\n    <tr>\n      <th>173449</th>\n      <td>[12.5439, 55.6861]</td>\n      <td>2009-01-01 04:00:00</td>\n      <td>2009-01-01</td>\n      <td>04:00:00</td>\n      <td>temp_mean_past1h</td>\n      <td>-0.5</td>\n    </tr>\n    <tr>\n      <th>173450</th>\n      <td>[12.5439, 55.6861]</td>\n      <td>2009-01-01 03:00:00</td>\n      <td>2009-01-01</td>\n      <td>03:00:00</td>\n      <td>temp_mean_past1h</td>\n      <td>0.0</td>\n    </tr>\n    <tr>\n      <th>173451</th>\n      <td>[12.5439, 55.6861]</td>\n      <td>2009-01-01 02:00:00</td>\n      <td>2009-01-01</td>\n      <td>02:00:00</td>\n      <td>temp_mean_past1h</td>\n      <td>0.0</td>\n    </tr>\n    <tr>\n      <th>173452</th>\n      <td>[12.5439, 55.6861]</td>\n      <td>2009-01-01 01:00:00</td>\n      <td>2009-01-01</td>\n      <td>01:00:00</td>\n      <td>temp_mean_past1h</td>\n      <td>-0.3</td>\n    </tr>\n    <tr>\n      <th>173453</th>\n      <td>[12.5439, 55.6861]</td>\n      <td>2009-01-01 00:00:00</td>\n      <td>2009-01-01</td>\n      <td>00:00:00</td>\n      <td>temp_mean_past1h</td>\n      <td>-0.5</td>\n    </tr>\n  </tbody>\n</table>\n<p>173454 rows × 6 columns</p>\n</div>"
     },
     "metadata": {}
    }
   ]
  },
  {
   "cell_type": "code",
   "metadata": {
    "cell_id": "48095f255d914183a2b3fe6386998095",
    "tags": [],
    "deepnote_to_be_reexecuted": false,
    "source_hash": "7e17a32b",
    "execution_start": 1651056864895,
    "execution_millis": 484,
    "deepnote_cell_type": "code",
    "deepnote_cell_height": 618
   },
   "source": "df_wind = df_weather[df_weather['properties.parameterId'] == 'wind_speed_past1h']\ndf_wind",
   "execution_count": null,
   "outputs": [
    {
     "output_type": "execute_result",
     "execution_count": 39,
     "data": {
      "application/vnd.deepnote.dataframe.v3+json": {
       "column_count": 4,
       "row_count": 86795,
       "columns": [
        {
         "name": "geometry.coordinates",
         "dtype": "object",
         "stats": {
          "unique_count": 86795,
          "nan_count": 0,
          "categories": [
           {
            "name": "[12.6455, 55.614]",
            "count": 86795
           }
          ]
         }
        },
        {
         "name": "properties.observed",
         "dtype": "datetime64[ns]"
        },
        {
         "name": "properties.parameterId",
         "dtype": "object"
        },
        {
         "name": "properties.value",
         "dtype": "float64"
        },
        {
         "name": "_deepnote_index_column",
         "dtype": "int64"
        }
       ],
       "rows": [
        {
         "geometry.coordinates": "[12.6455, 55.614]",
         "properties.observed": "2018-12-31T23:00:00.000000",
         "properties.parameterId": "wind_speed_past1h",
         "properties.value": 7.7,
         "_deepnote_index_column": 0
        },
        {
         "geometry.coordinates": "[12.6455, 55.614]",
         "properties.observed": "2018-12-31T22:00:00.000000",
         "properties.parameterId": "wind_speed_past1h",
         "properties.value": 7.2,
         "_deepnote_index_column": 1
        },
        {
         "geometry.coordinates": "[12.6455, 55.614]",
         "properties.observed": "2018-12-31T21:00:00.000000",
         "properties.parameterId": "wind_speed_past1h",
         "properties.value": 6.7,
         "_deepnote_index_column": 2
        },
        {
         "geometry.coordinates": "[12.6455, 55.614]",
         "properties.observed": "2018-12-31T20:00:00.000000",
         "properties.parameterId": "wind_speed_past1h",
         "properties.value": 6.7,
         "_deepnote_index_column": 3
        },
        {
         "geometry.coordinates": "[12.6455, 55.614]",
         "properties.observed": "2018-12-31T19:00:00.000000",
         "properties.parameterId": "wind_speed_past1h",
         "properties.value": 5.7,
         "_deepnote_index_column": 4
        },
        {
         "geometry.coordinates": "[12.6455, 55.614]",
         "properties.observed": "2018-12-31T18:00:00.000000",
         "properties.parameterId": "wind_speed_past1h",
         "properties.value": 4.6,
         "_deepnote_index_column": 5
        },
        {
         "geometry.coordinates": "[12.6455, 55.614]",
         "properties.observed": "2018-12-31T17:00:00.000000",
         "properties.parameterId": "wind_speed_past1h",
         "properties.value": 5.7,
         "_deepnote_index_column": 6
        },
        {
         "geometry.coordinates": "[12.6455, 55.614]",
         "properties.observed": "2018-12-31T16:00:00.000000",
         "properties.parameterId": "wind_speed_past1h",
         "properties.value": 5.1,
         "_deepnote_index_column": 7
        },
        {
         "geometry.coordinates": "[12.6455, 55.614]",
         "properties.observed": "2018-12-31T15:00:00.000000",
         "properties.parameterId": "wind_speed_past1h",
         "properties.value": 5.1,
         "_deepnote_index_column": 8
        },
        {
         "geometry.coordinates": "[12.6455, 55.614]",
         "properties.observed": "2018-12-31T14:00:00.000000",
         "properties.parameterId": "wind_speed_past1h",
         "properties.value": 4.1,
         "_deepnote_index_column": 9
        }
       ]
      },
      "text/plain": "      geometry.coordinates properties.observed properties.parameterId  \\\n0        [12.6455, 55.614] 2018-12-31 23:00:00      wind_speed_past1h   \n1        [12.6455, 55.614] 2018-12-31 22:00:00      wind_speed_past1h   \n2        [12.6455, 55.614] 2018-12-31 21:00:00      wind_speed_past1h   \n3        [12.6455, 55.614] 2018-12-31 20:00:00      wind_speed_past1h   \n4        [12.6455, 55.614] 2018-12-31 19:00:00      wind_speed_past1h   \n...                    ...                 ...                    ...   \n86790    [12.6455, 55.614] 2009-01-01 04:00:00      wind_speed_past1h   \n86791    [12.6455, 55.614] 2009-01-01 03:00:00      wind_speed_past1h   \n86792    [12.6455, 55.614] 2009-01-01 02:00:00      wind_speed_past1h   \n86793    [12.6455, 55.614] 2009-01-01 01:00:00      wind_speed_past1h   \n86794    [12.6455, 55.614] 2009-01-01 00:00:00      wind_speed_past1h   \n\n       properties.value  \n0                   7.7  \n1                   7.2  \n2                   6.7  \n3                   6.7  \n4                   5.7  \n...                 ...  \n86790               2.6  \n86791               3.1  \n86792               3.1  \n86793               3.1  \n86794               4.1  \n\n[86795 rows x 4 columns]",
      "text/html": "<div>\n<style scoped>\n    .dataframe tbody tr th:only-of-type {\n        vertical-align: middle;\n    }\n\n    .dataframe tbody tr th {\n        vertical-align: top;\n    }\n\n    .dataframe thead th {\n        text-align: right;\n    }\n</style>\n<table border=\"1\" class=\"dataframe\">\n  <thead>\n    <tr style=\"text-align: right;\">\n      <th></th>\n      <th>geometry.coordinates</th>\n      <th>properties.observed</th>\n      <th>properties.parameterId</th>\n      <th>properties.value</th>\n    </tr>\n  </thead>\n  <tbody>\n    <tr>\n      <th>0</th>\n      <td>[12.6455, 55.614]</td>\n      <td>2018-12-31 23:00:00</td>\n      <td>wind_speed_past1h</td>\n      <td>7.7</td>\n    </tr>\n    <tr>\n      <th>1</th>\n      <td>[12.6455, 55.614]</td>\n      <td>2018-12-31 22:00:00</td>\n      <td>wind_speed_past1h</td>\n      <td>7.2</td>\n    </tr>\n    <tr>\n      <th>2</th>\n      <td>[12.6455, 55.614]</td>\n      <td>2018-12-31 21:00:00</td>\n      <td>wind_speed_past1h</td>\n      <td>6.7</td>\n    </tr>\n    <tr>\n      <th>3</th>\n      <td>[12.6455, 55.614]</td>\n      <td>2018-12-31 20:00:00</td>\n      <td>wind_speed_past1h</td>\n      <td>6.7</td>\n    </tr>\n    <tr>\n      <th>4</th>\n      <td>[12.6455, 55.614]</td>\n      <td>2018-12-31 19:00:00</td>\n      <td>wind_speed_past1h</td>\n      <td>5.7</td>\n    </tr>\n    <tr>\n      <th>...</th>\n      <td>...</td>\n      <td>...</td>\n      <td>...</td>\n      <td>...</td>\n    </tr>\n    <tr>\n      <th>86790</th>\n      <td>[12.6455, 55.614]</td>\n      <td>2009-01-01 04:00:00</td>\n      <td>wind_speed_past1h</td>\n      <td>2.6</td>\n    </tr>\n    <tr>\n      <th>86791</th>\n      <td>[12.6455, 55.614]</td>\n      <td>2009-01-01 03:00:00</td>\n      <td>wind_speed_past1h</td>\n      <td>3.1</td>\n    </tr>\n    <tr>\n      <th>86792</th>\n      <td>[12.6455, 55.614]</td>\n      <td>2009-01-01 02:00:00</td>\n      <td>wind_speed_past1h</td>\n      <td>3.1</td>\n    </tr>\n    <tr>\n      <th>86793</th>\n      <td>[12.6455, 55.614]</td>\n      <td>2009-01-01 01:00:00</td>\n      <td>wind_speed_past1h</td>\n      <td>3.1</td>\n    </tr>\n    <tr>\n      <th>86794</th>\n      <td>[12.6455, 55.614]</td>\n      <td>2009-01-01 00:00:00</td>\n      <td>wind_speed_past1h</td>\n      <td>4.1</td>\n    </tr>\n  </tbody>\n</table>\n<p>86795 rows × 4 columns</p>\n</div>"
     },
     "metadata": {}
    }
   ]
  },
  {
   "cell_type": "code",
   "metadata": {
    "cell_id": "7a64607d6d13495a953eef6598e63b8e",
    "tags": [],
    "deepnote_to_be_reexecuted": false,
    "source_hash": "b86e7545",
    "execution_start": 1651057038803,
    "execution_millis": 94,
    "deepnote_table_state": {
     "pageSize": 10,
     "pageIndex": 4,
     "filters": [],
     "sortBy": []
    },
    "deepnote_table_loading": false,
    "deepnote_cell_type": "code",
    "deepnote_cell_height": 618
   },
   "source": "df_precip = df_weather[df_weather['properties.parameterId'] == 'precip_past1h']\ndf_precip",
   "execution_count": null,
   "outputs": [
    {
     "output_type": "execute_result",
     "execution_count": 41,
     "data": {
      "application/vnd.deepnote.dataframe.v3+json": {
       "column_count": 4,
       "row_count": 150619,
       "columns": [
        {
         "name": "geometry.coordinates",
         "dtype": "object"
        },
        {
         "name": "properties.observed",
         "dtype": "datetime64[ns]"
        },
        {
         "name": "properties.parameterId",
         "dtype": "object"
        },
        {
         "name": "properties.value",
         "dtype": "float64"
        },
        {
         "name": "_deepnote_index_column",
         "dtype": "int64"
        }
       ],
       "rows": [
        {
         "geometry.coordinates": "[12.5739, 55.6877]",
         "properties.observed": "2017-08-28T21:00:00.000000",
         "properties.parameterId": "precip_past1h",
         "properties.value": 0,
         "_deepnote_index_column": 40
        },
        {
         "geometry.coordinates": "[12.5739, 55.6877]",
         "properties.observed": "2017-08-28T20:00:00.000000",
         "properties.parameterId": "precip_past1h",
         "properties.value": 0,
         "_deepnote_index_column": 41
        },
        {
         "geometry.coordinates": "[12.5739, 55.6877]",
         "properties.observed": "2017-08-28T19:00:00.000000",
         "properties.parameterId": "precip_past1h",
         "properties.value": 0,
         "_deepnote_index_column": 42
        },
        {
         "geometry.coordinates": "[12.5739, 55.6877]",
         "properties.observed": "2017-08-28T18:00:00.000000",
         "properties.parameterId": "precip_past1h",
         "properties.value": 0,
         "_deepnote_index_column": 43
        },
        {
         "geometry.coordinates": "[12.5739, 55.6877]",
         "properties.observed": "2017-08-28T17:00:00.000000",
         "properties.parameterId": "precip_past1h",
         "properties.value": 0,
         "_deepnote_index_column": 44
        },
        {
         "geometry.coordinates": "[12.5739, 55.6877]",
         "properties.observed": "2017-08-28T16:00:00.000000",
         "properties.parameterId": "precip_past1h",
         "properties.value": 0,
         "_deepnote_index_column": 45
        },
        {
         "geometry.coordinates": "[12.5739, 55.6877]",
         "properties.observed": "2017-08-28T15:00:00.000000",
         "properties.parameterId": "precip_past1h",
         "properties.value": 0,
         "_deepnote_index_column": 46
        },
        {
         "geometry.coordinates": "[12.5739, 55.6877]",
         "properties.observed": "2017-08-28T14:00:00.000000",
         "properties.parameterId": "precip_past1h",
         "properties.value": 0,
         "_deepnote_index_column": 47
        },
        {
         "geometry.coordinates": "[12.5739, 55.6877]",
         "properties.observed": "2017-08-28T13:00:00.000000",
         "properties.parameterId": "precip_past1h",
         "properties.value": 0,
         "_deepnote_index_column": 48
        },
        {
         "geometry.coordinates": "[12.5739, 55.6877]",
         "properties.observed": "2017-08-28T12:00:00.000000",
         "properties.parameterId": "precip_past1h",
         "properties.value": 0,
         "_deepnote_index_column": 49
        }
       ]
      },
      "text/plain": "       geometry.coordinates properties.observed properties.parameterId  \\\n0        [12.5739, 55.6877] 2017-08-30 13:00:00          precip_past1h   \n1        [12.5739, 55.6877] 2017-08-30 12:00:00          precip_past1h   \n2        [12.5739, 55.6877] 2017-08-30 11:00:00          precip_past1h   \n3        [12.5739, 55.6877] 2017-08-30 10:00:00          precip_past1h   \n4        [12.5739, 55.6877] 2017-08-30 09:00:00          precip_past1h   \n...                     ...                 ...                    ...   \n150614    [12.6455, 55.614] 2009-01-01 04:00:00          precip_past1h   \n150615    [12.6455, 55.614] 2009-01-01 03:00:00          precip_past1h   \n150616    [12.6455, 55.614] 2009-01-01 02:00:00          precip_past1h   \n150617    [12.6455, 55.614] 2009-01-01 01:00:00          precip_past1h   \n150618    [12.6455, 55.614] 2009-01-01 00:00:00          precip_past1h   \n\n        properties.value  \n0                    0.3  \n1                    0.4  \n2                    0.9  \n3                    0.2  \n4                    0.8  \n...                  ...  \n150614               0.0  \n150615               0.0  \n150616               0.0  \n150617               0.0  \n150618               0.0  \n\n[150619 rows x 4 columns]",
      "text/html": "<div>\n<style scoped>\n    .dataframe tbody tr th:only-of-type {\n        vertical-align: middle;\n    }\n\n    .dataframe tbody tr th {\n        vertical-align: top;\n    }\n\n    .dataframe thead th {\n        text-align: right;\n    }\n</style>\n<table border=\"1\" class=\"dataframe\">\n  <thead>\n    <tr style=\"text-align: right;\">\n      <th></th>\n      <th>geometry.coordinates</th>\n      <th>properties.observed</th>\n      <th>properties.parameterId</th>\n      <th>properties.value</th>\n    </tr>\n  </thead>\n  <tbody>\n    <tr>\n      <th>0</th>\n      <td>[12.5739, 55.6877]</td>\n      <td>2017-08-30 13:00:00</td>\n      <td>precip_past1h</td>\n      <td>0.3</td>\n    </tr>\n    <tr>\n      <th>1</th>\n      <td>[12.5739, 55.6877]</td>\n      <td>2017-08-30 12:00:00</td>\n      <td>precip_past1h</td>\n      <td>0.4</td>\n    </tr>\n    <tr>\n      <th>2</th>\n      <td>[12.5739, 55.6877]</td>\n      <td>2017-08-30 11:00:00</td>\n      <td>precip_past1h</td>\n      <td>0.9</td>\n    </tr>\n    <tr>\n      <th>3</th>\n      <td>[12.5739, 55.6877]</td>\n      <td>2017-08-30 10:00:00</td>\n      <td>precip_past1h</td>\n      <td>0.2</td>\n    </tr>\n    <tr>\n      <th>4</th>\n      <td>[12.5739, 55.6877]</td>\n      <td>2017-08-30 09:00:00</td>\n      <td>precip_past1h</td>\n      <td>0.8</td>\n    </tr>\n    <tr>\n      <th>...</th>\n      <td>...</td>\n      <td>...</td>\n      <td>...</td>\n      <td>...</td>\n    </tr>\n    <tr>\n      <th>150614</th>\n      <td>[12.6455, 55.614]</td>\n      <td>2009-01-01 04:00:00</td>\n      <td>precip_past1h</td>\n      <td>0.0</td>\n    </tr>\n    <tr>\n      <th>150615</th>\n      <td>[12.6455, 55.614]</td>\n      <td>2009-01-01 03:00:00</td>\n      <td>precip_past1h</td>\n      <td>0.0</td>\n    </tr>\n    <tr>\n      <th>150616</th>\n      <td>[12.6455, 55.614]</td>\n      <td>2009-01-01 02:00:00</td>\n      <td>precip_past1h</td>\n      <td>0.0</td>\n    </tr>\n    <tr>\n      <th>150617</th>\n      <td>[12.6455, 55.614]</td>\n      <td>2009-01-01 01:00:00</td>\n      <td>precip_past1h</td>\n      <td>0.0</td>\n    </tr>\n    <tr>\n      <th>150618</th>\n      <td>[12.6455, 55.614]</td>\n      <td>2009-01-01 00:00:00</td>\n      <td>precip_past1h</td>\n      <td>0.0</td>\n    </tr>\n  </tbody>\n</table>\n<p>150619 rows × 4 columns</p>\n</div>"
     },
     "metadata": {}
    }
   ]
  },
  {
   "cell_type": "code",
   "metadata": {
    "cell_id": "b38af50c694a45c4a5c34a7aff2c7107",
    "tags": [],
    "deepnote_to_be_reexecuted": false,
    "source_hash": "f3fea2c5",
    "execution_start": 1651057234497,
    "execution_millis": 445,
    "deepnote_cell_type": "code",
    "deepnote_cell_height": 137,
    "deepnote_output_heights": [
     40
    ]
   },
   "source": "df_precip['geometry.coordinates'].astype(str).unique()",
   "execution_count": null,
   "outputs": [
    {
     "output_type": "execute_result",
     "execution_count": 60,
     "data": {
      "text/plain": "array(['[12.5739, 55.6877]', '[12.5742, 55.6878]', '[12.6455, 55.614]'],\n      dtype=object)"
     },
     "metadata": {}
    }
   ]
  },
  {
   "cell_type": "code",
   "metadata": {
    "cell_id": "f7fa072aa0aa47ce9683ac6e0c49a1cd",
    "tags": [],
    "deepnote_to_be_reexecuted": false,
    "source_hash": "e360613",
    "execution_start": 1651058921600,
    "execution_millis": 312,
    "deepnote_cell_type": "code",
    "deepnote_cell_height": 117
   },
   "source": "df_temp = df_weather[df_weather['properties.parameterId'] == 'temp_mean_past1h'].groupby(pd.Grouper(key='properties.observed')).agg({ 'properties.value': 'mean'})\ndf_wind = df_weather[df_weather['properties.parameterId'] == 'wind_speed_past1h'].groupby(pd.Grouper(key='properties.observed')).agg({ 'properties.value': 'mean'})\ndf_precip = df_weather[df_weather['properties.parameterId'] == 'precip_past1h'].groupby(pd.Grouper(key='properties.observed')).agg({ 'properties.value': 'mean'})",
   "execution_count": null,
   "outputs": []
  },
  {
   "cell_type": "code",
   "metadata": {
    "cell_id": "5c973a91b37d41e5a20268747b677ef0",
    "tags": [],
    "deepnote_to_be_reexecuted": false,
    "source_hash": "fccbd4e7",
    "execution_start": 1651058764720,
    "execution_millis": 9,
    "deepnote_cell_type": "code",
    "deepnote_cell_height": 118,
    "deepnote_output_heights": [
     21
    ]
   },
   "source": "pd.Grouper(key='properties.observed')",
   "execution_count": null,
   "outputs": [
    {
     "output_type": "execute_result",
     "execution_count": 76,
     "data": {
      "text/plain": "Grouper(key='properties.observed', axis=0, sort=False)"
     },
     "metadata": {}
    }
   ]
  },
  {
   "cell_type": "code",
   "metadata": {
    "cell_id": "8143fe66b9d341909b4773e22a47a6b7",
    "tags": [],
    "deepnote_to_be_reexecuted": false,
    "source_hash": "23a654bc",
    "execution_start": 1651044157932,
    "execution_millis": 198,
    "deepnote_cell_type": "code",
    "deepnote_cell_height": 600
   },
   "source": "df_weather[df_weather['properties.parameterId'] == 'weather']",
   "execution_count": null,
   "outputs": [
    {
     "output_type": "execute_result",
     "execution_count": 20,
     "data": {
      "application/vnd.deepnote.dataframe.v3+json": {
       "column_count": 9,
       "row_count": 16306,
       "columns": [
        {
         "name": "id",
         "dtype": "object",
         "stats": {
          "unique_count": 16306,
          "nan_count": 0,
          "categories": [
           {
            "name": "e6b49309-6dd0-722e-4d43-8a1b0701cd22",
            "count": 1
           },
           {
            "name": "951da309-2c8e-1452-55cf-3dc12e132d99",
            "count": 1
           },
           {
            "name": "16304 others",
            "count": 16304
           }
          ]
         }
        },
        {
         "name": "type",
         "dtype": "object",
         "stats": {
          "unique_count": 1,
          "nan_count": 0,
          "categories": [
           {
            "name": "Feature",
            "count": 16306
           }
          ]
         }
        },
        {
         "name": "geometry.coordinates",
         "dtype": "object",
         "stats": {
          "unique_count": 16306,
          "nan_count": 0,
          "categories": [
           {
            "name": "[12.6455, 55.614]",
            "count": 16306
           }
          ]
         }
        },
        {
         "name": "geometry.type",
         "dtype": "object",
         "stats": {
          "unique_count": 1,
          "nan_count": 0,
          "categories": [
           {
            "name": "Point",
            "count": 16306
           }
          ]
         }
        },
        {
         "name": "properties.created",
         "dtype": "object",
         "stats": {
          "unique_count": 16306,
          "nan_count": 0,
          "categories": [
           {
            "name": "2022-02-23T10:28:14.042845Z",
            "count": 1
           },
           {
            "name": "2022-02-23T10:28:13.913948Z",
            "count": 1
           },
           {
            "name": "16304 others",
            "count": 16304
           }
          ]
         }
        },
        {
         "name": "properties.observed",
         "dtype": "datetime64[ns]",
         "stats": {
          "unique_count": 16306,
          "nan_count": 0,
          "min": "2005-01-01 00:00:00",
          "max": "2014-12-31 12:00:00",
          "histogram": [
           {
            "bin_start": 1104537600000000000,
            "bin_end": 1136086560000000000,
            "count": 2909
           },
           {
            "bin_start": 1136086560000000000,
            "bin_end": 1167635520000000000,
            "count": 2896
           },
           {
            "bin_start": 1167635520000000000,
            "bin_end": 1199184480000000000,
            "count": 2900
           },
           {
            "bin_start": 1199184480000000000,
            "bin_end": 1230733440000000000,
            "count": 1089
           },
           {
            "bin_start": 1230733440000000000,
            "bin_end": 1262282400000000000,
            "count": 995
           },
           {
            "bin_start": 1262282400000000000,
            "bin_end": 1293831360000000000,
            "count": 1157
           },
           {
            "bin_start": 1293831360000000000,
            "bin_end": 1325380320000000000,
            "count": 1224
           },
           {
            "bin_start": 1325380320000000000,
            "bin_end": 1356929280000000000,
            "count": 974
           },
           {
            "bin_start": 1356929280000000000,
            "bin_end": 1388478240000000000,
            "count": 1020
           },
           {
            "bin_start": 1388478240000000000,
            "bin_end": 1420027200000000000,
            "count": 1142
           }
          ]
         }
        },
        {
         "name": "properties.parameterId",
         "dtype": "object"
        },
        {
         "name": "properties.stationId",
         "dtype": "object"
        },
        {
         "name": "properties.value",
         "dtype": "float64"
        },
        {
         "name": "_deepnote_index_column",
         "dtype": "int64"
        }
       ],
       "rows": [
        {
         "id": "e6b49309-6dd0-722e-4d43-8a1b0701cd22",
         "type": "Feature",
         "geometry.coordinates": "[12.6455, 55.614]",
         "geometry.type": "Point",
         "properties.created": "2022-02-23T10:28:14.042845Z",
         "properties.observed": "2014-12-31T12:00:00.000000",
         "properties.parameterId": "weather",
         "properties.stationId": "06180",
         "properties.value": 50,
         "_deepnote_index_column": 0
        },
        {
         "id": "951da309-2c8e-1452-55cf-3dc12e132d99",
         "type": "Feature",
         "geometry.coordinates": "[12.6455, 55.614]",
         "geometry.type": "Point",
         "properties.created": "2022-02-23T10:28:13.913948Z",
         "properties.observed": "2014-12-31T09:00:00.000000",
         "properties.parameterId": "weather",
         "properties.stationId": "06180",
         "properties.value": 20,
         "_deepnote_index_column": 1
        },
        {
         "id": "4e16c0a7-8a5b-3036-7095-2723ac06fefb",
         "type": "Feature",
         "geometry.coordinates": "[12.6455, 55.614]",
         "geometry.type": "Point",
         "properties.created": "2022-02-23T10:28:13.827101Z",
         "properties.observed": "2014-12-31T06:00:00.000000",
         "properties.parameterId": "weather",
         "properties.stationId": "06180",
         "properties.value": 51,
         "_deepnote_index_column": 2
        },
        {
         "id": "432d075c-b9be-465a-dfbe-0439e855272e",
         "type": "Feature",
         "geometry.coordinates": "[12.6455, 55.614]",
         "geometry.type": "Point",
         "properties.created": "2022-02-23T10:28:13.661462Z",
         "properties.observed": "2014-12-31T03:00:00.000000",
         "properties.parameterId": "weather",
         "properties.stationId": "06180",
         "properties.value": 51,
         "_deepnote_index_column": 3
        },
        {
         "id": "58d6bb1f-92c2-2df5-36fd-26cdfcbedaa8",
         "type": "Feature",
         "geometry.coordinates": "[12.6455, 55.614]",
         "geometry.type": "Point",
         "properties.created": "2022-02-23T10:28:13.120957Z",
         "properties.observed": "2014-12-30T12:00:00.000000",
         "properties.parameterId": "weather",
         "properties.stationId": "06180",
         "properties.value": 10,
         "_deepnote_index_column": 4
        },
        {
         "id": "9780bc41-9827-4f7f-78b8-dd8fbc1ed83a",
         "type": "Feature",
         "geometry.coordinates": "[12.6455, 55.614]",
         "geometry.type": "Point",
         "properties.created": "2022-02-23T10:28:12.911967Z",
         "properties.observed": "2014-12-30T06:00:00.000000",
         "properties.parameterId": "weather",
         "properties.stationId": "06180",
         "properties.value": 10,
         "_deepnote_index_column": 5
        },
        {
         "id": "5d3aa124-304e-30bd-0e84-9faba49f8419",
         "type": "Feature",
         "geometry.coordinates": "[12.6455, 55.614]",
         "geometry.type": "Point",
         "properties.created": "2022-02-23T10:28:12.790982Z",
         "properties.observed": "2014-12-30T03:00:00.000000",
         "properties.parameterId": "weather",
         "properties.stationId": "06180",
         "properties.value": 22,
         "_deepnote_index_column": 6
        },
        {
         "id": "0ae1a3fd-bf6b-e324-f1f2-88fc39329c4f",
         "type": "Feature",
         "geometry.coordinates": "[12.6455, 55.614]",
         "geometry.type": "Point",
         "properties.created": "2022-02-23T10:28:12.658069Z",
         "properties.observed": "2014-12-30T00:00:00.000000",
         "properties.parameterId": "weather",
         "properties.stationId": "06180",
         "properties.value": 70,
         "_deepnote_index_column": 7
        },
        {
         "id": "385d8d19-2fc9-aa4a-a57d-bbc87dd801d8",
         "type": "Feature",
         "geometry.coordinates": "[12.6455, 55.614]",
         "geometry.type": "Point",
         "properties.created": "2022-02-23T10:28:12.579078Z",
         "properties.observed": "2014-12-29T21:00:00.000000",
         "properties.parameterId": "weather",
         "properties.stationId": "06180",
         "properties.value": 22,
         "_deepnote_index_column": 8
        },
        {
         "id": "06f4ad1b-b34a-e8e9-38b5-3fb98f05096a",
         "type": "Feature",
         "geometry.coordinates": "[12.6455, 55.614]",
         "geometry.type": "Point",
         "properties.created": "2022-02-23T10:28:12.419709Z",
         "properties.observed": "2014-12-29T18:00:00.000000",
         "properties.parameterId": "weather",
         "properties.stationId": "06180",
         "properties.value": 71,
         "_deepnote_index_column": 9
        }
       ]
      },
      "text/plain": "                                         id     type geometry.coordinates  \\\n0      e6b49309-6dd0-722e-4d43-8a1b0701cd22  Feature    [12.6455, 55.614]   \n1      951da309-2c8e-1452-55cf-3dc12e132d99  Feature    [12.6455, 55.614]   \n2      4e16c0a7-8a5b-3036-7095-2723ac06fefb  Feature    [12.6455, 55.614]   \n3      432d075c-b9be-465a-dfbe-0439e855272e  Feature    [12.6455, 55.614]   \n4      58d6bb1f-92c2-2df5-36fd-26cdfcbedaa8  Feature    [12.6455, 55.614]   \n...                                     ...      ...                  ...   \n16301  37696507-a1ca-2796-c695-4b42f936a51c  Feature    [12.6455, 55.614]   \n16302  c0f91da4-99ef-7eea-4853-26f9c0f99766  Feature    [12.6455, 55.614]   \n16303  c71b653c-84d9-dfc0-34b1-005c4a5c3b9c  Feature    [12.6455, 55.614]   \n16304  166379dd-2aa4-8914-20d2-9aafdea39d36  Feature    [12.6455, 55.614]   \n16305  3ee32575-bfa3-76d8-322a-4a213d70f666  Feature    [12.6455, 55.614]   \n\n      geometry.type           properties.created properties.observed  \\\n0             Point  2022-02-23T10:28:14.042845Z 2014-12-31 12:00:00   \n1             Point  2022-02-23T10:28:13.913948Z 2014-12-31 09:00:00   \n2             Point  2022-02-23T10:28:13.827101Z 2014-12-31 06:00:00   \n3             Point  2022-02-23T10:28:13.661462Z 2014-12-31 03:00:00   \n4             Point  2022-02-23T10:28:13.120957Z 2014-12-30 12:00:00   \n...             ...                          ...                 ...   \n16301         Point  2022-02-23T09:33:02.397711Z 2005-01-01 12:00:00   \n16302         Point  2022-02-23T09:33:02.394710Z 2005-01-01 09:00:00   \n16303         Point  2022-02-23T09:33:02.391423Z 2005-01-01 06:00:00   \n16304         Point  2022-02-23T09:33:02.388680Z 2005-01-01 03:00:00   \n16305         Point  2022-02-23T09:33:02.384607Z 2005-01-01 00:00:00   \n\n      properties.parameterId properties.stationId  properties.value  \n0                    weather                06180              50.0  \n1                    weather                06180              20.0  \n2                    weather                06180              51.0  \n3                    weather                06180              51.0  \n4                    weather                06180              10.0  \n...                      ...                  ...               ...  \n16301                weather                06180              10.0  \n16302                weather                06180              10.0  \n16303                weather                06180               2.0  \n16304                weather                06180              46.0  \n16305                weather                06180              46.0  \n\n[16306 rows x 9 columns]",
      "text/html": "<div>\n<style scoped>\n    .dataframe tbody tr th:only-of-type {\n        vertical-align: middle;\n    }\n\n    .dataframe tbody tr th {\n        vertical-align: top;\n    }\n\n    .dataframe thead th {\n        text-align: right;\n    }\n</style>\n<table border=\"1\" class=\"dataframe\">\n  <thead>\n    <tr style=\"text-align: right;\">\n      <th></th>\n      <th>id</th>\n      <th>type</th>\n      <th>geometry.coordinates</th>\n      <th>geometry.type</th>\n      <th>properties.created</th>\n      <th>properties.observed</th>\n      <th>properties.parameterId</th>\n      <th>properties.stationId</th>\n      <th>properties.value</th>\n    </tr>\n  </thead>\n  <tbody>\n    <tr>\n      <th>0</th>\n      <td>e6b49309-6dd0-722e-4d43-8a1b0701cd22</td>\n      <td>Feature</td>\n      <td>[12.6455, 55.614]</td>\n      <td>Point</td>\n      <td>2022-02-23T10:28:14.042845Z</td>\n      <td>2014-12-31 12:00:00</td>\n      <td>weather</td>\n      <td>06180</td>\n      <td>50.0</td>\n    </tr>\n    <tr>\n      <th>1</th>\n      <td>951da309-2c8e-1452-55cf-3dc12e132d99</td>\n      <td>Feature</td>\n      <td>[12.6455, 55.614]</td>\n      <td>Point</td>\n      <td>2022-02-23T10:28:13.913948Z</td>\n      <td>2014-12-31 09:00:00</td>\n      <td>weather</td>\n      <td>06180</td>\n      <td>20.0</td>\n    </tr>\n    <tr>\n      <th>2</th>\n      <td>4e16c0a7-8a5b-3036-7095-2723ac06fefb</td>\n      <td>Feature</td>\n      <td>[12.6455, 55.614]</td>\n      <td>Point</td>\n      <td>2022-02-23T10:28:13.827101Z</td>\n      <td>2014-12-31 06:00:00</td>\n      <td>weather</td>\n      <td>06180</td>\n      <td>51.0</td>\n    </tr>\n    <tr>\n      <th>3</th>\n      <td>432d075c-b9be-465a-dfbe-0439e855272e</td>\n      <td>Feature</td>\n      <td>[12.6455, 55.614]</td>\n      <td>Point</td>\n      <td>2022-02-23T10:28:13.661462Z</td>\n      <td>2014-12-31 03:00:00</td>\n      <td>weather</td>\n      <td>06180</td>\n      <td>51.0</td>\n    </tr>\n    <tr>\n      <th>4</th>\n      <td>58d6bb1f-92c2-2df5-36fd-26cdfcbedaa8</td>\n      <td>Feature</td>\n      <td>[12.6455, 55.614]</td>\n      <td>Point</td>\n      <td>2022-02-23T10:28:13.120957Z</td>\n      <td>2014-12-30 12:00:00</td>\n      <td>weather</td>\n      <td>06180</td>\n      <td>10.0</td>\n    </tr>\n    <tr>\n      <th>...</th>\n      <td>...</td>\n      <td>...</td>\n      <td>...</td>\n      <td>...</td>\n      <td>...</td>\n      <td>...</td>\n      <td>...</td>\n      <td>...</td>\n      <td>...</td>\n    </tr>\n    <tr>\n      <th>16301</th>\n      <td>37696507-a1ca-2796-c695-4b42f936a51c</td>\n      <td>Feature</td>\n      <td>[12.6455, 55.614]</td>\n      <td>Point</td>\n      <td>2022-02-23T09:33:02.397711Z</td>\n      <td>2005-01-01 12:00:00</td>\n      <td>weather</td>\n      <td>06180</td>\n      <td>10.0</td>\n    </tr>\n    <tr>\n      <th>16302</th>\n      <td>c0f91da4-99ef-7eea-4853-26f9c0f99766</td>\n      <td>Feature</td>\n      <td>[12.6455, 55.614]</td>\n      <td>Point</td>\n      <td>2022-02-23T09:33:02.394710Z</td>\n      <td>2005-01-01 09:00:00</td>\n      <td>weather</td>\n      <td>06180</td>\n      <td>10.0</td>\n    </tr>\n    <tr>\n      <th>16303</th>\n      <td>c71b653c-84d9-dfc0-34b1-005c4a5c3b9c</td>\n      <td>Feature</td>\n      <td>[12.6455, 55.614]</td>\n      <td>Point</td>\n      <td>2022-02-23T09:33:02.391423Z</td>\n      <td>2005-01-01 06:00:00</td>\n      <td>weather</td>\n      <td>06180</td>\n      <td>2.0</td>\n    </tr>\n    <tr>\n      <th>16304</th>\n      <td>166379dd-2aa4-8914-20d2-9aafdea39d36</td>\n      <td>Feature</td>\n      <td>[12.6455, 55.614]</td>\n      <td>Point</td>\n      <td>2022-02-23T09:33:02.388680Z</td>\n      <td>2005-01-01 03:00:00</td>\n      <td>weather</td>\n      <td>06180</td>\n      <td>46.0</td>\n    </tr>\n    <tr>\n      <th>16305</th>\n      <td>3ee32575-bfa3-76d8-322a-4a213d70f666</td>\n      <td>Feature</td>\n      <td>[12.6455, 55.614]</td>\n      <td>Point</td>\n      <td>2022-02-23T09:33:02.384607Z</td>\n      <td>2005-01-01 00:00:00</td>\n      <td>weather</td>\n      <td>06180</td>\n      <td>46.0</td>\n    </tr>\n  </tbody>\n</table>\n<p>16306 rows × 9 columns</p>\n</div>"
     },
     "metadata": {}
    }
   ]
  },
  {
   "cell_type": "code",
   "metadata": {
    "cell_id": "cdcb74bb68114117a7456d5fc6890f18",
    "tags": [],
    "deepnote_to_be_reexecuted": false,
    "source_hash": "513642c6",
    "execution_start": 1651043025038,
    "execution_millis": 44,
    "deepnote_cell_type": "code",
    "deepnote_cell_height": 708,
    "deepnote_output_heights": [
     611
    ]
   },
   "source": "df_weather['properties.value'].unique()",
   "execution_count": null,
   "outputs": [
    {
     "output_type": "execute_result",
     "execution_count": 10,
     "data": {
      "text/plain": "array([ 5.00e+00,  5.20e+00,  5.50e+00,  5.80e+00,  5.10e+00,  6.10e+00,\n        7.00e+00,  7.50e+00,  7.30e+00,  7.20e+00,  7.10e+00,  6.50e+00,\n        4.90e+00,  4.50e+00,  4.00e+00,  3.90e+00,  3.70e+00,  3.50e+00,\n        3.60e+00,  3.30e+00,  2.90e+00,  3.10e+00,  3.00e+00,  2.80e+00,\n        2.40e+00,  2.10e+00,  2.00e+00,  1.50e+00,  1.20e+00,  9.00e-01,\n        8.00e-01,  7.00e-01,  6.00e-01,  3.00e-01, -2.00e-01, -8.00e-01,\n       -1.10e+00, -1.70e+00, -2.60e+00, -3.70e+00, -4.20e+00, -3.40e+00,\n       -3.30e+00, -4.70e+00, -4.80e+00, -5.90e+00, -5.70e+00, -5.60e+00,\n       -4.10e+00, -2.90e+00, -1.50e+00, -2.20e+00, -1.90e+00, -2.30e+00,\n       -2.50e+00, -1.60e+00, -4.60e+00, -4.50e+00, -3.20e+00, -3.00e+00,\n       -2.10e+00, -1.80e+00, -1.00e+00, -4.00e-01,  1.00e-01,  5.00e-01,\n       -3.00e-01,  1.10e+00,  2.00e-01,  1.00e+00,  0.00e+00, -1.20e+00,\n       -1.30e+00, -1.40e+00, -3.90e+00, -5.10e+00, -6.00e+00, -6.90e+00,\n       -7.60e+00, -7.00e+00, -7.20e+00, -6.30e+00, -6.40e+00, -5.30e+00,\n       -3.50e+00, -2.80e+00, -2.40e+00, -2.00e+00, -9.00e-01, -7.00e-01,\n       -5.00e-01, -1.00e-01,  1.60e+00,  4.30e+00,  4.20e+00,  4.40e+00,\n        4.70e+00,  4.80e+00,  4.60e+00,  5.60e+00,  5.70e+00,  5.90e+00,\n        5.40e+00,  5.30e+00,  6.00e+00,  6.30e+00,  7.40e+00,  7.80e+00,\n        7.70e+00,  6.80e+00,  6.90e+00,  8.00e+00,  8.40e+00,  8.50e+00,\n        8.80e+00,  8.90e+00,  9.10e+00,  9.20e+00,  9.50e+00,  9.70e+00,\n        9.60e+00,  8.20e+00,  6.40e+00,  6.20e+00,  3.40e+00,  3.80e+00,\n        2.70e+00,  3.20e+00,  1.30e+00,  7.90e+00,  8.10e+00,  1.03e+01,\n        1.01e+01,  9.90e+00,  9.30e+00,  9.00e+00,  8.70e+00,  4.10e+00,\n        6.60e+00,  2.50e+00,  2.30e+00,  1.80e+00,  1.70e+00,  6.70e+00,\n        2.60e+00,  1.90e+00,  1.40e+00,  2.20e+00,  8.30e+00,  8.60e+00,\n        7.60e+00,  9.40e+00,  9.80e+00,  1.00e+01,  1.02e+01,  1.04e+01,\n        1.05e+01,  1.06e+01,  1.07e+01,  1.09e+01,  1.12e+01,  1.14e+01,\n        1.15e+01,  1.16e+01,  1.17e+01,  1.13e+01,  1.11e+01,  1.08e+01,\n        1.10e+01,  1.18e+01,  1.21e+01,  1.22e+01,  1.32e+01,  1.30e+01,\n        1.28e+01,  1.33e+01,  1.34e+01,  1.26e+01,  1.24e+01,  1.25e+01,\n        1.31e+01,  1.36e+01,  1.39e+01,  1.29e+01,  1.27e+01,  1.40e+01,\n        1.37e+01,  1.23e+01,  1.20e+01,  1.19e+01,  1.35e+01,  1.38e+01,\n        1.42e+01,  1.44e+01,  1.50e+01,  1.43e+01,  1.41e+01,  1.45e+01,\n        1.49e+01,  1.52e+01,  1.53e+01,  1.55e+01,  1.48e+01,  1.51e+01,\n        1.46e+01,  1.47e+01,  1.54e+01,  1.61e+01,  1.63e+01,  1.60e+01,\n        1.58e+01,  1.62e+01,  1.57e+01,  1.56e+01,  1.67e+01,  1.70e+01,\n        1.74e+01,  1.71e+01,  1.59e+01,  1.65e+01,  1.69e+01,  1.68e+01,\n        1.64e+01,  1.66e+01,  1.81e+01,  1.76e+01,  1.78e+01,  1.73e+01,\n        1.72e+01,  1.75e+01,  1.77e+01,  1.89e+01,  1.99e+01,  2.01e+01,\n        2.04e+01,  1.98e+01,  1.82e+01,  1.85e+01,  1.94e+01,  2.00e+01,\n        2.03e+01,  1.92e+01,  1.96e+01,  1.91e+01,  1.95e+01,  1.93e+01,\n        1.86e+01,  1.88e+01,  1.84e+01,  1.80e+01,  1.83e+01,  1.87e+01,\n        1.79e+01,  1.90e+01,  2.08e+01,  2.14e+01,  2.17e+01,  2.19e+01,\n        2.15e+01,  2.02e+01,  2.07e+01,  2.09e+01,  2.10e+01,  2.05e+01,\n        1.97e+01,  2.18e+01,  2.21e+01,  2.11e+01,  2.16e+01,  2.13e+01,\n        2.06e+01,  2.20e+01,  2.24e+01,  2.27e+01,  2.33e+01,  2.35e+01,\n        2.28e+01,  2.29e+01,  2.31e+01,  2.26e+01,  2.22e+01,  2.25e+01,\n        2.23e+01,  2.12e+01,  2.53e+01,  2.59e+01,  2.54e+01,  2.50e+01,\n        2.48e+01,  2.51e+01,  2.42e+01,  2.43e+01,  2.56e+01,  2.46e+01,\n        2.30e+01,  2.34e+01,  2.36e+01,  2.40e+01,  2.39e+01,  2.37e+01,\n        2.32e+01,  2.38e+01,  2.52e+01,  2.65e+01,  2.71e+01,  2.74e+01,\n        2.76e+01,  2.69e+01,  2.58e+01,  2.45e+01,  2.49e+01,  2.55e+01,\n        2.81e+01,  2.78e+01,  2.79e+01,  2.68e+01,  2.44e+01,  2.47e+01,\n        2.41e+01,  2.66e+01,  2.83e+01,  2.85e+01,  2.73e+01,  2.64e+01,\n        2.67e+01,  2.70e+01,  2.63e+01,  2.60e+01,  2.57e+01,  2.62e+01,\n        2.80e+01,  2.61e+01,  2.77e+01,  4.00e-01, -6.00e-01, -2.70e+00,\n       -4.00e+00, -3.80e+00, -3.60e+00, -4.90e+00, -5.00e+00, -4.40e+00,\n       -4.30e+00, -3.10e+00, -5.80e+00, -5.50e+00, -6.20e+00, -6.10e+00,\n       -5.20e+00,  2.90e+01,  2.91e+01,  2.75e+01, -6.70e+00, -6.60e+00,\n       -6.80e+00, -6.50e+00, -5.40e+00, -8.70e+00, -8.40e+00, -9.10e+00,\n       -8.60e+00, -8.10e+00, -8.80e+00, -7.50e+00, -7.10e+00, -7.30e+00,\n        2.96e+01,  3.03e+01, -8.00e+00, -8.20e+00, -8.50e+00, -7.90e+00,\n       -7.70e+00, -9.90e+00, -8.90e+00, -9.70e+00, -9.30e+00, -9.50e+00,\n       -7.40e+00, -9.20e+00, -9.60e+00, -1.02e+01, -1.06e+01, -1.12e+01,\n       -1.08e+01, -1.09e+01, -1.05e+01, -1.00e+01, -7.80e+00, -9.40e+00,\n       -9.00e+00, -1.16e+01, -1.04e+01, -8.30e+00, -9.80e+00,  2.82e+01,\n        2.88e+01,  2.72e+01, -1.07e+01, -1.20e+01, -1.26e+01, -1.22e+01,\n       -1.14e+01,  2.86e+01,  2.84e+01, -1.03e+01, -1.24e+01, -1.28e+01,\n       -1.25e+01, -1.18e+01, -1.15e+01, -1.13e+01,  2.87e+01,  2.92e+01,\n        2.89e+01,  3.02e+01,  2.99e+01,  2.97e+01,  3.01e+01,  3.05e+01,\n        3.16e+01,  3.00e+01, -1.01e+01,  2.98e+01,  2.95e+01,  3.11e+01,\n        3.10e+01,  3.09e+01,  2.93e+01,  2.94e+01,  2.60e+02,  2.68e+02,\n        2.66e+02,  2.69e+02,  2.77e+02,  2.71e+02,  2.76e+02,  2.79e+02,\n        2.86e+02,  2.95e+02,  2.96e+02,  3.04e+02,  2.98e+02,  2.70e+02,\n        2.50e+02,  2.53e+02,  2.57e+02,  2.51e+02,  2.52e+02,  2.48e+02,\n        2.44e+02,  2.45e+02,  2.54e+02,  2.43e+02,  2.42e+02,  2.33e+02,\n        2.27e+02,  2.19e+02,  2.10e+02,  2.17e+02,  2.23e+02,  2.21e+02,\n        2.14e+02,  2.12e+02,  2.08e+02,  2.09e+02,  2.11e+02,  2.32e+02,\n        2.55e+02,  2.58e+02,  2.47e+02,  2.82e+02,  3.29e+02,  5.20e+01,\n        5.30e+01,  4.40e+01,  4.70e+01,  5.80e+01,  6.60e+01,  7.00e+01,\n        7.40e+01,  8.80e+01,  1.07e+02,  1.21e+02,  1.34e+02,  2.91e+02,\n        2.85e+02,  2.72e+02,  3.25e+02,  3.31e+02,  3.36e+02,  3.30e+02,\n        3.20e+02,  3.59e+02,  4.00e+01,  3.40e+01,  4.10e+01,  4.50e+01,\n        5.10e+01,  4.80e+01,  5.70e+01,  3.11e+02,  2.67e+02,  2.03e+02,\n        3.07e+02,  2.73e+02,  2.28e+02,  2.35e+02,  2.15e+02,  2.16e+02,\n        2.07e+02,  2.13e+02,  2.22e+02,  2.25e+02,  2.36e+02,  2.26e+02,\n        2.64e+02,  2.89e+02,  2.93e+02,  3.03e+02,  3.01e+02,  3.02e+02,\n        3.38e+02,  3.80e+01,  3.30e+01,  3.20e+01,  4.30e+01,  5.90e+01,\n        6.40e+01,  7.10e+01,  7.80e+01,  8.10e+01,  8.40e+01,  7.20e+01,\n        3.60e+02,  2.74e+02,  2.63e+02,  2.92e+02,  3.00e+02,  3.43e+02,\n        1.54e+02,  1.57e+02,  2.02e+02,  1.99e+02,  2.24e+02,  2.37e+02,\n        2.46e+02,  2.49e+02,  2.59e+02,  2.56e+02,  2.61e+02,  2.65e+02,\n        2.78e+02,  2.80e+02,  2.62e+02,  2.40e+02,  2.34e+02,  2.81e+02,\n        2.84e+02,  2.83e+02,  2.94e+02,  2.99e+02,  2.97e+02,  2.39e+02,\n        2.30e+02,  2.31e+02,  2.18e+02,  2.04e+02,  1.97e+02,  2.00e+02,\n        2.41e+02,  2.38e+02,  2.01e+02,  2.05e+02,  2.06e+02,  2.20e+02,\n        1.90e+02,  1.72e+02,  1.68e+02,  1.85e+02,  1.93e+02,  1.89e+02,\n        1.92e+02,  1.88e+02,  2.87e+02,  1.81e+02,  1.64e+02,  1.56e+02,\n        1.48e+02,  1.38e+02,  1.14e+02,  1.09e+02,  1.12e+02,  1.15e+02,\n        1.20e+02,  1.24e+02,  1.16e+02,  9.00e+01,  8.60e+01,  8.70e+01,\n        8.90e+01,  9.30e+01,  1.22e+02,  1.28e+02,  1.33e+02,  1.36e+02,\n        1.25e+02,  1.23e+02,  6.30e+01,  9.40e+01,  8.30e+01,  6.20e+01,\n        5.40e+01,  8.00e+01,  6.10e+01,  4.60e+01,  7.60e+01,  9.90e+01,\n        9.70e+01,  1.10e+02,  1.01e+02,  1.08e+02,  1.18e+02,  1.26e+02,\n        1.04e+02,  1.03e+02,  1.05e+02,  1.06e+02,  1.00e+02,  1.11e+02,\n        9.80e+01,  9.60e+01,  1.27e+02,  1.31e+02,  1.30e+02,  1.29e+02,\n        1.32e+02,  1.02e+02,  1.13e+02,  1.19e+02,  9.20e+01,  9.10e+01,\n        9.50e+01,  1.53e+02,  1.35e+02,  8.50e+01,  1.39e+02,  3.05e+02,\n        3.14e+02,  2.90e+02,  2.88e+02,  2.29e+02,  1.82e+02,  1.75e+02,\n        1.66e+02,  1.55e+02,  1.52e+02,  1.49e+02,  1.46e+02,  1.41e+02,\n        1.37e+02,  1.40e+02,  1.42e+02,  1.43e+02,  1.45e+02,  1.50e+02,\n        1.63e+02,  1.67e+02,  1.69e+02,  1.60e+02,  1.59e+02,  8.20e+01,\n        7.30e+01,  6.50e+01,  5.50e+01,  6.00e+01,  5.00e+01,  4.20e+01,\n        4.90e+01,  5.60e+01,  7.70e+01,  1.47e+02,  1.58e+02,  1.77e+02,\n        1.96e+02,  1.78e+02,  1.74e+02,  1.83e+02,  1.73e+02,  1.87e+02,\n        1.44e+02,  1.65e+02,  1.71e+02,  1.95e+02,  1.86e+02,  1.70e+02,\n        1.84e+02,  1.62e+02,  1.17e+02,  3.09e+02,  2.75e+02,  3.33e+02,\n        3.54e+02,  6.90e+01,  6.80e+01,  3.90e+01,  3.37e+02,  1.91e+02,\n        1.76e+02,  1.79e+02,  1.80e+02,  1.94e+02,  1.98e+02,  1.51e+02,\n        3.17e+02,  3.23e+02,  3.41e+02,  3.35e+02,  1.61e+02,  7.50e+01,\n        3.70e+01,  3.50e+01,  7.90e+01,  3.56e+02,  3.39e+02,  3.32e+02,\n        3.55e+02,  3.48e+02,  3.34e+02,  3.28e+02,  3.26e+02,  3.19e+02,\n        3.12e+02,  6.70e+01,  3.60e+01,  3.57e+02,  3.50e+02,  3.44e+02,\n        3.22e+02,  3.49e+02,  3.58e+02,  3.53e+02,  3.15e+02,  3.08e+02,\n        3.06e+02,  3.51e+02,  3.42e+02,  3.27e+02,  3.46e+02,  3.52e+02,\n        3.13e+02,  3.10e+02,  3.47e+02,  3.24e+02,  3.21e+02,  3.40e+02,\n        3.45e+02,  3.18e+02,  3.16e+02,  4.19e+01,  3.32e+01,  5.27e+01,\n        8.18e+01])"
     },
     "metadata": {}
    }
   ]
  },
  {
   "cell_type": "code",
   "metadata": {
    "cell_id": "10153bef4f30423988c2cd23a08fc149",
    "tags": [],
    "deepnote_to_be_reexecuted": false,
    "source_hash": "4e118d23",
    "execution_start": 1651042744705,
    "execution_millis": 517,
    "deepnote_cell_type": "code",
    "deepnote_cell_height": 137,
    "deepnote_output_heights": [
     40
    ]
   },
   "source": "df_weather['properties.parameterId'].unique()",
   "execution_count": null,
   "outputs": [
    {
     "output_type": "execute_result",
     "execution_count": 8,
     "data": {
      "text/plain": "array(['temp_mean_past1h', 'wind_dir_past1h', 'wind_speed_past1h',\n       'precip_past1h', 'weather'], dtype=object)"
     },
     "metadata": {}
    }
   ]
  },
  {
   "cell_type": "markdown",
   "source": "<a style='text-decoration:none;line-height:16px;display:flex;color:#5B5B62;padding:10px;justify-content:end;' href='https://deepnote.com?utm_source=created-in-deepnote-cell&projectId=61ec0a5b-e327-402f-95c1-91c4aeb91c25' target=\"_blank\">\n<img alt='Created in deepnote.com' style='display:inline;max-height:16px;margin:0px;margin-right:7.5px;' src='data:image/svg+xml;base64,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' > </img>\nCreated in <span style='font-weight:600;margin-left:4px;'>Deepnote</span></a>",
   "metadata": {
    "tags": [],
    "created_in_deepnote_cell": true,
    "deepnote_cell_type": "markdown"
   }
  }
 ],
 "nbformat": 4,
 "nbformat_minor": 2,
 "metadata": {
  "orig_nbformat": 2,
  "deepnote": {
   "is_reactive": false
  },
  "deepnote_notebook_id": "3d7d5d12-bb9b-4f47-aef7-ad3ed1e6d099",
  "deepnote_execution_queue": []
 }
}